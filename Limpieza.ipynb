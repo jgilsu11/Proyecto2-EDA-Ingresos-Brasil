{
 "cells": [
  {
   "cell_type": "code",
   "execution_count": 1,
   "metadata": {},
   "outputs": [],
   "source": [
    "import pandas as pd\n",
    "import numpy as np\n",
    "from datetime import datetime\n",
    "import matplotlib.pyplot as plt   #Esto es para poder hacer gráficos\n",
    "import seaborn as sns\n",
    "import re"
   ]
  },
  {
   "cell_type": "markdown",
   "metadata": {},
   "source": [
    "**Resumen de Limpieza:**  \n",
    "  \n",
    "  \n",
    "***Homogeneización y Transformación:***\n",
    "- Pasamos a minúscula y eliminamos los espacios de los títulos de las columnas\n",
    "- Pasamos los ingresos y porcentaje de object a float y la fecha la pasamos de object y de estar heterogenea a datetime y homogeneizada (2016 y 2019).   \n",
    "\n",
    "\n",
    "***Tratamiento de DUPLICADOS:***  \n",
    "\n",
    "\n",
    "- Despues de haber concatenado los Data Frames eliminamos los duplicados e hicimos un rest index para tener los índices correctamente.  \n",
    "\n",
    "\n",
    "***Tratamiento de NULOS:***\n",
    "\n",
    "Dado que la porporcion de nulos llega al 0,8%, merecería la pena eliminarlos y quedarnos con el otro 99,2% pues la pérdida de información no sería masiva.\n",
    "Pero debido a que se elimina la fila entera, realmente esto supondría perder el 13% de las celdas. Lo que creo que se puede asumir.\n",
    "\n",
    "\n",
    "Esta asunción, se debe a que la opción de rellenar los nulos en los valores numéricos con la media o mediana, aunque es verdad que no afectaría a la media y la mediana, si que perderíamos tanto la información sobre cómo se distribuyen como también  crearía una distorsión en las sumas totales.  \n",
    "\n",
    "14.276.416 celdas completas de info sin ningun nan   \n",
    "16.418.208 celdas totales (contando nulos)  \n",
    "Perdemos 13% de las celdas.          \n",
    "\n",
    "\n",
    "\n",
    "- Hemos tomado los datos nulos y los hemos sumado a la categoría de Sem información. De esta forma no asumimos la categoría ya que no tenemos la certeza de donde puede venir (varible categoría económica/variable origem receita/)\n",
    "\n",
    "- Hemos imputado valores de las 6 primeras columnas (códigos-nombres) haciendo uso de la relación que llevan coódigo-nombre. \n",
    "\n",
    "- En las primeras 6 columnas creamos un nuevo valor (Sem informacion) debido a que aun habiendo imputado, quedan algunos datos nulos.Con las que eran de código como tenian tipo float no podíamos meter un object así que metimos el código 0000 para identificar los desconocidos.\n",
    "\n",
    "\n",
    "- Hemos decidido eliminar la columna de 'Percentual Realizado' y hacer una columna nueva (Porcentaje Ejecutado). De esta forma pudimos sacar el porcentaje de manera manual, y recuperar unos 30,000 valores perdidos.\n",
    "\n",
    "- También rellenamos los nulos del año de ejercicio ya que cada dataframe solo tendría su propio año.\n",
    "\n",
    "- Finalmente hicimos un dropna para eliminar los nulos de los ingresos y un rest index\n",
    "\n"
   ]
  },
  {
   "cell_type": "markdown",
   "metadata": {},
   "source": [
    "***FASE 2: UNIÓN Y LIMPIEZA DE DATOS***"
   ]
  },
  {
   "cell_type": "code",
   "execution_count": 2,
   "metadata": {},
   "outputs": [],
   "source": [
    "df_13= pd.read_csv(\"datos/datos-2013.csv\", sep= \";\")\n",
    "pd.set_option(\"display.max_columns\", None)\n",
    "df_14= pd.read_csv(\"datos/datos-2014.csv\", sep= \";\")\n",
    "pd.set_option(\"display.max_columns\", None)\n",
    "df_15= pd.read_csv(\"datos/datos-2015.csv\", sep= \";\")\n",
    "pd.set_option(\"display.max_columns\", None)\n",
    "df_16= pd.read_csv(\"datos/datos-2016.csv\", sep= \";\")\n",
    "pd.set_option(\"display.max_columns\", None)\n",
    "df_17= pd.read_csv(\"datos/datos-2017.csv\", sep= \";\")\n",
    "pd.set_option(\"display.max_columns\", None)\n",
    "df_18= pd.read_csv(\"datos/datos-2018.csv\", sep= \";\")\n",
    "pd.set_option(\"display.max_columns\", None)\n",
    "df_19= pd.read_csv(\"datos/datos-2019.csv\", sep= \";\")\n",
    "pd.set_option(\"display.max_columns\", None)\n",
    "df_20= pd.read_csv(\"datos/datos-2020.csv\", sep= \";\")\n",
    "pd.set_option(\"display.max_columns\", None)\n",
    "df_21= pd.read_csv(\"datos/datos-2021.csv\", sep= \";\")\n",
    "pd.set_option(\"display.max_columns\", None)\n",
    "#Falta abrir el diccionario de datos\n"
   ]
  },
  {
   "cell_type": "code",
   "execution_count": 3,
   "metadata": {},
   "outputs": [
    {
     "name": "stderr",
     "output_type": "stream",
     "text": [
      "C:\\Users\\jaime\\AppData\\Local\\Temp\\ipykernel_12456\\3123453317.py:1: ParserWarning: Falling back to the 'python' engine because the 'c' engine does not support regex separators (separators > 1 char and different from '\\s+' are interpreted as regex); you can avoid this warning by specifying engine='python'.\n",
      "  df_dicc= pd.read_csv(\"datos/diccionario_datos.csv\", sep= \";;\", encoding= \"latin-1\")\n"
     ]
    }
   ],
   "source": [
    "df_dicc= pd.read_csv(\"datos/diccionario_datos.csv\", sep= \";;\", encoding= \"latin-1\")\n",
    "pd.set_option(\"display.max_columns\", None)"
   ]
  },
  {
   "cell_type": "code",
   "execution_count": 4,
   "metadata": {},
   "outputs": [],
   "source": [
    "df_13.columns = [name.lower().strip() for name in df_13.columns]                        \n",
    "df_14.columns = [name.lower().strip() for name in df_14.columns] \n",
    "df_15.columns = [name.lower().strip() for name in df_15.columns] \n",
    "df_16.columns = [name.lower().strip() for name in df_16.columns] \n",
    "df_17.columns = [name.lower().strip() for name in df_17.columns] \n",
    "df_18.columns = [name.lower().strip() for name in df_18.columns] \n",
    "df_19.columns = [name.lower().strip() for name in df_19.columns] \n",
    "df_20.columns = [name.lower().strip() for name in df_20.columns] \n",
    "df_21.columns = [name.lower().strip() for name in df_21.columns] #Cambios de nombre en todas las columnas de todos los df"
   ]
  },
  {
   "cell_type": "markdown",
   "metadata": {},
   "source": [
    "**COSAS PARA REPETIR EN TODAS**"
   ]
  },
  {
   "cell_type": "code",
   "execution_count": 5,
   "metadata": {},
   "outputs": [
    {
     "name": "stderr",
     "output_type": "stream",
     "text": [
      "C:\\Users\\jaime\\AppData\\Local\\Temp\\ipykernel_12456\\910466304.py:1: FutureWarning: Series.fillna with 'method' is deprecated and will raise in a future version. Use obj.ffill() or obj.bfill() instead.\n",
      "  df_13['nome órgão superior'] = df_13.groupby('código órgão superior')['nome órgão superior'].transform(lambda x: x.fillna(method='ffill'))\n",
      "C:\\Users\\jaime\\AppData\\Local\\Temp\\ipykernel_12456\\910466304.py:1: FutureWarning: Downcasting object dtype arrays on .fillna, .ffill, .bfill is deprecated and will change in a future version. Call result.infer_objects(copy=False) instead. To opt-in to the future behavior, set `pd.set_option('future.no_silent_downcasting', True)`\n",
      "  df_13['nome órgão superior'] = df_13.groupby('código órgão superior')['nome órgão superior'].transform(lambda x: x.fillna(method='ffill'))\n",
      "C:\\Users\\jaime\\AppData\\Local\\Temp\\ipykernel_12456\\910466304.py:5: UserWarning: Parsing dates in %d/%m/%Y format when dayfirst=False (the default) was specified. Pass `dayfirst=True` or specify a format to silence this warning.\n",
      "  df_13[\"data lançamento\"] = pd.to_datetime(df_13[\"data lançamento\"])\n"
     ]
    },
    {
     "name": "stdout",
     "output_type": "stream",
     "text": [
      "<class 'pandas.core.series.Series'>\n",
      "RangeIndex: 4498 entries, 0 to 4497\n",
      "Series name: nome órgão superior\n",
      "Non-Null Count  Dtype \n",
      "--------------  ----- \n",
      "4263 non-null   object\n",
      "dtypes: object(1)\n",
      "memory usage: 35.3+ KB\n"
     ]
    }
   ],
   "source": [
    "\n",
    "df_13['nome órgão superior'] = df_13.groupby('código órgão superior')['nome órgão superior'].transform(lambda x: x.fillna(method='ffill'))\n",
    "df_13['nome órgão superior'].info() #Columna codigo y nombre\n",
    "\n",
    "\n",
    "df_13[\"data lançamento\"] = pd.to_datetime(df_13[\"data lançamento\"]) \n",
    "df_13[\"data lançamento\"]  #cambio a fecha\n",
    "\n",
    "df_13[\"valor realizado\"]= df_13[\"valor realizado\"].str.replace(\",\",\".\")\n",
    "df_13[\"valor realizado\"] = list(map(float, df_13[\"valor realizado\"]))\n",
    "df_13[\"valor lançado\"]= df_13[\"valor lançado\"].str.replace(\",\",\".\")\n",
    "df_13[\"valor lançado\"] = list(map(float, df_13[\"valor lançado\"]))\n",
    "df_13[\"valor previsto atualizado\"]= df_13[\"valor previsto atualizado\"].str.replace(\",\",\".\")\n",
    "df_13[\"valor previsto atualizado\"] = list(map(float, df_13[\"valor previsto atualizado\"]))\n",
    "df_13[\"percentual realizado\"]= df_13[\"percentual realizado\"].str.replace(\",\",\".\")\n",
    "df_13[\"percentual realizado\"] = list(map(float, df_13[\"percentual realizado\"]))    #cambio a float\n",
    "\n"
   ]
  },
  {
   "cell_type": "code",
   "execution_count": 6,
   "metadata": {},
   "outputs": [
    {
     "name": "stdout",
     "output_type": "stream",
     "text": [
      "<class 'pandas.core.series.Series'>\n",
      "RangeIndex: 4553 entries, 0 to 4552\n",
      "Series name: nome órgão superior\n",
      "Non-Null Count  Dtype \n",
      "--------------  ----- \n",
      "4325 non-null   object\n",
      "dtypes: object(1)\n",
      "memory usage: 35.7+ KB\n"
     ]
    },
    {
     "name": "stderr",
     "output_type": "stream",
     "text": [
      "C:\\Users\\jaime\\AppData\\Local\\Temp\\ipykernel_12456\\2339529443.py:1: FutureWarning: Series.fillna with 'method' is deprecated and will raise in a future version. Use obj.ffill() or obj.bfill() instead.\n",
      "  df_14['nome órgão superior'] = df_14.groupby('código órgão superior')['nome órgão superior'].transform(lambda x: x.fillna(method='ffill'))\n",
      "C:\\Users\\jaime\\AppData\\Local\\Temp\\ipykernel_12456\\2339529443.py:5: UserWarning: Parsing dates in %d/%m/%Y format when dayfirst=False (the default) was specified. Pass `dayfirst=True` or specify a format to silence this warning.\n",
      "  df_14[\"data lançamento\"] = pd.to_datetime(df_14[\"data lançamento\"])\n"
     ]
    }
   ],
   "source": [
    "df_14['nome órgão superior'] = df_14.groupby('código órgão superior')['nome órgão superior'].transform(lambda x: x.fillna(method='ffill'))\n",
    "df_14['nome órgão superior'].info() #Columna codigo y nombre\n",
    "\n",
    "\n",
    "df_14[\"data lançamento\"] = pd.to_datetime(df_14[\"data lançamento\"]) \n",
    "df_14[\"data lançamento\"]  #cambio a fecha\n",
    "\n",
    "df_14[\"valor realizado\"]= df_14[\"valor realizado\"].str.replace(\",\",\".\")\n",
    "df_14[\"valor realizado\"] = list(map(float, df_14[\"valor realizado\"]))\n",
    "df_14[\"valor lançado\"]= df_14[\"valor lançado\"].str.replace(\",\",\".\")\n",
    "df_14[\"valor lançado\"] = list(map(float, df_14[\"valor lançado\"]))\n",
    "df_14[\"valor previsto atualizado\"]= df_14[\"valor previsto atualizado\"].str.replace(\",\",\".\")\n",
    "df_14[\"valor previsto atualizado\"] = list(map(float, df_14[\"valor previsto atualizado\"]))\n",
    "df_14[\"percentual realizado\"]= df_14[\"percentual realizado\"].str.replace(\",\",\".\")\n",
    "df_14[\"percentual realizado\"] = list(map(float, df_14[\"percentual realizado\"]))    #cambio a float"
   ]
  },
  {
   "cell_type": "code",
   "execution_count": 7,
   "metadata": {},
   "outputs": [
    {
     "name": "stdout",
     "output_type": "stream",
     "text": [
      "<class 'pandas.core.series.Series'>\n",
      "RangeIndex: 4523 entries, 0 to 4522\n",
      "Series name: nome órgão superior\n",
      "Non-Null Count  Dtype \n",
      "--------------  ----- \n",
      "4308 non-null   object\n",
      "dtypes: object(1)\n",
      "memory usage: 35.5+ KB\n"
     ]
    },
    {
     "name": "stderr",
     "output_type": "stream",
     "text": [
      "C:\\Users\\jaime\\AppData\\Local\\Temp\\ipykernel_12456\\192372322.py:1: FutureWarning: Series.fillna with 'method' is deprecated and will raise in a future version. Use obj.ffill() or obj.bfill() instead.\n",
      "  df_15['nome órgão superior'] = df_15.groupby('código órgão superior')['nome órgão superior'].transform(lambda x: x.fillna(method='ffill'))\n",
      "C:\\Users\\jaime\\AppData\\Local\\Temp\\ipykernel_12456\\192372322.py:5: UserWarning: Parsing dates in %d/%m/%Y format when dayfirst=False (the default) was specified. Pass `dayfirst=True` or specify a format to silence this warning.\n",
      "  df_15[\"data lançamento\"] = pd.to_datetime(df_15[\"data lançamento\"])\n"
     ]
    }
   ],
   "source": [
    "df_15['nome órgão superior'] = df_15.groupby('código órgão superior')['nome órgão superior'].transform(lambda x: x.fillna(method='ffill'))\n",
    "df_15['nome órgão superior'].info() #Columna codigo y nombre\n",
    "\n",
    "\n",
    "df_15[\"data lançamento\"] = pd.to_datetime(df_15[\"data lançamento\"]) \n",
    "df_15[\"data lançamento\"]  #cambio a fecha\n",
    "\n",
    "df_15[\"valor realizado\"]= df_15[\"valor realizado\"].str.replace(\",\",\".\")\n",
    "df_15[\"valor realizado\"] = list(map(float, df_15[\"valor realizado\"]))\n",
    "df_15[\"valor lançado\"]= df_15[\"valor lançado\"].str.replace(\",\",\".\")\n",
    "df_15[\"valor lançado\"] = list(map(float, df_15[\"valor lançado\"]))\n",
    "df_15[\"valor previsto atualizado\"]= df_15[\"valor previsto atualizado\"].str.replace(\",\",\".\")\n",
    "df_15[\"valor previsto atualizado\"] = list(map(float, df_15[\"valor previsto atualizado\"]))\n",
    "df_15[\"percentual realizado\"]= df_15[\"percentual realizado\"].str.replace(\",\",\".\")\n",
    "df_15[\"percentual realizado\"] = list(map(float, df_15[\"percentual realizado\"]))    #cambio a float"
   ]
  },
  {
   "cell_type": "code",
   "execution_count": 8,
   "metadata": {},
   "outputs": [
    {
     "name": "stderr",
     "output_type": "stream",
     "text": [
      "C:\\Users\\jaime\\AppData\\Local\\Temp\\ipykernel_12456\\3871943138.py:1: FutureWarning: Series.fillna with 'method' is deprecated and will raise in a future version. Use obj.ffill() or obj.bfill() instead.\n",
      "  df_16['nome órgão superior'] = df_16.groupby('código órgão superior')['nome órgão superior'].transform(lambda x: x.fillna(method='ffill'))\n"
     ]
    },
    {
     "name": "stdout",
     "output_type": "stream",
     "text": [
      "<class 'pandas.core.series.Series'>\n",
      "RangeIndex: 194533 entries, 0 to 194532\n",
      "Series name: nome órgão superior\n",
      "Non-Null Count   Dtype \n",
      "--------------   ----- \n",
      "190203 non-null  object\n",
      "dtypes: object(1)\n",
      "memory usage: 1.5+ MB\n"
     ]
    }
   ],
   "source": [
    "df_16['nome órgão superior'] = df_16.groupby('código órgão superior')['nome órgão superior'].transform(lambda x: x.fillna(method='ffill'))\n",
    "df_16['nome órgão superior'].info() #Columna codigo y nombre\n",
    "\n",
    "\n",
    "df_16[\"data lançamento\"] = pd.to_datetime(df_16[\"data lançamento\"], format=\"%d/%m/%Y\")   #He tenido que especificar que venía en otro formato distinto.\n",
    "df_16[\"data lançamento\"]  #cambio a fecha\n",
    "\n",
    "df_16[\"valor realizado\"]= df_16[\"valor realizado\"].str.replace(\",\",\".\")\n",
    "df_16[\"valor realizado\"] = list(map(float, df_16[\"valor realizado\"]))\n",
    "df_16[\"valor lançado\"]= df_16[\"valor lançado\"].str.replace(\",\",\".\")\n",
    "df_16[\"valor lançado\"] = list(map(float, df_16[\"valor lançado\"]))\n",
    "df_16[\"valor previsto atualizado\"]= df_16[\"valor previsto atualizado\"].str.replace(\",\",\".\")\n",
    "df_16[\"valor previsto atualizado\"] = list(map(float, df_16[\"valor previsto atualizado\"]))\n",
    "df_16[\"percentual realizado\"]= df_16[\"percentual realizado\"].str.replace(\",\",\".\")\n",
    "df_16[\"percentual realizado\"] = list(map(float, df_16[\"percentual realizado\"]))    #cambio a float"
   ]
  },
  {
   "cell_type": "code",
   "execution_count": 9,
   "metadata": {},
   "outputs": [
    {
     "name": "stderr",
     "output_type": "stream",
     "text": [
      "C:\\Users\\jaime\\AppData\\Local\\Temp\\ipykernel_12456\\4205365010.py:1: FutureWarning: Series.fillna with 'method' is deprecated and will raise in a future version. Use obj.ffill() or obj.bfill() instead.\n",
      "  df_17['nome órgão superior'] = df_17.groupby('código órgão superior')['nome órgão superior'].transform(lambda x: x.fillna(method='ffill'))\n"
     ]
    },
    {
     "name": "stdout",
     "output_type": "stream",
     "text": [
      "<class 'pandas.core.series.Series'>\n",
      "RangeIndex: 190479 entries, 0 to 190478\n",
      "Series name: nome órgão superior\n",
      "Non-Null Count   Dtype \n",
      "--------------   ----- \n",
      "185979 non-null  object\n",
      "dtypes: object(1)\n",
      "memory usage: 1.5+ MB\n"
     ]
    },
    {
     "name": "stderr",
     "output_type": "stream",
     "text": [
      "C:\\Users\\jaime\\AppData\\Local\\Temp\\ipykernel_12456\\4205365010.py:5: UserWarning: Parsing dates in %d/%m/%Y format when dayfirst=False (the default) was specified. Pass `dayfirst=True` or specify a format to silence this warning.\n",
      "  df_17[\"data lançamento\"] = pd.to_datetime(df_17[\"data lançamento\"])\n"
     ]
    }
   ],
   "source": [
    "df_17['nome órgão superior'] = df_17.groupby('código órgão superior')['nome órgão superior'].transform(lambda x: x.fillna(method='ffill'))\n",
    "df_17['nome órgão superior'].info() #Columna codigo y nombre\n",
    "\n",
    "\n",
    "df_17[\"data lançamento\"] = pd.to_datetime(df_17[\"data lançamento\"]) \n",
    "df_17[\"data lançamento\"]  #cambio a fecha\n",
    "\n",
    "df_17[\"valor realizado\"]= df_17[\"valor realizado\"].str.replace(\",\",\".\")\n",
    "df_17[\"valor realizado\"] = list(map(float, df_17[\"valor realizado\"]))\n",
    "df_17[\"valor lançado\"]= df_17[\"valor lançado\"].str.replace(\",\",\".\")\n",
    "df_17[\"valor lançado\"] = list(map(float, df_17[\"valor lançado\"]))\n",
    "df_17[\"valor previsto atualizado\"]= df_17[\"valor previsto atualizado\"].str.replace(\",\",\".\")\n",
    "df_17[\"valor previsto atualizado\"] = list(map(float, df_17[\"valor previsto atualizado\"]))\n",
    "df_17[\"percentual realizado\"]= df_17[\"percentual realizado\"].str.replace(\",\",\".\")\n",
    "df_17[\"percentual realizado\"] = list(map(float, df_17[\"percentual realizado\"]))    #cambio a float"
   ]
  },
  {
   "cell_type": "code",
   "execution_count": 10,
   "metadata": {},
   "outputs": [
    {
     "name": "stderr",
     "output_type": "stream",
     "text": [
      "C:\\Users\\jaime\\AppData\\Local\\Temp\\ipykernel_12456\\1489711203.py:1: FutureWarning: Series.fillna with 'method' is deprecated and will raise in a future version. Use obj.ffill() or obj.bfill() instead.\n",
      "  df_18['nome órgão superior'] = df_18.groupby('código órgão superior')['nome órgão superior'].transform(lambda x: x.fillna(method='ffill'))\n",
      "C:\\Users\\jaime\\AppData\\Local\\Temp\\ipykernel_12456\\1489711203.py:1: FutureWarning: Downcasting object dtype arrays on .fillna, .ffill, .bfill is deprecated and will change in a future version. Call result.infer_objects(copy=False) instead. To opt-in to the future behavior, set `pd.set_option('future.no_silent_downcasting', True)`\n",
      "  df_18['nome órgão superior'] = df_18.groupby('código órgão superior')['nome órgão superior'].transform(lambda x: x.fillna(method='ffill'))\n"
     ]
    },
    {
     "name": "stdout",
     "output_type": "stream",
     "text": [
      "<class 'pandas.core.series.Series'>\n",
      "RangeIndex: 173944 entries, 0 to 173943\n",
      "Series name: nome órgão superior\n",
      "Non-Null Count   Dtype \n",
      "--------------   ----- \n",
      "165679 non-null  object\n",
      "dtypes: object(1)\n",
      "memory usage: 1.3+ MB\n"
     ]
    },
    {
     "name": "stderr",
     "output_type": "stream",
     "text": [
      "C:\\Users\\jaime\\AppData\\Local\\Temp\\ipykernel_12456\\1489711203.py:5: UserWarning: Parsing dates in %d/%m/%Y format when dayfirst=False (the default) was specified. Pass `dayfirst=True` or specify a format to silence this warning.\n",
      "  df_18[\"data lançamento\"] = pd.to_datetime(df_18[\"data lançamento\"])\n"
     ]
    }
   ],
   "source": [
    "df_18['nome órgão superior'] = df_18.groupby('código órgão superior')['nome órgão superior'].transform(lambda x: x.fillna(method='ffill'))\n",
    "df_18['nome órgão superior'].info() #Columna codigo y nombre\n",
    "\n",
    "\n",
    "df_18[\"data lançamento\"] = pd.to_datetime(df_18[\"data lançamento\"]) \n",
    "df_18[\"data lançamento\"]  #cambio a fecha\n",
    "\n",
    "df_18[\"valor realizado\"]= df_18[\"valor realizado\"].str.replace(\",\",\".\")\n",
    "df_18[\"valor realizado\"] = list(map(float, df_18[\"valor realizado\"]))\n",
    "df_18[\"valor lançado\"]= df_18[\"valor lançado\"].str.replace(\",\",\".\")\n",
    "df_18[\"valor lançado\"] = list(map(float, df_18[\"valor lançado\"]))\n",
    "df_18[\"valor previsto atualizado\"]= df_18[\"valor previsto atualizado\"].str.replace(\",\",\".\")\n",
    "df_18[\"valor previsto atualizado\"] = list(map(float, df_18[\"valor previsto atualizado\"]))\n",
    "df_18[\"percentual realizado\"]= df_18[\"percentual realizado\"].str.replace(\",\",\".\")\n",
    "df_18[\"percentual realizado\"] = list(map(float, df_18[\"percentual realizado\"]))    #cambio a float"
   ]
  },
  {
   "cell_type": "code",
   "execution_count": 11,
   "metadata": {},
   "outputs": [
    {
     "name": "stderr",
     "output_type": "stream",
     "text": [
      "C:\\Users\\jaime\\AppData\\Local\\Temp\\ipykernel_12456\\1939501729.py:1: FutureWarning: Series.fillna with 'method' is deprecated and will raise in a future version. Use obj.ffill() or obj.bfill() instead.\n",
      "  df_19['nome órgão superior'] = df_19.groupby('código órgão superior')['nome órgão superior'].transform(lambda x: x.fillna(method='ffill'))\n",
      "C:\\Users\\jaime\\AppData\\Local\\Temp\\ipykernel_12456\\1939501729.py:1: FutureWarning: Downcasting object dtype arrays on .fillna, .ffill, .bfill is deprecated and will change in a future version. Call result.infer_objects(copy=False) instead. To opt-in to the future behavior, set `pd.set_option('future.no_silent_downcasting', True)`\n",
      "  df_19['nome órgão superior'] = df_19.groupby('código órgão superior')['nome órgão superior'].transform(lambda x: x.fillna(method='ffill'))\n"
     ]
    },
    {
     "name": "stdout",
     "output_type": "stream",
     "text": [
      "<class 'pandas.core.series.Series'>\n",
      "RangeIndex: 176828 entries, 0 to 176827\n",
      "Series name: nome órgão superior\n",
      "Non-Null Count   Dtype \n",
      "--------------   ----- \n",
      "170857 non-null  object\n",
      "dtypes: object(1)\n",
      "memory usage: 1.3+ MB\n"
     ]
    }
   ],
   "source": [
    "df_19['nome órgão superior'] = df_19.groupby('código órgão superior')['nome órgão superior'].transform(lambda x: x.fillna(method='ffill'))\n",
    "df_19['nome órgão superior'].info() #Columna codigo y nombre\n",
    "\n",
    "\n",
    "df_19[\"data lançamento\"] = pd.to_datetime(df_19[\"data lançamento\"], format=\"%d/%m/%Y\")\n",
    "df_19[\"data lançamento\"]  #cambio a fecha\n",
    "\n",
    "df_19[\"valor realizado\"]= df_19[\"valor realizado\"].str.replace(\",\",\".\")\n",
    "df_19[\"valor realizado\"] = list(map(float, df_19[\"valor realizado\"]))\n",
    "df_19[\"valor lançado\"]= df_19[\"valor lançado\"].str.replace(\",\",\".\")\n",
    "df_19[\"valor lançado\"] = list(map(float, df_19[\"valor lançado\"]))\n",
    "df_19[\"valor previsto atualizado\"]= df_19[\"valor previsto atualizado\"].str.replace(\",\",\".\")\n",
    "df_19[\"valor previsto atualizado\"] = list(map(float, df_19[\"valor previsto atualizado\"]))\n",
    "df_19[\"percentual realizado\"]= df_19[\"percentual realizado\"].str.replace(\",\",\".\")\n",
    "df_19[\"percentual realizado\"] = list(map(float, df_19[\"percentual realizado\"]))    #cambio a float"
   ]
  },
  {
   "cell_type": "code",
   "execution_count": 12,
   "metadata": {},
   "outputs": [
    {
     "name": "stderr",
     "output_type": "stream",
     "text": [
      "C:\\Users\\jaime\\AppData\\Local\\Temp\\ipykernel_12456\\667092361.py:1: FutureWarning: Series.fillna with 'method' is deprecated and will raise in a future version. Use obj.ffill() or obj.bfill() instead.\n",
      "  df_20['nome órgão superior'] = df_20.groupby('código órgão superior')['nome órgão superior'].transform(lambda x: x.fillna(method='ffill'))\n",
      "C:\\Users\\jaime\\AppData\\Local\\Temp\\ipykernel_12456\\667092361.py:1: FutureWarning: Downcasting object dtype arrays on .fillna, .ffill, .bfill is deprecated and will change in a future version. Call result.infer_objects(copy=False) instead. To opt-in to the future behavior, set `pd.set_option('future.no_silent_downcasting', True)`\n",
      "  df_20['nome órgão superior'] = df_20.groupby('código órgão superior')['nome órgão superior'].transform(lambda x: x.fillna(method='ffill'))\n",
      "C:\\Users\\jaime\\AppData\\Local\\Temp\\ipykernel_12456\\667092361.py:5: UserWarning: Parsing dates in %d/%m/%Y format when dayfirst=False (the default) was specified. Pass `dayfirst=True` or specify a format to silence this warning.\n",
      "  df_20[\"data lançamento\"] = pd.to_datetime(df_20[\"data lançamento\"])\n"
     ]
    },
    {
     "name": "stdout",
     "output_type": "stream",
     "text": [
      "<class 'pandas.core.series.Series'>\n",
      "RangeIndex: 142348 entries, 0 to 142347\n",
      "Series name: nome órgão superior\n",
      "Non-Null Count   Dtype \n",
      "--------------   ----- \n",
      "137034 non-null  object\n",
      "dtypes: object(1)\n",
      "memory usage: 1.1+ MB\n"
     ]
    }
   ],
   "source": [
    "df_20['nome órgão superior'] = df_20.groupby('código órgão superior')['nome órgão superior'].transform(lambda x: x.fillna(method='ffill'))\n",
    "df_20['nome órgão superior'].info() #Columna codigo y nombre\n",
    "\n",
    "\n",
    "df_20[\"data lançamento\"] = pd.to_datetime(df_20[\"data lançamento\"]) \n",
    "df_20[\"data lançamento\"]  #cambio a fecha\n",
    "\n",
    "df_20[\"valor realizado\"]= df_20[\"valor realizado\"].str.replace(\",\",\".\")\n",
    "df_20[\"valor realizado\"] = list(map(float, df_20[\"valor realizado\"]))\n",
    "df_20[\"valor lançado\"]= df_20[\"valor lançado\"].str.replace(\",\",\".\")\n",
    "df_20[\"valor lançado\"] = list(map(float, df_20[\"valor lançado\"]))\n",
    "df_20[\"valor previsto atualizado\"]= df_20[\"valor previsto atualizado\"].str.replace(\",\",\".\")\n",
    "df_20[\"valor previsto atualizado\"] = list(map(float, df_20[\"valor previsto atualizado\"]))\n",
    "df_20[\"percentual realizado\"]= df_20[\"percentual realizado\"].str.replace(\",\",\".\")\n",
    "df_20[\"percentual realizado\"] = list(map(float, df_20[\"percentual realizado\"]))    #cambio a float"
   ]
  },
  {
   "cell_type": "code",
   "execution_count": 13,
   "metadata": {},
   "outputs": [
    {
     "name": "stderr",
     "output_type": "stream",
     "text": [
      "C:\\Users\\jaime\\AppData\\Local\\Temp\\ipykernel_12456\\3239938643.py:1: FutureWarning: Series.fillna with 'method' is deprecated and will raise in a future version. Use obj.ffill() or obj.bfill() instead.\n",
      "  df_21['nome órgão superior'] = df_21.groupby('código órgão superior')['nome órgão superior'].transform(lambda x: x.fillna(method='ffill'))\n"
     ]
    },
    {
     "name": "stdout",
     "output_type": "stream",
     "text": [
      "<class 'pandas.core.series.Series'>\n",
      "RangeIndex: 134593 entries, 0 to 134592\n",
      "Series name: nome órgão superior\n",
      "Non-Null Count   Dtype \n",
      "--------------   ----- \n",
      "133186 non-null  object\n",
      "dtypes: object(1)\n",
      "memory usage: 1.0+ MB\n"
     ]
    },
    {
     "name": "stderr",
     "output_type": "stream",
     "text": [
      "C:\\Users\\jaime\\AppData\\Local\\Temp\\ipykernel_12456\\3239938643.py:5: UserWarning: Parsing dates in %d/%m/%Y format when dayfirst=False (the default) was specified. Pass `dayfirst=True` or specify a format to silence this warning.\n",
      "  df_21[\"data lançamento\"] = pd.to_datetime(df_21[\"data lançamento\"])\n"
     ]
    }
   ],
   "source": [
    "\n",
    "\n",
    "\n",
    "df_21['nome órgão superior'] = df_21.groupby('código órgão superior')['nome órgão superior'].transform(lambda x: x.fillna(method='ffill'))\n",
    "df_21['nome órgão superior'].info() #Columna codigo y nombre\n",
    "\n",
    "\n",
    "df_21[\"data lançamento\"] = pd.to_datetime(df_21[\"data lançamento\"]) \n",
    "df_21[\"data lançamento\"]  #cambio a fecha\n",
    "\n",
    "df_21[\"valor realizado\"]= df_21[\"valor realizado\"].str.replace(\",\",\".\")\n",
    "df_21[\"valor realizado\"] = list(map(float, df_21[\"valor realizado\"]))\n",
    "df_21[\"valor lançado\"]= df_21[\"valor lançado\"].str.replace(\",\",\".\")\n",
    "df_21[\"valor lançado\"] = list(map(float, df_21[\"valor lançado\"]))\n",
    "df_21[\"valor previsto atualizado\"]= df_21[\"valor previsto atualizado\"].str.replace(\",\",\".\")\n",
    "df_21[\"valor previsto atualizado\"] = list(map(float, df_21[\"valor previsto atualizado\"]))\n",
    "df_21[\"percentual realizado\"]= df_21[\"percentual realizado\"].str.replace(\",\",\".\")\n",
    "df_21[\"percentual realizado\"] = list(map(float, df_21[\"percentual realizado\"]))    #cambio a float\n",
    "\n"
   ]
  },
  {
   "cell_type": "code",
   "execution_count": 14,
   "metadata": {},
   "outputs": [
    {
     "data": {
      "text/html": [
       "<div>\n",
       "<style scoped>\n",
       "    .dataframe tbody tr th:only-of-type {\n",
       "        vertical-align: middle;\n",
       "    }\n",
       "\n",
       "    .dataframe tbody tr th {\n",
       "        vertical-align: top;\n",
       "    }\n",
       "\n",
       "    .dataframe thead th {\n",
       "        text-align: right;\n",
       "    }\n",
       "</style>\n",
       "<table border=\"1\" class=\"dataframe\">\n",
       "  <thead>\n",
       "    <tr style=\"text-align: right;\">\n",
       "      <th></th>\n",
       "      <th>código órgão superior</th>\n",
       "      <th>nome órgão superior</th>\n",
       "      <th>código órgão</th>\n",
       "      <th>nome órgão</th>\n",
       "      <th>código unidade gestora</th>\n",
       "      <th>nome unidade gestora</th>\n",
       "      <th>categoria econômica</th>\n",
       "      <th>origem receita</th>\n",
       "      <th>espécie receita</th>\n",
       "      <th>detalhamento</th>\n",
       "      <th>valor previsto atualizado</th>\n",
       "      <th>valor lançado</th>\n",
       "      <th>valor realizado</th>\n",
       "      <th>percentual realizado</th>\n",
       "      <th>data lançamento</th>\n",
       "      <th>ano exercício</th>\n",
       "    </tr>\n",
       "  </thead>\n",
       "  <tbody>\n",
       "    <tr>\n",
       "      <th>2930</th>\n",
       "      <td>26000.0</td>\n",
       "      <td>Ministério da Educação</td>\n",
       "      <td>26280.0</td>\n",
       "      <td>Fundação Universidade Federal de São Carlos</td>\n",
       "      <td>154049.0</td>\n",
       "      <td>FUNDACAO UNIVERSIDADE FEDERAL DE SAO CARLOS</td>\n",
       "      <td>NaN</td>\n",
       "      <td>Receita Patrimonial</td>\n",
       "      <td>NaN</td>\n",
       "      <td>ALUGUEIS</td>\n",
       "      <td>726687.0</td>\n",
       "      <td>0.0</td>\n",
       "      <td>2.158335e+05</td>\n",
       "      <td>30.0</td>\n",
       "      <td>2013-12-31</td>\n",
       "      <td>2013.0</td>\n",
       "    </tr>\n",
       "    <tr>\n",
       "      <th>824</th>\n",
       "      <td>25000.0</td>\n",
       "      <td>Ministério da Economia</td>\n",
       "      <td>25000.0</td>\n",
       "      <td>Ministério da Economia - Unidades com vínculo ...</td>\n",
       "      <td>170013.0</td>\n",
       "      <td>SETORIAL ORCAMENTARIA E FINANCEIRA / ME</td>\n",
       "      <td>Receitas de Capital</td>\n",
       "      <td>Amortizações de Empréstimos</td>\n",
       "      <td>Amortizações de Empréstimos</td>\n",
       "      <td>AMORT. REFINANC. - DIVIDAS E OP MEDIO E DE LP</td>\n",
       "      <td>284387996.0</td>\n",
       "      <td>0.0</td>\n",
       "      <td>3.095943e+08</td>\n",
       "      <td>109.0</td>\n",
       "      <td>2013-12-31</td>\n",
       "      <td>NaN</td>\n",
       "    </tr>\n",
       "    <tr>\n",
       "      <th>4482</th>\n",
       "      <td>20000.0</td>\n",
       "      <td>Presidência da República</td>\n",
       "      <td>64000.0</td>\n",
       "      <td>Secretaria de Direitos Humanos</td>\n",
       "      <td>200016.0</td>\n",
       "      <td>NaN</td>\n",
       "      <td>Receitas Correntes</td>\n",
       "      <td>Receita de Serviços</td>\n",
       "      <td>Receita de Serviços</td>\n",
       "      <td>TAR.INSCR.CONCURSOS E PROCESSOS SELETIVOS</td>\n",
       "      <td>0.0</td>\n",
       "      <td>0.0</td>\n",
       "      <td>1.164812e+04</td>\n",
       "      <td>0.0</td>\n",
       "      <td>2013-12-31</td>\n",
       "      <td>2013.0</td>\n",
       "    </tr>\n",
       "  </tbody>\n",
       "</table>\n",
       "</div>"
      ],
      "text/plain": [
       "      código órgão superior       nome órgão superior  código órgão  \\\n",
       "2930                26000.0    Ministério da Educação       26280.0   \n",
       "824                 25000.0    Ministério da Economia       25000.0   \n",
       "4482                20000.0  Presidência da República       64000.0   \n",
       "\n",
       "                                             nome órgão  \\\n",
       "2930        Fundação Universidade Federal de São Carlos   \n",
       "824   Ministério da Economia - Unidades com vínculo ...   \n",
       "4482                     Secretaria de Direitos Humanos   \n",
       "\n",
       "      código unidade gestora                         nome unidade gestora  \\\n",
       "2930                154049.0  FUNDACAO UNIVERSIDADE FEDERAL DE SAO CARLOS   \n",
       "824                 170013.0      SETORIAL ORCAMENTARIA E FINANCEIRA / ME   \n",
       "4482                200016.0                                          NaN   \n",
       "\n",
       "      categoria econômica               origem receita  \\\n",
       "2930                  NaN          Receita Patrimonial   \n",
       "824   Receitas de Capital  Amortizações de Empréstimos   \n",
       "4482   Receitas Correntes          Receita de Serviços   \n",
       "\n",
       "                  espécie receita  \\\n",
       "2930                          NaN   \n",
       "824   Amortizações de Empréstimos   \n",
       "4482          Receita de Serviços   \n",
       "\n",
       "                                       detalhamento  \\\n",
       "2930                                       ALUGUEIS   \n",
       "824   AMORT. REFINANC. - DIVIDAS E OP MEDIO E DE LP   \n",
       "4482      TAR.INSCR.CONCURSOS E PROCESSOS SELETIVOS   \n",
       "\n",
       "      valor previsto atualizado  valor lançado  valor realizado  \\\n",
       "2930                   726687.0            0.0     2.158335e+05   \n",
       "824                 284387996.0            0.0     3.095943e+08   \n",
       "4482                        0.0            0.0     1.164812e+04   \n",
       "\n",
       "      percentual realizado data lançamento  ano exercício  \n",
       "2930                  30.0      2013-12-31         2013.0  \n",
       "824                  109.0      2013-12-31            NaN  \n",
       "4482                   0.0      2013-12-31         2013.0  "
      ]
     },
     "execution_count": 14,
     "metadata": {},
     "output_type": "execute_result"
    }
   ],
   "source": [
    "df_13.sample(3)"
   ]
  },
  {
   "cell_type": "markdown",
   "metadata": {},
   "source": [
    "*Para rellenar el año que falta porque pone nan*"
   ]
  },
  {
   "cell_type": "code",
   "execution_count": 15,
   "metadata": {},
   "outputs": [],
   "source": [
    "listadf= [df_13,df_14,df_15,df_16,df_17,df_18,df_19,df_20,df_21]\n",
    "lista_anio= [2013,2014,2015,2016,2016,2017,2018,2019,2020,2021]\n",
    "def fillyear(df, year):\n",
    "    df[\"ano exercício\"] = df[\"ano exercício\"].fillna(year)\n",
    "    return df"
   ]
  },
  {
   "cell_type": "code",
   "execution_count": 16,
   "metadata": {},
   "outputs": [],
   "source": [
    "listadf_aniosbien = list(map(fillyear, listadf, lista_anio))"
   ]
  },
  {
   "cell_type": "code",
   "execution_count": 17,
   "metadata": {},
   "outputs": [
    {
     "name": "stdout",
     "output_type": "stream",
     "text": [
      "<class 'pandas.core.frame.DataFrame'>\n",
      "RangeIndex: 176828 entries, 0 to 176827\n",
      "Data columns (total 16 columns):\n",
      " #   Column                     Non-Null Count   Dtype         \n",
      "---  ------                     --------------   -----         \n",
      " 0   código órgão superior      170865 non-null  float64       \n",
      " 1   nome órgão superior        170857 non-null  object        \n",
      " 2   código órgão               173643 non-null  float64       \n",
      " 3   nome órgão                 169862 non-null  object        \n",
      " 4   código unidade gestora     171547 non-null  float64       \n",
      " 5   nome unidade gestora       174840 non-null  object        \n",
      " 6   categoria econômica        174890 non-null  object        \n",
      " 7   origem receita             168623 non-null  object        \n",
      " 8   espécie receita            172708 non-null  object        \n",
      " 9   detalhamento               172006 non-null  object        \n",
      " 10  valor previsto atualizado  167987 non-null  float64       \n",
      " 11  valor lançado              172190 non-null  float64       \n",
      " 12  valor realizado            169191 non-null  float64       \n",
      " 13  percentual realizado       170075 non-null  float64       \n",
      " 14  data lançamento            173914 non-null  datetime64[ns]\n",
      " 15  ano exercício              176828 non-null  float64       \n",
      "dtypes: datetime64[ns](1), float64(8), object(7)\n",
      "memory usage: 21.6+ MB\n"
     ]
    }
   ],
   "source": [
    "df_19.info()    #Comprobación de que hemos acabado con los nulos en año lanzamiento y reducido los nulos de nombre órgano superior"
   ]
  },
  {
   "cell_type": "markdown",
   "metadata": {},
   "source": [
    "**Mergeo**"
   ]
  },
  {
   "cell_type": "code",
   "execution_count": 18,
   "metadata": {},
   "outputs": [],
   "source": [
    "df_completa = pd.concat(listadf_aniosbien).reset_index(drop= True)"
   ]
  },
  {
   "cell_type": "markdown",
   "metadata": {},
   "source": [
    "Completo nan en nome orgao superior, nome orgao y codigo unidade gestora."
   ]
  },
  {
   "cell_type": "code",
   "execution_count": 19,
   "metadata": {},
   "outputs": [
    {
     "name": "stderr",
     "output_type": "stream",
     "text": [
      "C:\\Users\\jaime\\AppData\\Local\\Temp\\ipykernel_12456\\557705182.py:1: FutureWarning: Series.fillna with 'method' is deprecated and will raise in a future version. Use obj.ffill() or obj.bfill() instead.\n",
      "  df_completa['nome órgão'] = df_completa.groupby('código órgão')['nome órgão'].transform(lambda x: x.fillna(method='ffill'))\n",
      "C:\\Users\\jaime\\AppData\\Local\\Temp\\ipykernel_12456\\557705182.py:3: FutureWarning: Series.fillna with 'method' is deprecated and will raise in a future version. Use obj.ffill() or obj.bfill() instead.\n",
      "  df_completa['código unidade gestora'] = df_completa.groupby('nome unidade gestora')['código unidade gestora'].transform(lambda x: x.fillna(method='ffill'))\n",
      "C:\\Users\\jaime\\AppData\\Local\\Temp\\ipykernel_12456\\557705182.py:5: FutureWarning: Series.fillna with 'method' is deprecated and will raise in a future version. Use obj.ffill() or obj.bfill() instead.\n",
      "  df_completa['nome órgão superior'] = df_completa.groupby('código órgão superior')['nome órgão superior'].transform(lambda x: x.fillna(method='ffill'))\n"
     ]
    },
    {
     "name": "stdout",
     "output_type": "stream",
     "text": [
      "<class 'pandas.core.frame.DataFrame'>\n",
      "RangeIndex: 1026299 entries, 0 to 1026298\n",
      "Data columns (total 16 columns):\n",
      " #   Column                     Non-Null Count    Dtype         \n",
      "---  ------                     --------------    -----         \n",
      " 0   código órgão superior      995940 non-null   float64       \n",
      " 1   nome órgão superior        995921 non-null   object        \n",
      " 2   código órgão               1001182 non-null  float64       \n",
      " 3   nome órgão                 1001164 non-null  object        \n",
      " 4   código unidade gestora     1006806 non-null  float64       \n",
      " 5   nome unidade gestora       1006818 non-null  object        \n",
      " 6   categoria econômica        1007321 non-null  object        \n",
      " 7   origem receita             987881 non-null   object        \n",
      " 8   espécie receita            994372 non-null   object        \n",
      " 9   detalhamento               996962 non-null   object        \n",
      " 10  valor previsto atualizado  974984 non-null   float64       \n",
      " 11  valor lançado              999880 non-null   float64       \n",
      " 12  valor realizado            986834 non-null   float64       \n",
      " 13  percentual realizado       1002165 non-null  float64       \n",
      " 14  data lançamento            1002468 non-null  datetime64[ns]\n",
      " 15  ano exercício              1026299 non-null  float64       \n",
      "dtypes: datetime64[ns](1), float64(8), object(7)\n",
      "memory usage: 125.3+ MB\n"
     ]
    }
   ],
   "source": [
    "df_completa['nome órgão'] = df_completa.groupby('código órgão')['nome órgão'].transform(lambda x: x.fillna(method='ffill'))\n",
    "\n",
    "df_completa['código unidade gestora'] = df_completa.groupby('nome unidade gestora')['código unidade gestora'].transform(lambda x: x.fillna(method='ffill'))\n",
    "\n",
    "df_completa['nome órgão superior'] = df_completa.groupby('código órgão superior')['nome órgão superior'].transform(lambda x: x.fillna(method='ffill'))\n",
    "df_completa.info() #Columna codigo y nombre\n",
    "\n"
   ]
  },
  {
   "cell_type": "markdown",
   "metadata": {},
   "source": [
    "**Duplicados para eliminar**"
   ]
  },
  {
   "cell_type": "code",
   "execution_count": 20,
   "metadata": {},
   "outputs": [
    {
     "data": {
      "text/plain": [
       "np.int64(160)"
      ]
     },
     "execution_count": 20,
     "metadata": {},
     "output_type": "execute_result"
    }
   ],
   "source": [
    "df_completa.duplicated().sum()     #Hay 73 duplicadas que habrá que eliminar"
   ]
  },
  {
   "cell_type": "code",
   "execution_count": 21,
   "metadata": {},
   "outputs": [
    {
     "data": {
      "text/plain": [
       "np.int64(0)"
      ]
     },
     "execution_count": 21,
     "metadata": {},
     "output_type": "execute_result"
    }
   ],
   "source": [
    "df_completa = df_completa.drop_duplicates()\n",
    "df_completa.duplicated().sum()"
   ]
  },
  {
   "cell_type": "code",
   "execution_count": 22,
   "metadata": {},
   "outputs": [
    {
     "data": {
      "text/plain": [
       "(1026139, 16)"
      ]
     },
     "execution_count": 22,
     "metadata": {},
     "output_type": "execute_result"
    }
   ],
   "source": [
    "df_completa.shape"
   ]
  },
  {
   "cell_type": "code",
   "execution_count": 23,
   "metadata": {},
   "outputs": [
    {
     "data": {
      "text/html": [
       "<div>\n",
       "<style scoped>\n",
       "    .dataframe tbody tr th:only-of-type {\n",
       "        vertical-align: middle;\n",
       "    }\n",
       "\n",
       "    .dataframe tbody tr th {\n",
       "        vertical-align: top;\n",
       "    }\n",
       "\n",
       "    .dataframe thead th {\n",
       "        text-align: right;\n",
       "    }\n",
       "</style>\n",
       "<table border=\"1\" class=\"dataframe\">\n",
       "  <thead>\n",
       "    <tr style=\"text-align: right;\">\n",
       "      <th></th>\n",
       "      <th>código órgão superior</th>\n",
       "      <th>nome órgão superior</th>\n",
       "      <th>código órgão</th>\n",
       "      <th>nome órgão</th>\n",
       "      <th>código unidade gestora</th>\n",
       "      <th>nome unidade gestora</th>\n",
       "      <th>categoria econômica</th>\n",
       "      <th>origem receita</th>\n",
       "      <th>espécie receita</th>\n",
       "      <th>detalhamento</th>\n",
       "      <th>valor previsto atualizado</th>\n",
       "      <th>valor lançado</th>\n",
       "      <th>valor realizado</th>\n",
       "      <th>percentual realizado</th>\n",
       "      <th>data lançamento</th>\n",
       "      <th>ano exercício</th>\n",
       "    </tr>\n",
       "  </thead>\n",
       "  <tbody>\n",
       "    <tr>\n",
       "      <th>292412</th>\n",
       "      <td>26000.0</td>\n",
       "      <td>Ministério da Educação</td>\n",
       "      <td>26255.0</td>\n",
       "      <td>Universidade Federal dos Vales do Jequitinhonh...</td>\n",
       "      <td>153036.0</td>\n",
       "      <td>UNIVERSIDADE FED.VALES JEQUITINHONHA E MUCURI</td>\n",
       "      <td>Receitas Correntes</td>\n",
       "      <td>Receita de Serviços</td>\n",
       "      <td>Serviços Administrativos e Comerciais Gerais</td>\n",
       "      <td>SERV.ADMINISTRAT.E COMERCIAIS GERAIS-PRINC.</td>\n",
       "      <td>0.0</td>\n",
       "      <td>0.0</td>\n",
       "      <td>2.190000e+02</td>\n",
       "      <td>0.0</td>\n",
       "      <td>2017-10-04</td>\n",
       "      <td>2017.0</td>\n",
       "    </tr>\n",
       "    <tr>\n",
       "      <th>445857</th>\n",
       "      <td>25000.0</td>\n",
       "      <td>Ministério da Economia</td>\n",
       "      <td>25000.0</td>\n",
       "      <td>Ministério da Economia - Unidades com vínculo ...</td>\n",
       "      <td>170013.0</td>\n",
       "      <td>SETORIAL ORCAMENTARIA E FINANCEIRA / ME</td>\n",
       "      <td>Receitas Correntes</td>\n",
       "      <td>Impostos, Taxas e Contribuições de Melhoria</td>\n",
       "      <td>Impostos</td>\n",
       "      <td>IMPOSTO SOBRE A IMPORTAÇÃO-PRINCIPAL</td>\n",
       "      <td>0.0</td>\n",
       "      <td>0.0</td>\n",
       "      <td>1.088922e+09</td>\n",
       "      <td>0.0</td>\n",
       "      <td>2018-03-10</td>\n",
       "      <td>2018.0</td>\n",
       "    </tr>\n",
       "    <tr>\n",
       "      <th>961760</th>\n",
       "      <td>26000.0</td>\n",
       "      <td>Ministério da Educação</td>\n",
       "      <td>26283.0</td>\n",
       "      <td>Fundação Universidade Federal do Mato Grosso d...</td>\n",
       "      <td>NaN</td>\n",
       "      <td>NaN</td>\n",
       "      <td>Receitas Correntes</td>\n",
       "      <td>Receita de Serviços</td>\n",
       "      <td>Serviços e Atividades Referentes à Saúde</td>\n",
       "      <td>SERV.ASSIST.SAUDE SUPLEM.SERV.CIVIL-PRINC.</td>\n",
       "      <td>0.0</td>\n",
       "      <td>0.0</td>\n",
       "      <td>3.960000e+03</td>\n",
       "      <td>0.0</td>\n",
       "      <td>2021-10-18</td>\n",
       "      <td>2021.0</td>\n",
       "    </tr>\n",
       "  </tbody>\n",
       "</table>\n",
       "</div>"
      ],
      "text/plain": [
       "        código órgão superior     nome órgão superior  código órgão  \\\n",
       "292412                26000.0  Ministério da Educação       26255.0   \n",
       "445857                25000.0  Ministério da Economia       25000.0   \n",
       "961760                26000.0  Ministério da Educação       26283.0   \n",
       "\n",
       "                                               nome órgão  \\\n",
       "292412  Universidade Federal dos Vales do Jequitinhonh...   \n",
       "445857  Ministério da Economia - Unidades com vínculo ...   \n",
       "961760  Fundação Universidade Federal do Mato Grosso d...   \n",
       "\n",
       "        código unidade gestora                           nome unidade gestora  \\\n",
       "292412                153036.0  UNIVERSIDADE FED.VALES JEQUITINHONHA E MUCURI   \n",
       "445857                170013.0        SETORIAL ORCAMENTARIA E FINANCEIRA / ME   \n",
       "961760                     NaN                                            NaN   \n",
       "\n",
       "       categoria econômica                               origem receita  \\\n",
       "292412  Receitas Correntes                          Receita de Serviços   \n",
       "445857  Receitas Correntes  Impostos, Taxas e Contribuições de Melhoria   \n",
       "961760  Receitas Correntes                          Receita de Serviços   \n",
       "\n",
       "                                     espécie receita  \\\n",
       "292412  Serviços Administrativos e Comerciais Gerais   \n",
       "445857                                      Impostos   \n",
       "961760      Serviços e Atividades Referentes à Saúde   \n",
       "\n",
       "                                       detalhamento  \\\n",
       "292412  SERV.ADMINISTRAT.E COMERCIAIS GERAIS-PRINC.   \n",
       "445857         IMPOSTO SOBRE A IMPORTAÇÃO-PRINCIPAL   \n",
       "961760   SERV.ASSIST.SAUDE SUPLEM.SERV.CIVIL-PRINC.   \n",
       "\n",
       "        valor previsto atualizado  valor lançado  valor realizado  \\\n",
       "292412                        0.0            0.0     2.190000e+02   \n",
       "445857                        0.0            0.0     1.088922e+09   \n",
       "961760                        0.0            0.0     3.960000e+03   \n",
       "\n",
       "        percentual realizado data lançamento  ano exercício  \n",
       "292412                   0.0      2017-10-04         2017.0  \n",
       "445857                   0.0      2018-03-10         2018.0  \n",
       "961760                   0.0      2021-10-18         2021.0  "
      ]
     },
     "execution_count": 23,
     "metadata": {},
     "output_type": "execute_result"
    }
   ],
   "source": [
    "df_completa= df_completa.reset_index(drop= True)\n",
    "df_completa.sample(3)"
   ]
  },
  {
   "cell_type": "markdown",
   "metadata": {},
   "source": [
    "**Corregir Categorías(Dentro de nulos)**"
   ]
  },
  {
   "cell_type": "code",
   "execution_count": 24,
   "metadata": {},
   "outputs": [
    {
     "data": {
      "text/plain": [
       "np.int64(250)"
      ]
     },
     "execution_count": 24,
     "metadata": {},
     "output_type": "execute_result"
    }
   ],
   "source": [
    "a=df_completa[\"detalhamento\"] == \"Sem informação\"\n",
    "a.sum()"
   ]
  },
  {
   "cell_type": "code",
   "execution_count": 25,
   "metadata": {},
   "outputs": [
    {
     "data": {
      "text/html": [
       "<div>\n",
       "<style scoped>\n",
       "    .dataframe tbody tr th:only-of-type {\n",
       "        vertical-align: middle;\n",
       "    }\n",
       "\n",
       "    .dataframe tbody tr th {\n",
       "        vertical-align: top;\n",
       "    }\n",
       "\n",
       "    .dataframe thead th {\n",
       "        text-align: right;\n",
       "    }\n",
       "</style>\n",
       "<table border=\"1\" class=\"dataframe\">\n",
       "  <thead>\n",
       "    <tr style=\"text-align: right;\">\n",
       "      <th></th>\n",
       "      <th>valor previsto atualizado</th>\n",
       "    </tr>\n",
       "    <tr>\n",
       "      <th>categoria econômica</th>\n",
       "      <th></th>\n",
       "    </tr>\n",
       "  </thead>\n",
       "  <tbody>\n",
       "    <tr>\n",
       "      <th>Receitas Correntes</th>\n",
       "      <td>1.314475e+13</td>\n",
       "    </tr>\n",
       "    <tr>\n",
       "      <th>Receitas Correntes - intra-orçamentárias</th>\n",
       "      <td>2.694278e+11</td>\n",
       "    </tr>\n",
       "    <tr>\n",
       "      <th>Receitas de Capital</th>\n",
       "      <td>1.349986e+13</td>\n",
       "    </tr>\n",
       "    <tr>\n",
       "      <th>Receitas de Capital - intra-orçamentárias</th>\n",
       "      <td>1.080841e+10</td>\n",
       "    </tr>\n",
       "    <tr>\n",
       "      <th>Sem informação</th>\n",
       "      <td>0.000000e+00</td>\n",
       "    </tr>\n",
       "  </tbody>\n",
       "</table>\n",
       "</div>"
      ],
      "text/plain": [
       "                                           valor previsto atualizado\n",
       "categoria econômica                                                 \n",
       "Receitas Correntes                                      1.314475e+13\n",
       "Receitas Correntes - intra-orçamentárias                2.694278e+11\n",
       "Receitas de Capital                                     1.349986e+13\n",
       "Receitas de Capital - intra-orçamentárias               1.080841e+10\n",
       "Sem informação                                          0.000000e+00"
      ]
     },
     "execution_count": 25,
     "metadata": {},
     "output_type": "execute_result"
    }
   ],
   "source": [
    "dfprueba= df_completa.groupby(\"categoria econômica\")[[\"valor previsto atualizado\"]].sum()   #Esto es solo para visualizar\n",
    "dfprueba"
   ]
  },
  {
   "cell_type": "markdown",
   "metadata": {},
   "source": [
    "Tengo que juntar nan y sin información en la misma"
   ]
  },
  {
   "cell_type": "code",
   "execution_count": 26,
   "metadata": {},
   "outputs": [
    {
     "data": {
      "text/plain": [
       "categoria econômica\n",
       "Receitas Correntes                           961372\n",
       "Receitas de Capital                           29521\n",
       "Receitas Correntes - intra-orçamentárias      15926\n",
       "Sem informação                                  252\n",
       "Receitas de Capital - intra-orçamentárias        90\n",
       "Name: count, dtype: int64"
      ]
     },
     "execution_count": 26,
     "metadata": {},
     "output_type": "execute_result"
    }
   ],
   "source": [
    "df_completa[\"categoria econômica\"].value_counts()"
   ]
  },
  {
   "cell_type": "code",
   "execution_count": 27,
   "metadata": {},
   "outputs": [
    {
     "data": {
      "text/plain": [
       "categoria econômica\n",
       "False    1007161\n",
       "True       18978\n",
       "Name: count, dtype: int64"
      ]
     },
     "execution_count": 27,
     "metadata": {},
     "output_type": "execute_result"
    }
   ],
   "source": [
    "df_completa[\"categoria econômica\"].isna().value_counts()"
   ]
  },
  {
   "cell_type": "markdown",
   "metadata": {},
   "source": [
    "**Fusión de nan y sem informacion**  \n",
    "\n",
    "En los codigos, 0000 es el codigo que hemos puesto para los sin informacion (porque no se podía poner el str)"
   ]
  },
  {
   "cell_type": "code",
   "execution_count": 28,
   "metadata": {},
   "outputs": [],
   "source": [
    "df_completa[\"categoria econômica\"]= df_completa[\"categoria econômica\"].fillna(value= \"Sem informação\")\n",
    "df_completa[\"origem receita\"]= df_completa[\"origem receita\"].fillna(value= \"Sem informação\")\n",
    "df_completa[\"espécie receita\"]= df_completa[\"espécie receita\"].fillna(value= \"Sem informação\")\n",
    "df_completa[\"detalhamento\"]= df_completa[\"detalhamento\"].fillna(value= \"Sem informação\")\n",
    "\n",
    "df_completa[\"nome órgão superior\"]= df_completa[\"nome órgão superior\"].fillna(value= \"Sem informação\")\n",
    "df_completa[\"nome órgão\"]= df_completa[\"nome órgão\"].fillna(value= \"Sem informação\")\n",
    "df_completa[\"nome unidade gestora\"]= df_completa[\"nome unidade gestora\"].fillna(value= \"Sem informação\")\n",
    "\n",
    "df_completa[\"código órgão superior\"]= df_completa[\"código órgão superior\"].fillna(value= 0000)\n",
    "df_completa[\"código órgão\"]= df_completa[\"código órgão\"].fillna(value= 0000)\n",
    "df_completa[\"código unidade gestora\"]= df_completa[\"código unidade gestora\"].fillna(value= 0000)\n",
    "\n",
    "\n",
    "\n",
    "idx = df_completa[df_completa['nome órgão superior'] == 'Sem informação'].index[0]\n",
    "df_completa.at[idx, 'nome órgão superior'] = 'Advocacia-Geral da União'   #Esto es porque hay un nan en la primera fila que se sustituyó por sem informaçao en vez de con el nombre asociado al código\n"
   ]
  },
  {
   "cell_type": "code",
   "execution_count": 29,
   "metadata": {},
   "outputs": [
    {
     "data": {
      "text/plain": [
       "np.int64(0)"
      ]
     },
     "execution_count": 29,
     "metadata": {},
     "output_type": "execute_result"
    }
   ],
   "source": [
    "df_completa[\"código órgão superior\"].isna().sum()"
   ]
  },
  {
   "cell_type": "code",
   "execution_count": 30,
   "metadata": {},
   "outputs": [
    {
     "data": {
      "text/plain": [
       "array(['Outras Receitas Correntes', 'Receita de Serviços',\n",
       "       'Transferências de Capital', 'Alienação de Bens',\n",
       "       'Receita Agropecuária', 'Transferências Correntes',\n",
       "       'Receita Patrimonial', 'Operações de Crédito',\n",
       "       'Impostos, Taxas e Contribuições de Melhoria', 'Sem informação',\n",
       "       'Amortizações de Empréstimos', 'Contribuições',\n",
       "       'Receita Industrial', 'Outras Receitas de Capital',\n",
       "       'Receitas Correntes - a classificar'], dtype=object)"
      ]
     },
     "execution_count": 30,
     "metadata": {},
     "output_type": "execute_result"
    }
   ],
   "source": [
    "df_completa[\"origem receita\"].unique()"
   ]
  },
  {
   "cell_type": "markdown",
   "metadata": {},
   "source": [
    "**Creación de nueva columna de porcentajes**"
   ]
  },
  {
   "cell_type": "code",
   "execution_count": 31,
   "metadata": {},
   "outputs": [],
   "source": [
    "df_completa.drop(columns= [\"percentual realizado\"], inplace= True)"
   ]
  },
  {
   "cell_type": "code",
   "execution_count": 32,
   "metadata": {},
   "outputs": [],
   "source": [
    "def calcular_porcentaje(realizado, previsto):\n",
    "    if pd.isna(realizado) or pd.isna(previsto):\n",
    "        return 0\n",
    "    try:\n",
    "        return (realizado / previsto) * 100 if previsto != 0 else 0\n",
    "    except Exception as e:\n",
    "        return 0  \n",
    "\n",
    "df_completa['porcentaje ejecutado'] = df_completa.apply(\n",
    "    lambda row: calcular_porcentaje(row['valor realizado'], row['valor previsto atualizado']),\n",
    "    axis=1\n",
    ")\n"
   ]
  },
  {
   "cell_type": "code",
   "execution_count": 33,
   "metadata": {},
   "outputs": [
    {
     "data": {
      "text/plain": [
       "(1026139, 16)"
      ]
     },
     "execution_count": 33,
     "metadata": {},
     "output_type": "execute_result"
    }
   ],
   "source": [
    "df_completa.shape #732939"
   ]
  },
  {
   "cell_type": "markdown",
   "metadata": {},
   "source": [
    "**Proporcion nulos en mergeado:**  \n",
    "\n",
    "- Tenemos 1026138 filas*16 columnas= 16.418.208 celdas de datos\n",
    "\n",
    "- De esas celdas 140.825 tienen valores nulos lo que supone un 0,86% lo que no es casi nada proporcionalmente"
   ]
  },
  {
   "cell_type": "code",
   "execution_count": 34,
   "metadata": {},
   "outputs": [
    {
     "data": {
      "text/plain": [
       "código órgão superior            0\n",
       "nome órgão superior              0\n",
       "código órgão                     0\n",
       "nome órgão                       0\n",
       "código unidade gestora           0\n",
       "nome unidade gestora             0\n",
       "categoria econômica              0\n",
       "origem receita                   0\n",
       "espécie receita                  0\n",
       "detalhamento                     0\n",
       "valor previsto atualizado    51315\n",
       "valor lançado                26419\n",
       "valor realizado              39419\n",
       "data lançamento              23672\n",
       "ano exercício                    0\n",
       "porcentaje ejecutado             0\n",
       "dtype: int64"
      ]
     },
     "execution_count": 34,
     "metadata": {},
     "output_type": "execute_result"
    }
   ],
   "source": [
    "df_completa.isna().sum()          #Tenemos 457.535 nulos \n",
    "                                  #Ahora tenemos 433.580 nulos\n",
    "                                  #hemos conseguido tener 414.602 nulos\n",
    "                                  #Tras juntar nan y sem informaçao tenemos 338.322 nulos\n",
    "                                  #Tras crear valores 0000 y sem informaçao tenemos 164.959 nulos\n",
    "                                  #Tras crear una columna propia conseguimos tener 140.825 nulos"
   ]
  },
  {
   "cell_type": "code",
   "execution_count": 35,
   "metadata": {},
   "outputs": [
    {
     "data": {
      "text/html": [
       "<div>\n",
       "<style scoped>\n",
       "    .dataframe tbody tr th:only-of-type {\n",
       "        vertical-align: middle;\n",
       "    }\n",
       "\n",
       "    .dataframe tbody tr th {\n",
       "        vertical-align: top;\n",
       "    }\n",
       "\n",
       "    .dataframe thead th {\n",
       "        text-align: right;\n",
       "    }\n",
       "</style>\n",
       "<table border=\"1\" class=\"dataframe\">\n",
       "  <thead>\n",
       "    <tr style=\"text-align: right;\">\n",
       "      <th></th>\n",
       "      <th>código órgão superior</th>\n",
       "      <th>nome órgão superior</th>\n",
       "      <th>código órgão</th>\n",
       "      <th>nome órgão</th>\n",
       "      <th>código unidade gestora</th>\n",
       "      <th>nome unidade gestora</th>\n",
       "      <th>categoria econômica</th>\n",
       "      <th>origem receita</th>\n",
       "      <th>espécie receita</th>\n",
       "      <th>detalhamento</th>\n",
       "      <th>valor previsto atualizado</th>\n",
       "      <th>valor lançado</th>\n",
       "      <th>valor realizado</th>\n",
       "      <th>data lançamento</th>\n",
       "      <th>ano exercício</th>\n",
       "      <th>porcentaje ejecutado</th>\n",
       "    </tr>\n",
       "  </thead>\n",
       "  <tbody>\n",
       "    <tr>\n",
       "      <th>488015</th>\n",
       "      <td>26000.0</td>\n",
       "      <td>Ministério da Educação</td>\n",
       "      <td>0.0</td>\n",
       "      <td>Sem informação</td>\n",
       "      <td>155001.0</td>\n",
       "      <td>HOSPITAL DE CLINICAS DE PORTO ALEGRE</td>\n",
       "      <td>Receitas Correntes</td>\n",
       "      <td>Receita de Serviços</td>\n",
       "      <td>Serviços Administrativos e Comerciais Gerais</td>\n",
       "      <td>SERV.ADMINISTRAT.E COMERCIAIS GERAIS-PRINC.</td>\n",
       "      <td>0.0</td>\n",
       "      <td>0.0</td>\n",
       "      <td>NaN</td>\n",
       "      <td>2018-10-29</td>\n",
       "      <td>2018.0</td>\n",
       "      <td>0.0</td>\n",
       "    </tr>\n",
       "    <tr>\n",
       "      <th>972058</th>\n",
       "      <td>26000.0</td>\n",
       "      <td>Ministério da Educação</td>\n",
       "      <td>26234.0</td>\n",
       "      <td>Universidade Federal do Espírito Santo</td>\n",
       "      <td>153046.0</td>\n",
       "      <td>UNIVERSIDADE FEDERAL DO ESPIRITO SANTO</td>\n",
       "      <td>Receitas Correntes</td>\n",
       "      <td>Receita Patrimonial</td>\n",
       "      <td>Exploração do patrimônio imobiliário do Estad</td>\n",
       "      <td>ALUGUEIS E ARRENDAMENTOS-PRINCIPAL</td>\n",
       "      <td>0.0</td>\n",
       "      <td>0.0</td>\n",
       "      <td>243.29</td>\n",
       "      <td>2021-06-11</td>\n",
       "      <td>2021.0</td>\n",
       "      <td>0.0</td>\n",
       "    </tr>\n",
       "    <tr>\n",
       "      <th>642832</th>\n",
       "      <td>26000.0</td>\n",
       "      <td>Ministério da Educação</td>\n",
       "      <td>26277.0</td>\n",
       "      <td>Universidade Federal de Ouro Preto</td>\n",
       "      <td>154046.0</td>\n",
       "      <td>UNIVERSIDADE FEDERAL DE OURO PRETO</td>\n",
       "      <td>Receitas Correntes</td>\n",
       "      <td>Receita de Serviços</td>\n",
       "      <td>Serviços Administrativos e Comerciais Gerais</td>\n",
       "      <td>SERV.ADMINISTRAT.E COMERCIAIS GERAIS-PRINC.</td>\n",
       "      <td>0.0</td>\n",
       "      <td>0.0</td>\n",
       "      <td>NaN</td>\n",
       "      <td>2019-02-07</td>\n",
       "      <td>2019.0</td>\n",
       "      <td>0.0</td>\n",
       "    </tr>\n",
       "  </tbody>\n",
       "</table>\n",
       "</div>"
      ],
      "text/plain": [
       "        código órgão superior     nome órgão superior  código órgão  \\\n",
       "488015                26000.0  Ministério da Educação           0.0   \n",
       "972058                26000.0  Ministério da Educação       26234.0   \n",
       "642832                26000.0  Ministério da Educação       26277.0   \n",
       "\n",
       "                                    nome órgão  código unidade gestora  \\\n",
       "488015                          Sem informação                155001.0   \n",
       "972058  Universidade Federal do Espírito Santo                153046.0   \n",
       "642832      Universidade Federal de Ouro Preto                154046.0   \n",
       "\n",
       "                          nome unidade gestora categoria econômica  \\\n",
       "488015    HOSPITAL DE CLINICAS DE PORTO ALEGRE  Receitas Correntes   \n",
       "972058  UNIVERSIDADE FEDERAL DO ESPIRITO SANTO  Receitas Correntes   \n",
       "642832      UNIVERSIDADE FEDERAL DE OURO PRETO  Receitas Correntes   \n",
       "\n",
       "             origem receita                                espécie receita  \\\n",
       "488015  Receita de Serviços   Serviços Administrativos e Comerciais Gerais   \n",
       "972058  Receita Patrimonial  Exploração do patrimônio imobiliário do Estad   \n",
       "642832  Receita de Serviços   Serviços Administrativos e Comerciais Gerais   \n",
       "\n",
       "                                       detalhamento  \\\n",
       "488015  SERV.ADMINISTRAT.E COMERCIAIS GERAIS-PRINC.   \n",
       "972058           ALUGUEIS E ARRENDAMENTOS-PRINCIPAL   \n",
       "642832  SERV.ADMINISTRAT.E COMERCIAIS GERAIS-PRINC.   \n",
       "\n",
       "        valor previsto atualizado  valor lançado  valor realizado  \\\n",
       "488015                        0.0            0.0              NaN   \n",
       "972058                        0.0            0.0           243.29   \n",
       "642832                        0.0            0.0              NaN   \n",
       "\n",
       "       data lançamento  ano exercício  porcentaje ejecutado  \n",
       "488015      2018-10-29         2018.0                   0.0  \n",
       "972058      2021-06-11         2021.0                   0.0  \n",
       "642832      2019-02-07         2019.0                   0.0  "
      ]
     },
     "execution_count": 35,
     "metadata": {},
     "output_type": "execute_result"
    }
   ],
   "source": [
    "df_completa.sample(3)"
   ]
  },
  {
   "cell_type": "markdown",
   "metadata": {},
   "source": [
    "**Tratamiento de NULOS**\n",
    "\n",
    "Dado que la porporcion de nulos llega al 0,8%, merecería la pena eliminarlos y quedarnos con el otro 99,2% pues la pérdida de información no sería masiva.\n",
    "Pero debido a que se elimina la fila entera, realmente esto supondría perder el 13% de las celdas. Lo que creo que se puede asumir.\n",
    "\n",
    "\n",
    "Esta asunción, se debe a que la opción de rellenar los nulos en los valores numéricos con la media o mediana, aunque es verdad que no afectaría a la media y la mediana, si que perderíamos tanto la información sobre cómo se distribuyen como también  crearía una distorsión en las sumas totales.\n",
    "\n",
    "14.276.416 celdas completas de info sin ningun nan \n",
    "16.418.208 celdas totales (contando nulos)\n",
    "Perdemos 13% de las celdas"
   ]
  },
  {
   "cell_type": "code",
   "execution_count": 36,
   "metadata": {},
   "outputs": [
    {
     "data": {
      "text/plain": [
       "código órgão superior            0\n",
       "nome órgão superior              0\n",
       "código órgão                     0\n",
       "nome órgão                       0\n",
       "código unidade gestora           0\n",
       "nome unidade gestora             0\n",
       "categoria econômica              0\n",
       "origem receita                   0\n",
       "espécie receita                  0\n",
       "detalhamento                     0\n",
       "valor previsto atualizado    51315\n",
       "valor lançado                26419\n",
       "valor realizado              39419\n",
       "data lançamento              23672\n",
       "ano exercício                    0\n",
       "porcentaje ejecutado             0\n",
       "dtype: int64"
      ]
     },
     "execution_count": 36,
     "metadata": {},
     "output_type": "execute_result"
    }
   ],
   "source": [
    "df_completa.isna().sum()"
   ]
  },
  {
   "cell_type": "code",
   "execution_count": 37,
   "metadata": {},
   "outputs": [
    {
     "data": {
      "text/plain": [
       "(1026139, 16)"
      ]
     },
     "execution_count": 37,
     "metadata": {},
     "output_type": "execute_result"
    }
   ],
   "source": [
    "df_completa.shape"
   ]
  },
  {
   "cell_type": "code",
   "execution_count": 38,
   "metadata": {},
   "outputs": [],
   "source": [
    "dfcompletasinNan= df_completa.dropna()"
   ]
  },
  {
   "cell_type": "code",
   "execution_count": 39,
   "metadata": {},
   "outputs": [
    {
     "data": {
      "text/html": [
       "<div>\n",
       "<style scoped>\n",
       "    .dataframe tbody tr th:only-of-type {\n",
       "        vertical-align: middle;\n",
       "    }\n",
       "\n",
       "    .dataframe tbody tr th {\n",
       "        vertical-align: top;\n",
       "    }\n",
       "\n",
       "    .dataframe thead th {\n",
       "        text-align: right;\n",
       "    }\n",
       "</style>\n",
       "<table border=\"1\" class=\"dataframe\">\n",
       "  <thead>\n",
       "    <tr style=\"text-align: right;\">\n",
       "      <th></th>\n",
       "      <th>código órgão superior</th>\n",
       "      <th>nome órgão superior</th>\n",
       "      <th>código órgão</th>\n",
       "      <th>nome órgão</th>\n",
       "      <th>código unidade gestora</th>\n",
       "      <th>nome unidade gestora</th>\n",
       "      <th>categoria econômica</th>\n",
       "      <th>origem receita</th>\n",
       "      <th>espécie receita</th>\n",
       "      <th>detalhamento</th>\n",
       "      <th>valor previsto atualizado</th>\n",
       "      <th>valor lançado</th>\n",
       "      <th>valor realizado</th>\n",
       "      <th>data lançamento</th>\n",
       "      <th>ano exercício</th>\n",
       "      <th>porcentaje ejecutado</th>\n",
       "    </tr>\n",
       "  </thead>\n",
       "  <tbody>\n",
       "    <tr>\n",
       "      <th>892271</th>\n",
       "      <td>20000.0</td>\n",
       "      <td>Presidência da República</td>\n",
       "      <td>60000.0</td>\n",
       "      <td>Gabinete da Vice-Presidência da República</td>\n",
       "      <td>110101.0</td>\n",
       "      <td>GABINETE DA VICE-PRESIDENCIA DA REPUBLICA</td>\n",
       "      <td>Receitas de Capital</td>\n",
       "      <td>Operações de Crédito</td>\n",
       "      <td>Operações de crédito - mercado interno</td>\n",
       "      <td>TITULOS DE RESPONS.TES.NAC.-MERC.INT.-PRINC.</td>\n",
       "      <td>10247198.0</td>\n",
       "      <td>0.0</td>\n",
       "      <td>0.0</td>\n",
       "      <td>2021-04-23</td>\n",
       "      <td>2021.0</td>\n",
       "      <td>0.0</td>\n",
       "    </tr>\n",
       "    <tr>\n",
       "      <th>892272</th>\n",
       "      <td>20000.0</td>\n",
       "      <td>Presidência da República</td>\n",
       "      <td>24208.0</td>\n",
       "      <td>Instituto Nacional de Tecnologia da Informação</td>\n",
       "      <td>243001.0</td>\n",
       "      <td>INSTITUTO NAC.DE TECNOLOGIA DA INFORMACAO ITI</td>\n",
       "      <td>Receitas de Capital</td>\n",
       "      <td>Operações de Crédito</td>\n",
       "      <td>Operações de crédito - mercado interno</td>\n",
       "      <td>TITULOS DE RESPONS.TES.NAC.-MERC.INT.-PRINC.</td>\n",
       "      <td>16940891.0</td>\n",
       "      <td>0.0</td>\n",
       "      <td>0.0</td>\n",
       "      <td>2021-04-23</td>\n",
       "      <td>2021.0</td>\n",
       "      <td>0.0</td>\n",
       "    </tr>\n",
       "    <tr>\n",
       "      <th>892273</th>\n",
       "      <td>20000.0</td>\n",
       "      <td>Presidência da República</td>\n",
       "      <td>24208.0</td>\n",
       "      <td>Instituto Nacional de Tecnologia da Informação</td>\n",
       "      <td>243001.0</td>\n",
       "      <td>INSTITUTO NAC.DE TECNOLOGIA DA INFORMACAO ITI</td>\n",
       "      <td>Receitas Correntes</td>\n",
       "      <td>Receita de Serviços</td>\n",
       "      <td>Serviços Administrativos e Comerciais Gerais</td>\n",
       "      <td>SERV.DE REGIST.,CERTIF.E FISCALIZ.-PRINCIPAL</td>\n",
       "      <td>200000.0</td>\n",
       "      <td>0.0</td>\n",
       "      <td>0.0</td>\n",
       "      <td>2021-04-23</td>\n",
       "      <td>2021.0</td>\n",
       "      <td>0.0</td>\n",
       "    </tr>\n",
       "    <tr>\n",
       "      <th>892274</th>\n",
       "      <td>20000.0</td>\n",
       "      <td>Presidência da República</td>\n",
       "      <td>24208.0</td>\n",
       "      <td>Instituto Nacional de Tecnologia da Informação</td>\n",
       "      <td>243001.0</td>\n",
       "      <td>INSTITUTO NAC.DE TECNOLOGIA DA INFORMACAO ITI</td>\n",
       "      <td>Receitas Correntes</td>\n",
       "      <td>Receita de Serviços</td>\n",
       "      <td>Serviços Administrativos e Comerciais Gerais</td>\n",
       "      <td>SERV.DE REGIST.,CERTIF.E FISCALIZ.-PRINCIPAL</td>\n",
       "      <td>0.0</td>\n",
       "      <td>0.0</td>\n",
       "      <td>1000000.0</td>\n",
       "      <td>2021-05-10</td>\n",
       "      <td>2021.0</td>\n",
       "      <td>0.0</td>\n",
       "    </tr>\n",
       "    <tr>\n",
       "      <th>892275</th>\n",
       "      <td>20000.0</td>\n",
       "      <td>Presidência da República</td>\n",
       "      <td>24208.0</td>\n",
       "      <td>Instituto Nacional de Tecnologia da Informação</td>\n",
       "      <td>243001.0</td>\n",
       "      <td>INSTITUTO NAC.DE TECNOLOGIA DA INFORMACAO ITI</td>\n",
       "      <td>Receitas Correntes</td>\n",
       "      <td>Receita de Serviços</td>\n",
       "      <td>Serviços Administrativos e Comerciais Gerais</td>\n",
       "      <td>SERV.DE REGIST.,CERTIF.E FISCALIZ.-PRINCIPAL</td>\n",
       "      <td>0.0</td>\n",
       "      <td>0.0</td>\n",
       "      <td>1000000.0</td>\n",
       "      <td>2021-03-23</td>\n",
       "      <td>2021.0</td>\n",
       "      <td>0.0</td>\n",
       "    </tr>\n",
       "  </tbody>\n",
       "</table>\n",
       "</div>"
      ],
      "text/plain": [
       "        código órgão superior       nome órgão superior  código órgão  \\\n",
       "892271                20000.0  Presidência da República       60000.0   \n",
       "892272                20000.0  Presidência da República       24208.0   \n",
       "892273                20000.0  Presidência da República       24208.0   \n",
       "892274                20000.0  Presidência da República       24208.0   \n",
       "892275                20000.0  Presidência da República       24208.0   \n",
       "\n",
       "                                            nome órgão  \\\n",
       "892271       Gabinete da Vice-Presidência da República   \n",
       "892272  Instituto Nacional de Tecnologia da Informação   \n",
       "892273  Instituto Nacional de Tecnologia da Informação   \n",
       "892274  Instituto Nacional de Tecnologia da Informação   \n",
       "892275  Instituto Nacional de Tecnologia da Informação   \n",
       "\n",
       "        código unidade gestora                           nome unidade gestora  \\\n",
       "892271                110101.0      GABINETE DA VICE-PRESIDENCIA DA REPUBLICA   \n",
       "892272                243001.0  INSTITUTO NAC.DE TECNOLOGIA DA INFORMACAO ITI   \n",
       "892273                243001.0  INSTITUTO NAC.DE TECNOLOGIA DA INFORMACAO ITI   \n",
       "892274                243001.0  INSTITUTO NAC.DE TECNOLOGIA DA INFORMACAO ITI   \n",
       "892275                243001.0  INSTITUTO NAC.DE TECNOLOGIA DA INFORMACAO ITI   \n",
       "\n",
       "        categoria econômica        origem receita  \\\n",
       "892271  Receitas de Capital  Operações de Crédito   \n",
       "892272  Receitas de Capital  Operações de Crédito   \n",
       "892273   Receitas Correntes   Receita de Serviços   \n",
       "892274   Receitas Correntes   Receita de Serviços   \n",
       "892275   Receitas Correntes   Receita de Serviços   \n",
       "\n",
       "                                     espécie receita  \\\n",
       "892271        Operações de crédito - mercado interno   \n",
       "892272        Operações de crédito - mercado interno   \n",
       "892273  Serviços Administrativos e Comerciais Gerais   \n",
       "892274  Serviços Administrativos e Comerciais Gerais   \n",
       "892275  Serviços Administrativos e Comerciais Gerais   \n",
       "\n",
       "                                        detalhamento  \\\n",
       "892271  TITULOS DE RESPONS.TES.NAC.-MERC.INT.-PRINC.   \n",
       "892272  TITULOS DE RESPONS.TES.NAC.-MERC.INT.-PRINC.   \n",
       "892273  SERV.DE REGIST.,CERTIF.E FISCALIZ.-PRINCIPAL   \n",
       "892274  SERV.DE REGIST.,CERTIF.E FISCALIZ.-PRINCIPAL   \n",
       "892275  SERV.DE REGIST.,CERTIF.E FISCALIZ.-PRINCIPAL   \n",
       "\n",
       "        valor previsto atualizado  valor lançado  valor realizado  \\\n",
       "892271                 10247198.0            0.0              0.0   \n",
       "892272                 16940891.0            0.0              0.0   \n",
       "892273                   200000.0            0.0              0.0   \n",
       "892274                        0.0            0.0        1000000.0   \n",
       "892275                        0.0            0.0        1000000.0   \n",
       "\n",
       "       data lançamento  ano exercício  porcentaje ejecutado  \n",
       "892271      2021-04-23         2021.0                   0.0  \n",
       "892272      2021-04-23         2021.0                   0.0  \n",
       "892273      2021-04-23         2021.0                   0.0  \n",
       "892274      2021-05-10         2021.0                   0.0  \n",
       "892275      2021-03-23         2021.0                   0.0  "
      ]
     },
     "execution_count": 39,
     "metadata": {},
     "output_type": "execute_result"
    }
   ],
   "source": [
    "dfcompletasinNan.reset_index(drop= True, inplace= True)\n",
    "dfcompletasinNan.tail()"
   ]
  },
  {
   "cell_type": "code",
   "execution_count": 40,
   "metadata": {},
   "outputs": [
    {
     "data": {
      "text/html": [
       "<div>\n",
       "<style scoped>\n",
       "    .dataframe tbody tr th:only-of-type {\n",
       "        vertical-align: middle;\n",
       "    }\n",
       "\n",
       "    .dataframe tbody tr th {\n",
       "        vertical-align: top;\n",
       "    }\n",
       "\n",
       "    .dataframe thead th {\n",
       "        text-align: right;\n",
       "    }\n",
       "</style>\n",
       "<table border=\"1\" class=\"dataframe\">\n",
       "  <thead>\n",
       "    <tr style=\"text-align: right;\">\n",
       "      <th></th>\n",
       "      <th>código órgão superior</th>\n",
       "      <th>nome órgão superior</th>\n",
       "      <th>código órgão</th>\n",
       "      <th>nome órgão</th>\n",
       "      <th>código unidade gestora</th>\n",
       "      <th>nome unidade gestora</th>\n",
       "      <th>categoria econômica</th>\n",
       "      <th>origem receita</th>\n",
       "      <th>espécie receita</th>\n",
       "      <th>detalhamento</th>\n",
       "      <th>valor previsto atualizado</th>\n",
       "      <th>valor lançado</th>\n",
       "      <th>valor realizado</th>\n",
       "      <th>data lançamento</th>\n",
       "      <th>ano exercício</th>\n",
       "      <th>porcentaje ejecutado</th>\n",
       "    </tr>\n",
       "  </thead>\n",
       "  <tbody>\n",
       "    <tr>\n",
       "      <th>268017</th>\n",
       "      <td>26000.0</td>\n",
       "      <td>Ministério da Educação</td>\n",
       "      <td>26436.0</td>\n",
       "      <td>Instituto Federal Sul-rio-grandense</td>\n",
       "      <td>158126.0</td>\n",
       "      <td>INST.FED.DE EDUC.,CIE.E TEC.SUL-RIO-GRANDENSE</td>\n",
       "      <td>Receitas Correntes</td>\n",
       "      <td>Receita de Serviços</td>\n",
       "      <td>Serviços Administrativos e Comerciais Gerais</td>\n",
       "      <td>SERV.ADMINISTRAT.E COMERCIAIS GERAIS-PRINC.</td>\n",
       "      <td>0.0</td>\n",
       "      <td>0.0</td>\n",
       "      <td>388.50</td>\n",
       "      <td>2017-11-24</td>\n",
       "      <td>2017.0</td>\n",
       "      <td>0.0</td>\n",
       "    </tr>\n",
       "    <tr>\n",
       "      <th>551507</th>\n",
       "      <td>25000.0</td>\n",
       "      <td>Ministério da Economia</td>\n",
       "      <td>25201.0</td>\n",
       "      <td>Banco Central do Brasil - Orçamento Fiscal e S...</td>\n",
       "      <td>173057.0</td>\n",
       "      <td>BANCO CENTRAL DO BRASIL</td>\n",
       "      <td>Receitas Correntes</td>\n",
       "      <td>Receita de Serviços</td>\n",
       "      <td>Outros serviços</td>\n",
       "      <td>OUTROS SERVICOS-PRINCIPAL</td>\n",
       "      <td>0.0</td>\n",
       "      <td>0.0</td>\n",
       "      <td>78580.31</td>\n",
       "      <td>2019-10-04</td>\n",
       "      <td>2019.0</td>\n",
       "      <td>0.0</td>\n",
       "    </tr>\n",
       "    <tr>\n",
       "      <th>465185</th>\n",
       "      <td>30000.0</td>\n",
       "      <td>Ministério da Justiça e Segurança Pública</td>\n",
       "      <td>30912.0</td>\n",
       "      <td>Fundo Nacional Antidrogas</td>\n",
       "      <td>200246.0</td>\n",
       "      <td>FUNDO NACIONAL ANTIDROGAS</td>\n",
       "      <td>Receitas Correntes</td>\n",
       "      <td>Outras Receitas Correntes</td>\n",
       "      <td>Bens, Direitos e Valores Incorporados ao Patr</td>\n",
       "      <td>ALIEN.BENS E MERCADORIAS APREENDIDOS-MUL.JUR.</td>\n",
       "      <td>0.0</td>\n",
       "      <td>0.0</td>\n",
       "      <td>2139.80</td>\n",
       "      <td>2018-11-06</td>\n",
       "      <td>2018.0</td>\n",
       "      <td>0.0</td>\n",
       "    </tr>\n",
       "    <tr>\n",
       "      <th>134495</th>\n",
       "      <td>39000.0</td>\n",
       "      <td>Ministério da Infraestrutura</td>\n",
       "      <td>39250.0</td>\n",
       "      <td>Agência Nacional de Transportes Terrestres</td>\n",
       "      <td>393001.0</td>\n",
       "      <td>AGENCIA NACIONAL DE TRANSPORTES TERRESTRES</td>\n",
       "      <td>Receitas Correntes</td>\n",
       "      <td>Impostos, Taxas e Contribuições de Melhoria</td>\n",
       "      <td>Taxas</td>\n",
       "      <td>TAXAS INSPECAO,CONTROLE E FISCALIZACAO-PRINC.</td>\n",
       "      <td>0.0</td>\n",
       "      <td>0.0</td>\n",
       "      <td>22735.03</td>\n",
       "      <td>2016-06-22</td>\n",
       "      <td>2016.0</td>\n",
       "      <td>0.0</td>\n",
       "    </tr>\n",
       "  </tbody>\n",
       "</table>\n",
       "</div>"
      ],
      "text/plain": [
       "        código órgão superior                        nome órgão superior  \\\n",
       "268017                26000.0                     Ministério da Educação   \n",
       "551507                25000.0                     Ministério da Economia   \n",
       "465185                30000.0  Ministério da Justiça e Segurança Pública   \n",
       "134495                39000.0               Ministério da Infraestrutura   \n",
       "\n",
       "        código órgão                                         nome órgão  \\\n",
       "268017       26436.0                Instituto Federal Sul-rio-grandense   \n",
       "551507       25201.0  Banco Central do Brasil - Orçamento Fiscal e S...   \n",
       "465185       30912.0                          Fundo Nacional Antidrogas   \n",
       "134495       39250.0         Agência Nacional de Transportes Terrestres   \n",
       "\n",
       "        código unidade gestora                           nome unidade gestora  \\\n",
       "268017                158126.0  INST.FED.DE EDUC.,CIE.E TEC.SUL-RIO-GRANDENSE   \n",
       "551507                173057.0                        BANCO CENTRAL DO BRASIL   \n",
       "465185                200246.0                      FUNDO NACIONAL ANTIDROGAS   \n",
       "134495                393001.0     AGENCIA NACIONAL DE TRANSPORTES TERRESTRES   \n",
       "\n",
       "       categoria econômica                               origem receita  \\\n",
       "268017  Receitas Correntes                          Receita de Serviços   \n",
       "551507  Receitas Correntes                          Receita de Serviços   \n",
       "465185  Receitas Correntes                    Outras Receitas Correntes   \n",
       "134495  Receitas Correntes  Impostos, Taxas e Contribuições de Melhoria   \n",
       "\n",
       "                                      espécie receita  \\\n",
       "268017   Serviços Administrativos e Comerciais Gerais   \n",
       "551507                                Outros serviços   \n",
       "465185  Bens, Direitos e Valores Incorporados ao Patr   \n",
       "134495                                          Taxas   \n",
       "\n",
       "                                         detalhamento  \\\n",
       "268017    SERV.ADMINISTRAT.E COMERCIAIS GERAIS-PRINC.   \n",
       "551507                      OUTROS SERVICOS-PRINCIPAL   \n",
       "465185  ALIEN.BENS E MERCADORIAS APREENDIDOS-MUL.JUR.   \n",
       "134495  TAXAS INSPECAO,CONTROLE E FISCALIZACAO-PRINC.   \n",
       "\n",
       "        valor previsto atualizado  valor lançado  valor realizado  \\\n",
       "268017                        0.0            0.0           388.50   \n",
       "551507                        0.0            0.0         78580.31   \n",
       "465185                        0.0            0.0          2139.80   \n",
       "134495                        0.0            0.0         22735.03   \n",
       "\n",
       "       data lançamento  ano exercício  porcentaje ejecutado  \n",
       "268017      2017-11-24         2017.0                   0.0  \n",
       "551507      2019-10-04         2019.0                   0.0  \n",
       "465185      2018-11-06         2018.0                   0.0  \n",
       "134495      2016-06-22         2016.0                   0.0  "
      ]
     },
     "execution_count": 40,
     "metadata": {},
     "output_type": "execute_result"
    }
   ],
   "source": [
    "dfcompletasinNan.sample(4)"
   ]
  },
  {
   "cell_type": "code",
   "execution_count": 41,
   "metadata": {},
   "outputs": [
    {
     "data": {
      "text/plain": [
       "(892276, 16)"
      ]
     },
     "execution_count": 41,
     "metadata": {},
     "output_type": "execute_result"
    }
   ],
   "source": [
    "dfcompletasinNan.shape  #14.276.416 celdas completas  \n",
    "                        #16.418.208 celdas totales (contando nulos)\n",
    "                        #Perdemos 13% de las celdas"
   ]
  },
  {
   "cell_type": "code",
   "execution_count": 42,
   "metadata": {},
   "outputs": [
    {
     "data": {
      "text/plain": [
       "código órgão superior        0\n",
       "nome órgão superior          0\n",
       "código órgão                 0\n",
       "nome órgão                   0\n",
       "código unidade gestora       0\n",
       "nome unidade gestora         0\n",
       "categoria econômica          0\n",
       "origem receita               0\n",
       "espécie receita              0\n",
       "detalhamento                 0\n",
       "valor previsto atualizado    0\n",
       "valor lançado                0\n",
       "valor realizado              0\n",
       "data lançamento              0\n",
       "ano exercício                0\n",
       "porcentaje ejecutado         0\n",
       "dtype: int64"
      ]
     },
     "execution_count": 42,
     "metadata": {},
     "output_type": "execute_result"
    }
   ],
   "source": [
    "dfcompletasinNan.isna().sum()"
   ]
  },
  {
   "cell_type": "code",
   "execution_count": 43,
   "metadata": {},
   "outputs": [],
   "source": [
    "df_completa.to_csv(\"datos/df_completa.csv\") \n",
    "dfcompletasinNan.to_csv(\"datos/dfcompletasinNan.csv\") "
   ]
  }
 ],
 "metadata": {
  "kernelspec": {
   "display_name": "Python 3",
   "language": "python",
   "name": "python3"
  },
  "language_info": {
   "codemirror_mode": {
    "name": "ipython",
    "version": 3
   },
   "file_extension": ".py",
   "mimetype": "text/x-python",
   "name": "python",
   "nbconvert_exporter": "python",
   "pygments_lexer": "ipython3",
   "version": "3.11.9"
  }
 },
 "nbformat": 4,
 "nbformat_minor": 2
}
