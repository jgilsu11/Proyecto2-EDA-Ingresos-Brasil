{
 "cells": [
  {
   "cell_type": "code",
   "execution_count": 1,
   "metadata": {},
   "outputs": [],
   "source": [
    "import pandas as pd\n",
    "import numpy as np\n",
    "from datetime import datetime\n"
   ]
  },
  {
   "cell_type": "code",
   "execution_count": 2,
   "metadata": {},
   "outputs": [],
   "source": [
    "df_13= pd.read_csv(\"datos/datos-2013.csv\", sep= \";\")\n",
    "pd.set_option(\"display.max_columns\", None)\n",
    "df_14= pd.read_csv(\"datos/datos-2014.csv\", sep= \";\")\n",
    "pd.set_option(\"display.max_columns\", None)\n",
    "df_15= pd.read_csv(\"datos/datos-2015.csv\", sep= \";\")\n",
    "pd.set_option(\"display.max_columns\", None)\n",
    "df_16= pd.read_csv(\"datos/datos-2016.csv\", sep= \";\")\n",
    "pd.set_option(\"display.max_columns\", None)\n",
    "df_17= pd.read_csv(\"datos/datos-2017.csv\", sep= \";\")\n",
    "pd.set_option(\"display.max_columns\", None)\n",
    "df_18= pd.read_csv(\"datos/datos-2018.csv\", sep= \";\")\n",
    "pd.set_option(\"display.max_columns\", None)\n",
    "df_19= pd.read_csv(\"datos/datos-2019.csv\", sep= \";\")\n",
    "pd.set_option(\"display.max_columns\", None)\n",
    "df_20= pd.read_csv(\"datos/datos-2020.csv\", sep= \";\")\n",
    "pd.set_option(\"display.max_columns\", None)\n",
    "df_21= pd.read_csv(\"datos/datos-2021.csv\", sep= \";\")\n",
    "pd.set_option(\"display.max_columns\", None)\n",
    "#Falta abrir el diccionario de datos\n"
   ]
  },
  {
   "cell_type": "code",
   "execution_count": 3,
   "metadata": {},
   "outputs": [
    {
     "name": "stderr",
     "output_type": "stream",
     "text": [
      "C:\\Users\\jaime\\AppData\\Local\\Temp\\ipykernel_22112\\3123453317.py:1: ParserWarning: Falling back to the 'python' engine because the 'c' engine does not support regex separators (separators > 1 char and different from '\\s+' are interpreted as regex); you can avoid this warning by specifying engine='python'.\n",
      "  df_dicc= pd.read_csv(\"datos/diccionario_datos.csv\", sep= \";;\", encoding= \"latin-1\")\n"
     ]
    }
   ],
   "source": [
    "df_dicc= pd.read_csv(\"datos/diccionario_datos.csv\", sep= \";;\", encoding= \"latin-1\")\n",
    "pd.set_option(\"display.max_columns\", None)"
   ]
  },
  {
   "cell_type": "code",
   "execution_count": 4,
   "metadata": {},
   "outputs": [
    {
     "data": {
      "text/html": [
       "<div>\n",
       "<style scoped>\n",
       "    .dataframe tbody tr th:only-of-type {\n",
       "        vertical-align: middle;\n",
       "    }\n",
       "\n",
       "    .dataframe tbody tr th {\n",
       "        vertical-align: top;\n",
       "    }\n",
       "\n",
       "    .dataframe thead th {\n",
       "        text-align: right;\n",
       "    }\n",
       "</style>\n",
       "<table border=\"1\" class=\"dataframe\">\n",
       "  <thead>\n",
       "    <tr style=\"text-align: right;\">\n",
       "      <th></th>\n",
       "      <th>COLUNA</th>\n",
       "      <th>DESCRIÇÃO;</th>\n",
       "    </tr>\n",
       "  </thead>\n",
       "  <tbody>\n",
       "    <tr>\n",
       "      <th>0</th>\n",
       "      <td>NaN</td>\n",
       "      <td>;</td>\n",
       "    </tr>\n",
       "    <tr>\n",
       "      <th>1</th>\n",
       "      <td>Código Órgão Superior</td>\n",
       "      <td>Código do Órgão Superior responsável pela rece...</td>\n",
       "    </tr>\n",
       "    <tr>\n",
       "      <th>2</th>\n",
       "      <td>NaN</td>\n",
       "      <td>;</td>\n",
       "    </tr>\n",
       "    <tr>\n",
       "      <th>3</th>\n",
       "      <td>NaN</td>\n",
       "      <td>Nome do Órgão Superior responsável pela receita.;</td>\n",
       "    </tr>\n",
       "    <tr>\n",
       "      <th>4</th>\n",
       "      <td>Nome Órgão Superior</td>\n",
       "      <td>;</td>\n",
       "    </tr>\n",
       "  </tbody>\n",
       "</table>\n",
       "</div>"
      ],
      "text/plain": [
       "                  COLUNA                                         DESCRIÇÃO;\n",
       "0                    NaN                                                  ;\n",
       "1  Código Órgão Superior  Código do Órgão Superior responsável pela rece...\n",
       "2                    NaN                                                  ;\n",
       "3                    NaN  Nome do Órgão Superior responsável pela receita.;\n",
       "4    Nome Órgão Superior                                                  ;"
      ]
     },
     "execution_count": 4,
     "metadata": {},
     "output_type": "execute_result"
    }
   ],
   "source": [
    "df_dicc.head()"
   ]
  },
  {
   "cell_type": "markdown",
   "metadata": {},
   "source": [
    "**COSAS PARA REPETIR EN TODAS**"
   ]
  },
  {
   "cell_type": "code",
   "execution_count": null,
   "metadata": {},
   "outputs": [],
   "source": [
    "df_13['nome órgão superior'] = df_13.groupby('código órgão superior')['nome órgão superior'].transform(lambda x: x.fillna(method='ffill'))\n",
    "df_13['nome órgão superior'].info() #Columna codigo y nombre\n",
    "\n",
    "\n",
    "df_13[\"data lançamento\"] = pd.to_datetime(df_13[\"data lançamento\"]) \n",
    "df_13[\"data lançamento\"]  #cambio a fecha\n",
    "\n",
    "df_13[\"valor realizado\"]= df_13[\"valor realizado\"].str.replace(\",\",\".\")\n",
    "df_13[\"valor realizado\"] = list(map(float, df_13[\"valor realizado\"]))\n",
    "df_13[\"valor lançado\"]= df_13[\"valor lançado\"].str.replace(\",\",\".\")\n",
    "df_13[\"valor lançado\"] = list(map(float, df_13[\"valor lançado\"]))\n",
    "df_13[\"valor previsto atualizado\"]= df_13[\"valor previsto atualizado\"].str.replace(\",\",\".\")\n",
    "df_13[\"valor previsto atualizado\"] = list(map(float, df_13[\"valor previsto atualizado\"]))\n",
    "df_13[\"percentual realizado\"]= df_13[\"percentual realizado\"].str.replace(\",\",\".\")\n",
    "df_13[\"percentual realizado\"] = list(map(float, df_13[\"percentual realizado\"]))    #cambio a float\n",
    "\n"
   ]
  },
  {
   "cell_type": "code",
   "execution_count": 66,
   "metadata": {},
   "outputs": [
    {
     "name": "stderr",
     "output_type": "stream",
     "text": [
      "C:\\Users\\jaime\\AppData\\Local\\Temp\\ipykernel_22112\\1629192729.py:1: FutureWarning: Series.fillna with 'method' is deprecated and will raise in a future version. Use obj.ffill() or obj.bfill() instead.\n",
      "  df_14['nome órgão superior'] = df_14.groupby('código órgão superior')['nome órgão superior'].transform(lambda x: x.fillna(method='ffill'))\n",
      "C:\\Users\\jaime\\AppData\\Local\\Temp\\ipykernel_22112\\1629192729.py:5: UserWarning: Parsing dates in %d/%m/%Y format when dayfirst=False (the default) was specified. Pass `dayfirst=True` or specify a format to silence this warning.\n",
      "  df_14[\"data lançamento\"] = pd.to_datetime(df_14[\"data lançamento\"])\n",
      "C:\\Users\\jaime\\AppData\\Local\\Temp\\ipykernel_22112\\1629192729.py:19: FutureWarning: Series.fillna with 'method' is deprecated and will raise in a future version. Use obj.ffill() or obj.bfill() instead.\n",
      "  df_15['nome órgão superior'] = df_15.groupby('código órgão superior')['nome órgão superior'].transform(lambda x: x.fillna(method='ffill'))\n",
      "C:\\Users\\jaime\\AppData\\Local\\Temp\\ipykernel_22112\\1629192729.py:23: UserWarning: Parsing dates in %d/%m/%Y format when dayfirst=False (the default) was specified. Pass `dayfirst=True` or specify a format to silence this warning.\n",
      "  df_15[\"data lançamento\"] = pd.to_datetime(df_15[\"data lançamento\"])\n"
     ]
    },
    {
     "name": "stdout",
     "output_type": "stream",
     "text": [
      "<class 'pandas.core.series.Series'>\n",
      "RangeIndex: 4553 entries, 0 to 4552\n",
      "Series name: nome órgão superior\n",
      "Non-Null Count  Dtype \n",
      "--------------  ----- \n",
      "4325 non-null   object\n",
      "dtypes: object(1)\n",
      "memory usage: 35.7+ KB\n",
      "<class 'pandas.core.series.Series'>\n",
      "RangeIndex: 4523 entries, 0 to 4522\n",
      "Series name: nome órgão superior\n",
      "Non-Null Count  Dtype \n",
      "--------------  ----- \n",
      "4308 non-null   object\n",
      "dtypes: object(1)\n",
      "memory usage: 35.5+ KB\n"
     ]
    },
    {
     "name": "stderr",
     "output_type": "stream",
     "text": [
      "C:\\Users\\jaime\\AppData\\Local\\Temp\\ipykernel_22112\\1629192729.py:36: FutureWarning: Series.fillna with 'method' is deprecated and will raise in a future version. Use obj.ffill() or obj.bfill() instead.\n",
      "  df_16['nome órgão superior'] = df_16.groupby('código órgão superior')['nome órgão superior'].transform(lambda x: x.fillna(method='ffill'))\n"
     ]
    },
    {
     "name": "stdout",
     "output_type": "stream",
     "text": [
      "<class 'pandas.core.series.Series'>\n",
      "RangeIndex: 194533 entries, 0 to 194532\n",
      "Series name: nome órgão superior\n",
      "Non-Null Count   Dtype \n",
      "--------------   ----- \n",
      "190203 non-null  object\n",
      "dtypes: object(1)\n",
      "memory usage: 1.5+ MB\n"
     ]
    },
    {
     "ename": "ValueError",
     "evalue": "time data \"22/08/2016\" doesn't match format \"%m/%d/%Y\", at position 2. You might want to try:\n    - passing `format` if your strings have a consistent format;\n    - passing `format='ISO8601'` if your strings are all ISO8601 but not necessarily in exactly the same format;\n    - passing `format='mixed'`, and the format will be inferred for each element individually. You might want to use `dayfirst` alongside this.",
     "output_type": "error",
     "traceback": [
      "\u001b[1;31m---------------------------------------------------------------------------\u001b[0m",
      "\u001b[1;31mValueError\u001b[0m                                Traceback (most recent call last)",
      "Cell \u001b[1;32mIn[66], line 40\u001b[0m\n\u001b[0;32m     36\u001b[0m df_16[\u001b[38;5;124m'\u001b[39m\u001b[38;5;124mnome órgão superior\u001b[39m\u001b[38;5;124m'\u001b[39m] \u001b[38;5;241m=\u001b[39m df_16\u001b[38;5;241m.\u001b[39mgroupby(\u001b[38;5;124m'\u001b[39m\u001b[38;5;124mcódigo órgão superior\u001b[39m\u001b[38;5;124m'\u001b[39m)[\u001b[38;5;124m'\u001b[39m\u001b[38;5;124mnome órgão superior\u001b[39m\u001b[38;5;124m'\u001b[39m]\u001b[38;5;241m.\u001b[39mtransform(\u001b[38;5;28;01mlambda\u001b[39;00m x: x\u001b[38;5;241m.\u001b[39mfillna(method\u001b[38;5;241m=\u001b[39m\u001b[38;5;124m'\u001b[39m\u001b[38;5;124mffill\u001b[39m\u001b[38;5;124m'\u001b[39m))\n\u001b[0;32m     37\u001b[0m df_16[\u001b[38;5;124m'\u001b[39m\u001b[38;5;124mnome órgão superior\u001b[39m\u001b[38;5;124m'\u001b[39m]\u001b[38;5;241m.\u001b[39minfo() \u001b[38;5;66;03m#Columna codigo y nombre\u001b[39;00m\n\u001b[1;32m---> 40\u001b[0m df_16[\u001b[38;5;124m\"\u001b[39m\u001b[38;5;124mdata lançamento\u001b[39m\u001b[38;5;124m\"\u001b[39m] \u001b[38;5;241m=\u001b[39m \u001b[43mpd\u001b[49m\u001b[38;5;241;43m.\u001b[39;49m\u001b[43mto_datetime\u001b[49m\u001b[43m(\u001b[49m\u001b[43mdf_16\u001b[49m\u001b[43m[\u001b[49m\u001b[38;5;124;43m\"\u001b[39;49m\u001b[38;5;124;43mdata lançamento\u001b[39;49m\u001b[38;5;124;43m\"\u001b[39;49m\u001b[43m]\u001b[49m\u001b[43m)\u001b[49m \n\u001b[0;32m     41\u001b[0m df_16[\u001b[38;5;124m\"\u001b[39m\u001b[38;5;124mdata lançamento\u001b[39m\u001b[38;5;124m\"\u001b[39m]  \u001b[38;5;66;03m#cambio a fecha\u001b[39;00m\n\u001b[0;32m     43\u001b[0m df_16[\u001b[38;5;124m\"\u001b[39m\u001b[38;5;124mvalor realizado\u001b[39m\u001b[38;5;124m\"\u001b[39m]\u001b[38;5;241m=\u001b[39m df_16[\u001b[38;5;124m\"\u001b[39m\u001b[38;5;124mvalor realizado\u001b[39m\u001b[38;5;124m\"\u001b[39m]\u001b[38;5;241m.\u001b[39mstr\u001b[38;5;241m.\u001b[39mreplace(\u001b[38;5;124m\"\u001b[39m\u001b[38;5;124m,\u001b[39m\u001b[38;5;124m\"\u001b[39m,\u001b[38;5;124m\"\u001b[39m\u001b[38;5;124m.\u001b[39m\u001b[38;5;124m\"\u001b[39m)\n",
      "File \u001b[1;32m~\\AppData\\Local\\Packages\\PythonSoftwareFoundation.Python.3.11_qbz5n2kfra8p0\\LocalCache\\local-packages\\Python311\\site-packages\\pandas\\core\\tools\\datetimes.py:1063\u001b[0m, in \u001b[0;36mto_datetime\u001b[1;34m(arg, errors, dayfirst, yearfirst, utc, format, exact, unit, infer_datetime_format, origin, cache)\u001b[0m\n\u001b[0;32m   1061\u001b[0m             result \u001b[38;5;241m=\u001b[39m arg\u001b[38;5;241m.\u001b[39mtz_localize(\u001b[38;5;124m\"\u001b[39m\u001b[38;5;124mutc\u001b[39m\u001b[38;5;124m\"\u001b[39m)\n\u001b[0;32m   1062\u001b[0m \u001b[38;5;28;01melif\u001b[39;00m \u001b[38;5;28misinstance\u001b[39m(arg, ABCSeries):\n\u001b[1;32m-> 1063\u001b[0m     cache_array \u001b[38;5;241m=\u001b[39m \u001b[43m_maybe_cache\u001b[49m\u001b[43m(\u001b[49m\u001b[43marg\u001b[49m\u001b[43m,\u001b[49m\u001b[43m \u001b[49m\u001b[38;5;28;43mformat\u001b[39;49m\u001b[43m,\u001b[49m\u001b[43m \u001b[49m\u001b[43mcache\u001b[49m\u001b[43m,\u001b[49m\u001b[43m \u001b[49m\u001b[43mconvert_listlike\u001b[49m\u001b[43m)\u001b[49m\n\u001b[0;32m   1064\u001b[0m     \u001b[38;5;28;01mif\u001b[39;00m \u001b[38;5;129;01mnot\u001b[39;00m cache_array\u001b[38;5;241m.\u001b[39mempty:\n\u001b[0;32m   1065\u001b[0m         result \u001b[38;5;241m=\u001b[39m arg\u001b[38;5;241m.\u001b[39mmap(cache_array)\n",
      "File \u001b[1;32m~\\AppData\\Local\\Packages\\PythonSoftwareFoundation.Python.3.11_qbz5n2kfra8p0\\LocalCache\\local-packages\\Python311\\site-packages\\pandas\\core\\tools\\datetimes.py:247\u001b[0m, in \u001b[0;36m_maybe_cache\u001b[1;34m(arg, format, cache, convert_listlike)\u001b[0m\n\u001b[0;32m    245\u001b[0m unique_dates \u001b[38;5;241m=\u001b[39m unique(arg)\n\u001b[0;32m    246\u001b[0m \u001b[38;5;28;01mif\u001b[39;00m \u001b[38;5;28mlen\u001b[39m(unique_dates) \u001b[38;5;241m<\u001b[39m \u001b[38;5;28mlen\u001b[39m(arg):\n\u001b[1;32m--> 247\u001b[0m     cache_dates \u001b[38;5;241m=\u001b[39m \u001b[43mconvert_listlike\u001b[49m\u001b[43m(\u001b[49m\u001b[43munique_dates\u001b[49m\u001b[43m,\u001b[49m\u001b[43m \u001b[49m\u001b[38;5;28;43mformat\u001b[39;49m\u001b[43m)\u001b[49m\n\u001b[0;32m    248\u001b[0m     \u001b[38;5;66;03m# GH#45319\u001b[39;00m\n\u001b[0;32m    249\u001b[0m     \u001b[38;5;28;01mtry\u001b[39;00m:\n",
      "File \u001b[1;32m~\\AppData\\Local\\Packages\\PythonSoftwareFoundation.Python.3.11_qbz5n2kfra8p0\\LocalCache\\local-packages\\Python311\\site-packages\\pandas\\core\\tools\\datetimes.py:433\u001b[0m, in \u001b[0;36m_convert_listlike_datetimes\u001b[1;34m(arg, format, name, utc, unit, errors, dayfirst, yearfirst, exact)\u001b[0m\n\u001b[0;32m    431\u001b[0m \u001b[38;5;66;03m# `format` could be inferred, or user didn't ask for mixed-format parsing.\u001b[39;00m\n\u001b[0;32m    432\u001b[0m \u001b[38;5;28;01mif\u001b[39;00m \u001b[38;5;28mformat\u001b[39m \u001b[38;5;129;01mis\u001b[39;00m \u001b[38;5;129;01mnot\u001b[39;00m \u001b[38;5;28;01mNone\u001b[39;00m \u001b[38;5;129;01mand\u001b[39;00m \u001b[38;5;28mformat\u001b[39m \u001b[38;5;241m!=\u001b[39m \u001b[38;5;124m\"\u001b[39m\u001b[38;5;124mmixed\u001b[39m\u001b[38;5;124m\"\u001b[39m:\n\u001b[1;32m--> 433\u001b[0m     \u001b[38;5;28;01mreturn\u001b[39;00m \u001b[43m_array_strptime_with_fallback\u001b[49m\u001b[43m(\u001b[49m\u001b[43marg\u001b[49m\u001b[43m,\u001b[49m\u001b[43m \u001b[49m\u001b[43mname\u001b[49m\u001b[43m,\u001b[49m\u001b[43m \u001b[49m\u001b[43mutc\u001b[49m\u001b[43m,\u001b[49m\u001b[43m \u001b[49m\u001b[38;5;28;43mformat\u001b[39;49m\u001b[43m,\u001b[49m\u001b[43m \u001b[49m\u001b[43mexact\u001b[49m\u001b[43m,\u001b[49m\u001b[43m \u001b[49m\u001b[43merrors\u001b[49m\u001b[43m)\u001b[49m\n\u001b[0;32m    435\u001b[0m result, tz_parsed \u001b[38;5;241m=\u001b[39m objects_to_datetime64(\n\u001b[0;32m    436\u001b[0m     arg,\n\u001b[0;32m    437\u001b[0m     dayfirst\u001b[38;5;241m=\u001b[39mdayfirst,\n\u001b[1;32m   (...)\u001b[0m\n\u001b[0;32m    441\u001b[0m     allow_object\u001b[38;5;241m=\u001b[39m\u001b[38;5;28;01mTrue\u001b[39;00m,\n\u001b[0;32m    442\u001b[0m )\n\u001b[0;32m    444\u001b[0m \u001b[38;5;28;01mif\u001b[39;00m tz_parsed \u001b[38;5;129;01mis\u001b[39;00m \u001b[38;5;129;01mnot\u001b[39;00m \u001b[38;5;28;01mNone\u001b[39;00m:\n\u001b[0;32m    445\u001b[0m     \u001b[38;5;66;03m# We can take a shortcut since the datetime64 numpy array\u001b[39;00m\n\u001b[0;32m    446\u001b[0m     \u001b[38;5;66;03m# is in UTC\u001b[39;00m\n",
      "File \u001b[1;32m~\\AppData\\Local\\Packages\\PythonSoftwareFoundation.Python.3.11_qbz5n2kfra8p0\\LocalCache\\local-packages\\Python311\\site-packages\\pandas\\core\\tools\\datetimes.py:467\u001b[0m, in \u001b[0;36m_array_strptime_with_fallback\u001b[1;34m(arg, name, utc, fmt, exact, errors)\u001b[0m\n\u001b[0;32m    456\u001b[0m \u001b[38;5;28;01mdef\u001b[39;00m \u001b[38;5;21m_array_strptime_with_fallback\u001b[39m(\n\u001b[0;32m    457\u001b[0m     arg,\n\u001b[0;32m    458\u001b[0m     name,\n\u001b[1;32m   (...)\u001b[0m\n\u001b[0;32m    462\u001b[0m     errors: \u001b[38;5;28mstr\u001b[39m,\n\u001b[0;32m    463\u001b[0m ) \u001b[38;5;241m-\u001b[39m\u001b[38;5;241m>\u001b[39m Index:\n\u001b[0;32m    464\u001b[0m \u001b[38;5;250m    \u001b[39m\u001b[38;5;124;03m\"\"\"\u001b[39;00m\n\u001b[0;32m    465\u001b[0m \u001b[38;5;124;03m    Call array_strptime, with fallback behavior depending on 'errors'.\u001b[39;00m\n\u001b[0;32m    466\u001b[0m \u001b[38;5;124;03m    \"\"\"\u001b[39;00m\n\u001b[1;32m--> 467\u001b[0m     result, tz_out \u001b[38;5;241m=\u001b[39m \u001b[43marray_strptime\u001b[49m\u001b[43m(\u001b[49m\u001b[43marg\u001b[49m\u001b[43m,\u001b[49m\u001b[43m \u001b[49m\u001b[43mfmt\u001b[49m\u001b[43m,\u001b[49m\u001b[43m \u001b[49m\u001b[43mexact\u001b[49m\u001b[38;5;241;43m=\u001b[39;49m\u001b[43mexact\u001b[49m\u001b[43m,\u001b[49m\u001b[43m \u001b[49m\u001b[43merrors\u001b[49m\u001b[38;5;241;43m=\u001b[39;49m\u001b[43merrors\u001b[49m\u001b[43m,\u001b[49m\u001b[43m \u001b[49m\u001b[43mutc\u001b[49m\u001b[38;5;241;43m=\u001b[39;49m\u001b[43mutc\u001b[49m\u001b[43m)\u001b[49m\n\u001b[0;32m    468\u001b[0m     \u001b[38;5;28;01mif\u001b[39;00m tz_out \u001b[38;5;129;01mis\u001b[39;00m \u001b[38;5;129;01mnot\u001b[39;00m \u001b[38;5;28;01mNone\u001b[39;00m:\n\u001b[0;32m    469\u001b[0m         unit \u001b[38;5;241m=\u001b[39m np\u001b[38;5;241m.\u001b[39mdatetime_data(result\u001b[38;5;241m.\u001b[39mdtype)[\u001b[38;5;241m0\u001b[39m]\n",
      "File \u001b[1;32mstrptime.pyx:501\u001b[0m, in \u001b[0;36mpandas._libs.tslibs.strptime.array_strptime\u001b[1;34m()\u001b[0m\n",
      "File \u001b[1;32mstrptime.pyx:451\u001b[0m, in \u001b[0;36mpandas._libs.tslibs.strptime.array_strptime\u001b[1;34m()\u001b[0m\n",
      "File \u001b[1;32mstrptime.pyx:583\u001b[0m, in \u001b[0;36mpandas._libs.tslibs.strptime._parse_with_format\u001b[1;34m()\u001b[0m\n",
      "\u001b[1;31mValueError\u001b[0m: time data \"22/08/2016\" doesn't match format \"%m/%d/%Y\", at position 2. You might want to try:\n    - passing `format` if your strings have a consistent format;\n    - passing `format='ISO8601'` if your strings are all ISO8601 but not necessarily in exactly the same format;\n    - passing `format='mixed'`, and the format will be inferred for each element individually. You might want to use `dayfirst` alongside this."
     ]
    }
   ],
   "source": [
    "df_14['nome órgão superior'] = df_14.groupby('código órgão superior')['nome órgão superior'].transform(lambda x: x.fillna(method='ffill'))\n",
    "df_14['nome órgão superior'].info() #Columna codigo y nombre\n",
    "\n",
    "\n",
    "df_14[\"data lançamento\"] = pd.to_datetime(df_14[\"data lançamento\"]) \n",
    "df_14[\"data lançamento\"]  #cambio a fecha\n",
    "\n",
    "df_14[\"valor realizado\"]= df_14[\"valor realizado\"].str.replace(\",\",\".\")\n",
    "df_14[\"valor realizado\"] = list(map(float, df_14[\"valor realizado\"]))\n",
    "df_14[\"valor lançado\"]= df_14[\"valor lançado\"].str.replace(\",\",\".\")\n",
    "df_14[\"valor lançado\"] = list(map(float, df_14[\"valor lançado\"]))\n",
    "df_14[\"valor previsto atualizado\"]= df_14[\"valor previsto atualizado\"].str.replace(\",\",\".\")\n",
    "df_14[\"valor previsto atualizado\"] = list(map(float, df_14[\"valor previsto atualizado\"]))\n",
    "df_14[\"percentual realizado\"]= df_14[\"percentual realizado\"].str.replace(\",\",\".\")\n",
    "df_14[\"percentual realizado\"] = list(map(float, df_14[\"percentual realizado\"]))    #cambio a float\n",
    "\n",
    "\n",
    "\n",
    "df_15['nome órgão superior'] = df_15.groupby('código órgão superior')['nome órgão superior'].transform(lambda x: x.fillna(method='ffill'))\n",
    "df_15['nome órgão superior'].info() #Columna codigo y nombre\n",
    "\n",
    "\n",
    "df_15[\"data lançamento\"] = pd.to_datetime(df_15[\"data lançamento\"]) \n",
    "df_15[\"data lançamento\"]  #cambio a fecha\n",
    "\n",
    "df_15[\"valor realizado\"]= df_15[\"valor realizado\"].str.replace(\",\",\".\")\n",
    "df_15[\"valor realizado\"] = list(map(float, df_15[\"valor realizado\"]))\n",
    "df_15[\"valor lançado\"]= df_15[\"valor lançado\"].str.replace(\",\",\".\")\n",
    "df_15[\"valor lançado\"] = list(map(float, df_15[\"valor lançado\"]))\n",
    "df_15[\"valor previsto atualizado\"]= df_15[\"valor previsto atualizado\"].str.replace(\",\",\".\")\n",
    "df_15[\"valor previsto atualizado\"] = list(map(float, df_15[\"valor previsto atualizado\"]))\n",
    "df_15[\"percentual realizado\"]= df_15[\"percentual realizado\"].str.replace(\",\",\".\")\n",
    "df_15[\"percentual realizado\"] = list(map(float, df_15[\"percentual realizado\"]))    #cambio a float\n",
    "\n",
    "\n",
    "df_16['nome órgão superior'] = df_16.groupby('código órgão superior')['nome órgão superior'].transform(lambda x: x.fillna(method='ffill'))\n",
    "df_16['nome órgão superior'].info() #Columna codigo y nombre\n",
    "\n",
    "\n",
    "df_16[\"data lançamento\"] = pd.to_datetime(df_16[\"data lançamento\"]) \n",
    "df_16[\"data lançamento\"]  #cambio a fecha\n",
    "\n",
    "df_16[\"valor realizado\"]= df_16[\"valor realizado\"].str.replace(\",\",\".\")\n",
    "df_16[\"valor realizado\"] = list(map(float, df_16[\"valor realizado\"]))\n",
    "df_16[\"valor lançado\"]= df_16[\"valor lançado\"].str.replace(\",\",\".\")\n",
    "df_16[\"valor lançado\"] = list(map(float, df_16[\"valor lançado\"]))\n",
    "df_16[\"valor previsto atualizado\"]= df_16[\"valor previsto atualizado\"].str.replace(\",\",\".\")\n",
    "df_16[\"valor previsto atualizado\"] = list(map(float, df_16[\"valor previsto atualizado\"]))\n",
    "df_16[\"percentual realizado\"]= df_16[\"percentual realizado\"].str.replace(\",\",\".\")\n",
    "df_16[\"percentual realizado\"] = list(map(float, df_16[\"percentual realizado\"]))    #cambio a float\n",
    "\n",
    "\n",
    "\n",
    "df_17['nome órgão superior'] = df_17.groupby('código órgão superior')['nome órgão superior'].transform(lambda x: x.fillna(method='ffill'))\n",
    "df_17['nome órgão superior'].info() #Columna codigo y nombre\n",
    "\n",
    "\n",
    "df_17[\"data lançamento\"] = pd.to_datetime(df_17[\"data lançamento\"]) \n",
    "df_17[\"data lançamento\"]  #cambio a fecha\n",
    "\n",
    "df_17[\"valor realizado\"]= df_17[\"valor realizado\"].str.replace(\",\",\".\")\n",
    "df_17[\"valor realizado\"] = list(map(float, df_17[\"valor realizado\"]))\n",
    "df_17[\"valor lançado\"]= df_17[\"valor lançado\"].str.replace(\",\",\".\")\n",
    "df_17[\"valor lançado\"] = list(map(float, df_17[\"valor lançado\"]))\n",
    "df_17[\"valor previsto atualizado\"]= df_17[\"valor previsto atualizado\"].str.replace(\",\",\".\")\n",
    "df_17[\"valor previsto atualizado\"] = list(map(float, df_17[\"valor previsto atualizado\"]))\n",
    "df_17[\"percentual realizado\"]= df_17[\"percentual realizado\"].str.replace(\",\",\".\")\n",
    "df_17[\"percentual realizado\"] = list(map(float, df_17[\"percentual realizado\"]))    #cambio a float\n",
    "\n",
    "\n",
    "\n",
    "df_18['nome órgão superior'] = df_18.groupby('código órgão superior')['nome órgão superior'].transform(lambda x: x.fillna(method='ffill'))\n",
    "df_18['nome órgão superior'].info() #Columna codigo y nombre\n",
    "\n",
    "\n",
    "df_18[\"data lançamento\"] = pd.to_datetime(df_18[\"data lançamento\"]) \n",
    "df_18[\"data lançamento\"]  #cambio a fecha\n",
    "\n",
    "df_18[\"valor realizado\"]= df_18[\"valor realizado\"].str.replace(\",\",\".\")\n",
    "df_18[\"valor realizado\"] = list(map(float, df_18[\"valor realizado\"]))\n",
    "df_18[\"valor lançado\"]= df_18[\"valor lançado\"].str.replace(\",\",\".\")\n",
    "df_18[\"valor lançado\"] = list(map(float, df_18[\"valor lançado\"]))\n",
    "df_18[\"valor previsto atualizado\"]= df_18[\"valor previsto atualizado\"].str.replace(\",\",\".\")\n",
    "df_18[\"valor previsto atualizado\"] = list(map(float, df_18[\"valor previsto atualizado\"]))\n",
    "df_18[\"percentual realizado\"]= df_18[\"percentual realizado\"].str.replace(\",\",\".\")\n",
    "df_18[\"percentual realizado\"] = list(map(float, df_18[\"percentual realizado\"]))    #cambio a float\n",
    "\n",
    "\n",
    "\n",
    "\n",
    "df_19['nome órgão superior'] = df_19.groupby('código órgão superior')['nome órgão superior'].transform(lambda x: x.fillna(method='ffill'))\n",
    "df_19['nome órgão superior'].info() #Columna codigo y nombre\n",
    "\n",
    "\n",
    "df_19[\"data lançamento\"] = pd.to_datetime(df_19[\"data lançamento\"]) \n",
    "df_19[\"data lançamento\"]  #cambio a fecha\n",
    "\n",
    "df_19[\"valor realizado\"]= df_19[\"valor realizado\"].str.replace(\",\",\".\")\n",
    "df_19[\"valor realizado\"] = list(map(float, df_19[\"valor realizado\"]))\n",
    "df_19[\"valor lançado\"]= df_19[\"valor lançado\"].str.replace(\",\",\".\")\n",
    "df_19[\"valor lançado\"] = list(map(float, df_19[\"valor lançado\"]))\n",
    "df_19[\"valor previsto atualizado\"]= df_19[\"valor previsto atualizado\"].str.replace(\",\",\".\")\n",
    "df_19[\"valor previsto atualizado\"] = list(map(float, df_19[\"valor previsto atualizado\"]))\n",
    "df_19[\"percentual realizado\"]= df_19[\"percentual realizado\"].str.replace(\",\",\".\")\n",
    "df_19[\"percentual realizado\"] = list(map(float, df_19[\"percentual realizado\"]))    #cambio a float\n",
    "\n",
    "\n",
    "\n",
    "df_20['nome órgão superior'] = df_20.groupby('código órgão superior')['nome órgão superior'].transform(lambda x: x.fillna(method='ffill'))\n",
    "df_20['nome órgão superior'].info() #Columna codigo y nombre\n",
    "\n",
    "\n",
    "df_20[\"data lançamento\"] = pd.to_datetime(df_20[\"data lançamento\"]) \n",
    "df_20[\"data lançamento\"]  #cambio a fecha\n",
    "\n",
    "df_20[\"valor realizado\"]= df_20[\"valor realizado\"].str.replace(\",\",\".\")\n",
    "df_20[\"valor realizado\"] = list(map(float, df_20[\"valor realizado\"]))\n",
    "df_20[\"valor lançado\"]= df_20[\"valor lançado\"].str.replace(\",\",\".\")\n",
    "df_20[\"valor lançado\"] = list(map(float, df_20[\"valor lançado\"]))\n",
    "df_20[\"valor previsto atualizado\"]= df_20[\"valor previsto atualizado\"].str.replace(\",\",\".\")\n",
    "df_20[\"valor previsto atualizado\"] = list(map(float, df_20[\"valor previsto atualizado\"]))\n",
    "df_20[\"percentual realizado\"]= df_20[\"percentual realizado\"].str.replace(\",\",\".\")\n",
    "df_20[\"percentual realizado\"] = list(map(float, df_20[\"percentual realizado\"]))    #cambio a float\n",
    "\n",
    "\n",
    "df_21['nome órgão superior'] = df_21.groupby('código órgão superior')['nome órgão superior'].transform(lambda x: x.fillna(method='ffill'))\n",
    "df_21['nome órgão superior'].info() #Columna codigo y nombre\n",
    "\n",
    "\n",
    "df_21[\"data lançamento\"] = pd.to_datetime(df_21[\"data lançamento\"]) \n",
    "df_21[\"data lançamento\"]  #cambio a fecha\n",
    "\n",
    "df_21[\"valor realizado\"]= df_21[\"valor realizado\"].str.replace(\",\",\".\")\n",
    "df_21[\"valor realizado\"] = list(map(float, df_21[\"valor realizado\"]))\n",
    "df_21[\"valor lançado\"]= df_21[\"valor lançado\"].str.replace(\",\",\".\")\n",
    "df_21[\"valor lançado\"] = list(map(float, df_21[\"valor lançado\"]))\n",
    "df_21[\"valor previsto atualizado\"]= df_21[\"valor previsto atualizado\"].str.replace(\",\",\".\")\n",
    "df_21[\"valor previsto atualizado\"] = list(map(float, df_21[\"valor previsto atualizado\"]))\n",
    "df_21[\"percentual realizado\"]= df_21[\"percentual realizado\"].str.replace(\",\",\".\")\n",
    "df_21[\"percentual realizado\"] = list(map(float, df_21[\"percentual realizado\"]))    #cambio a float\n",
    "\n"
   ]
  },
  {
   "cell_type": "markdown",
   "metadata": {},
   "source": [
    "*Para rellenar nome órgão superior  usando código órgão superior*\t"
   ]
  },
  {
   "cell_type": "code",
   "execution_count": 5,
   "metadata": {},
   "outputs": [
    {
     "data": {
      "text/plain": [
       "0       NaN\n",
       "1    2013.0\n",
       "2    2013.0\n",
       "3    2013.0\n",
       "4    2013.0\n",
       "Name: ANO EXERCÍCIO, dtype: float64"
      ]
     },
     "execution_count": 5,
     "metadata": {},
     "output_type": "execute_result"
    }
   ],
   "source": [
    "df_13[\"ANO EXERCÍCIO\"].head() #Sale como float porque tiene nan"
   ]
  },
  {
   "cell_type": "markdown",
   "metadata": {},
   "source": [
    "**Cambio de los nombres de las columnas para que sea homogéneo**"
   ]
  },
  {
   "cell_type": "code",
   "execution_count": 6,
   "metadata": {},
   "outputs": [],
   "source": [
    "df_13.columns = [name.lower().strip() for name in df_13.columns]                        \n",
    "df_14.columns = [name.lower().strip() for name in df_14.columns] \n",
    "df_15.columns = [name.lower().strip() for name in df_15.columns] \n",
    "df_16.columns = [name.lower().strip() for name in df_16.columns] \n",
    "df_17.columns = [name.lower().strip() for name in df_17.columns] \n",
    "df_18.columns = [name.lower().strip() for name in df_18.columns] \n",
    "df_19.columns = [name.lower().strip() for name in df_19.columns] \n",
    "df_20.columns = [name.lower().strip() for name in df_20.columns] \n",
    "df_21.columns = [name.lower().strip() for name in df_21.columns] "
   ]
  },
  {
   "cell_type": "markdown",
   "metadata": {},
   "source": [
    "***Comprobación de que tengan las mismas columnas***"
   ]
  },
  {
   "cell_type": "code",
   "execution_count": 7,
   "metadata": {},
   "outputs": [
    {
     "data": {
      "text/plain": [
       "['código órgão superior',\n",
       " 'nome órgão superior',\n",
       " 'código órgão',\n",
       " 'nome órgão',\n",
       " 'código unidade gestora',\n",
       " 'nome unidade gestora',\n",
       " 'categoria econômica',\n",
       " 'origem receita',\n",
       " 'espécie receita',\n",
       " 'detalhamento',\n",
       " 'valor previsto atualizado',\n",
       " 'valor lançado',\n",
       " 'valor realizado',\n",
       " 'percentual realizado',\n",
       " 'data lançamento',\n",
       " 'ano exercício']"
      ]
     },
     "execution_count": 7,
     "metadata": {},
     "output_type": "execute_result"
    }
   ],
   "source": [
    "df_13.columns.tolist()"
   ]
  },
  {
   "cell_type": "code",
   "execution_count": 8,
   "metadata": {},
   "outputs": [
    {
     "data": {
      "text/plain": [
       "True"
      ]
     },
     "execution_count": 8,
     "metadata": {},
     "output_type": "execute_result"
    }
   ],
   "source": [
    "df_13.columns.tolist() == df_14.columns.tolist() ==df_15.columns.tolist() == df_16.columns.tolist() == df_17.columns.tolist() == df_18.columns.tolist() == df_19.columns.tolist() == df_20.columns.tolist() == df_21.columns.tolist() "
   ]
  },
  {
   "cell_type": "code",
   "execution_count": 9,
   "metadata": {},
   "outputs": [
    {
     "data": {
      "text/plain": [
       "array([63000., 37000.,    nan, 22000., 55000., 24000., 52000., 25000.,\n",
       "       26000., 39000., 30000., 81000., 58000., 33000., 36000., 41000.,\n",
       "       57000., 35000., 32000., 49000., 53000., 51000., 44000., 38000.,\n",
       "       54000., 20000.])"
      ]
     },
     "execution_count": 9,
     "metadata": {},
     "output_type": "execute_result"
    }
   ],
   "source": [
    "df_13[\"código órgão superior\"].unique()"
   ]
  },
  {
   "cell_type": "code",
   "execution_count": 10,
   "metadata": {},
   "outputs": [
    {
     "data": {
      "text/plain": [
       "array([63000., 66000., 22202., 22000., 22211.,    nan, 44208., 22201.,\n",
       "       22905., 49001., 55000., 55001., 24000., 20501., 20301., 24901.,\n",
       "       20502., 24209., 20402., 49280., 52911., 52904., 52132., 52912.,\n",
       "       52131., 52121., 52111., 31280., 52000., 52133., 52221., 52211.,\n",
       "       52222., 30203., 25000., 37202., 25205., 20603., 25201., 38901.,\n",
       "       25208., 33206., 30204., 25203., 37201., 20202., 25915., 25207.,\n",
       "       25914., 22500., 25901., 25211., 25904., 61201., 28500., 25916.,\n",
       "       20924., 71902., 25905., 26435., 26276., 26000., 26285., 26233.,\n",
       "       26407., 26232., 26405., 26292., 26423., 26422., 26251., 26234.,\n",
       "       26275., 26238., 26261., 26244., 26432., 26414., 26421., 26411.,\n",
       "       26270., 26417., 26410., 26282., 26430., 26258., 26278., 26416.,\n",
       "       26253., 26420., 26418., 26408., 26240., 26246., 26433., 26428.,\n",
       "       26263., 26412., 26404., 26248., 26434., 26409., 26264., 26424.,\n",
       "       26415., 26291., 26413., 26236., 26243., 26255., 26419., 26247.,\n",
       "       26271., 26266., 26402., 26277., 26252., 26351., 26403., 26245.,\n",
       "       26294., 26298., 26425., 26427., 26268., 26429., 26256., 26290.,\n",
       "       26279., 26201., 26257., 26231., 26235., 26260., 26437., 26439.,\n",
       "       26272., 26438., 26262., 26440., 26267., 26254., 26237., 26441.,\n",
       "       26442., 26352., 26230., 26280., 26241., 26350., 26281., 26431.,\n",
       "       26249., 26269., 26436., 26250., 26284., 26426., 26239., 26406.,\n",
       "       26286., 26242., 26273., 26274., 26443., 26283., 62201., 39252.,\n",
       "       39250., 49901., 56901., 39000., 68201., 68000., 39251., 29209.,\n",
       "       62901., 39253., 39816., 39812., 39813., 39811., 39815., 39814.,\n",
       "       39817., 62000., 30802., 30108., 30905., 30907., 30202., 30211.,\n",
       "       30911., 30000., 30912., 30205., 20122., 58000., 33000., 36211.,\n",
       "       36201., 36210., 36000., 36213., 36212., 36208., 36209., 41000.,\n",
       "       20415., 41231., 41232., 41903., 64902., 64901., 35000., 35201.,\n",
       "       20303., 29208., 32000., 32205., 32263., 32210., 32314., 20302.,\n",
       "       49000., 29205., 29214., 53902., 53901., 53903., 22204., 22203.,\n",
       "       53000., 53202., 74917., 56902., 53203., 44205., 53205., 53207.,\n",
       "       74918., 91214., 44206., 44000., 44902., 20701., 44207., 44204.,\n",
       "       38000., 20403., 20604., 42207., 20411., 20412., 34902., 20203.,\n",
       "       54000., 20408., 20404., 54901., 20101., 67000., 64000., 69000.,\n",
       "       20116., 24208., 60000., 20117., 61000.])"
      ]
     },
     "execution_count": 10,
     "metadata": {},
     "output_type": "execute_result"
    }
   ],
   "source": [
    "df_13[\"código órgão\"].unique()"
   ]
  },
  {
   "cell_type": "code",
   "execution_count": 11,
   "metadata": {},
   "outputs": [
    {
     "data": {
      "text/plain": [
       "(4553, 16)"
      ]
     },
     "execution_count": 11,
     "metadata": {},
     "output_type": "execute_result"
    }
   ],
   "source": [
    "df_14.shape\n"
   ]
  },
  {
   "cell_type": "markdown",
   "metadata": {},
   "source": [
    "*Nulo*  \n",
    "\n",
    "para nulos de org super que me busque el cod org sup y q me ponga el nom de org sup que esté asociado a ese código"
   ]
  },
  {
   "cell_type": "markdown",
   "metadata": {},
   "source": [
    "*Para rellenar el año que falta porque pone nan*"
   ]
  },
  {
   "cell_type": "code",
   "execution_count": 12,
   "metadata": {},
   "outputs": [],
   "source": [
    "listadf= [df_13,df_14,df_15,df_16,df_17,df_18,df_19,df_20,df_21]\n",
    "lista_anio= [2013,2014,2015,2016,2016,2017,2018,2019,2020,2021]\n",
    "def fillyear(df, year):\n",
    "    df[\"ano exercício\"] = df[\"ano exercício\"].fillna(year)\n",
    "    return df"
   ]
  },
  {
   "cell_type": "code",
   "execution_count": 13,
   "metadata": {},
   "outputs": [],
   "source": [
    "listadf_aniosbien = list(map(fillyear, listadf, lista_anio))"
   ]
  },
  {
   "cell_type": "markdown",
   "metadata": {},
   "source": [
    "*Para rellenar nome órgão superior  usando código órgão superior*\t"
   ]
  },
  {
   "cell_type": "code",
   "execution_count": 17,
   "metadata": {},
   "outputs": [
    {
     "name": "stdout",
     "output_type": "stream",
     "text": [
      "<class 'pandas.core.series.Series'>\n",
      "RangeIndex: 4498 entries, 0 to 4497\n",
      "Series name: nome órgão superior\n",
      "Non-Null Count  Dtype \n",
      "--------------  ----- \n",
      "2924 non-null   object\n",
      "dtypes: object(1)\n",
      "memory usage: 35.3+ KB\n"
     ]
    }
   ],
   "source": [
    "df_13['nome órgão superior'].info()"
   ]
  },
  {
   "cell_type": "code",
   "execution_count": 18,
   "metadata": {},
   "outputs": [
    {
     "name": "stdout",
     "output_type": "stream",
     "text": [
      "<class 'pandas.core.series.Series'>\n",
      "RangeIndex: 4498 entries, 0 to 4497\n",
      "Series name: nome órgão superior\n",
      "Non-Null Count  Dtype \n",
      "--------------  ----- \n",
      "4263 non-null   object\n",
      "dtypes: object(1)\n",
      "memory usage: 35.3+ KB\n"
     ]
    },
    {
     "name": "stderr",
     "output_type": "stream",
     "text": [
      "C:\\Users\\jaime\\AppData\\Local\\Temp\\ipykernel_22112\\504111581.py:1: FutureWarning: Series.fillna with 'method' is deprecated and will raise in a future version. Use obj.ffill() or obj.bfill() instead.\n",
      "  df_13['nome órgão superior'] = df_13.groupby('código órgão superior')['nome órgão superior'].transform(lambda x: x.fillna(method='ffill'))\n",
      "C:\\Users\\jaime\\AppData\\Local\\Temp\\ipykernel_22112\\504111581.py:1: FutureWarning: Downcasting object dtype arrays on .fillna, .ffill, .bfill is deprecated and will change in a future version. Call result.infer_objects(copy=False) instead. To opt-in to the future behavior, set `pd.set_option('future.no_silent_downcasting', True)`\n",
      "  df_13['nome órgão superior'] = df_13.groupby('código órgão superior')['nome órgão superior'].transform(lambda x: x.fillna(method='ffill'))\n"
     ]
    }
   ],
   "source": [
    "df_13['nome órgão superior'] = df_13.groupby('código órgão superior')['nome órgão superior'].transform(lambda x: x.fillna(method='ffill'))\n",
    "df_13['nome órgão superior'].info()"
   ]
  },
  {
   "cell_type": "markdown",
   "metadata": {},
   "source": [
    "**Mergeo**"
   ]
  },
  {
   "cell_type": "code",
   "execution_count": 19,
   "metadata": {},
   "outputs": [],
   "source": [
    "df_completa = pd.concat(listadf_aniosbien).reset_index(drop= True)"
   ]
  },
  {
   "cell_type": "code",
   "execution_count": 20,
   "metadata": {},
   "outputs": [
    {
     "data": {
      "text/plain": [
       "(1026299, 16)"
      ]
     },
     "execution_count": 20,
     "metadata": {},
     "output_type": "execute_result"
    }
   ],
   "source": [
    "df_completa.shape"
   ]
  },
  {
   "cell_type": "code",
   "execution_count": 21,
   "metadata": {},
   "outputs": [
    {
     "name": "stdout",
     "output_type": "stream",
     "text": [
      "<class 'pandas.core.frame.DataFrame'>\n",
      "RangeIndex: 1026299 entries, 0 to 1026298\n",
      "Data columns (total 16 columns):\n",
      " #   Column                     Non-Null Count    Dtype  \n",
      "---  ------                     --------------    -----  \n",
      " 0   código órgão superior      995940 non-null   float64\n",
      " 1   nome órgão superior        668432 non-null   object \n",
      " 2   código órgão               1001182 non-null  float64\n",
      " 3   nome órgão                 991412 non-null   object \n",
      " 4   código unidade gestora     992718 non-null   float64\n",
      " 5   nome unidade gestora       1006818 non-null  object \n",
      " 6   categoria econômica        1007321 non-null  object \n",
      " 7   origem receita             987881 non-null   object \n",
      " 8   espécie receita            994372 non-null   object \n",
      " 9   detalhamento               996962 non-null   object \n",
      " 10  valor previsto atualizado  974984 non-null   object \n",
      " 11  valor lançado              999880 non-null   object \n",
      " 12  valor realizado            986834 non-null   object \n",
      " 13  percentual realizado       1002165 non-null  object \n",
      " 14  data lançamento            1002468 non-null  object \n",
      " 15  ano exercício              1026299 non-null  float64\n",
      "dtypes: float64(4), object(12)\n",
      "memory usage: 125.3+ MB\n"
     ]
    }
   ],
   "source": [
    "df_completa.info()"
   ]
  },
  {
   "cell_type": "markdown",
   "metadata": {},
   "source": [
    "**Duplicados para eliminar**"
   ]
  },
  {
   "cell_type": "code",
   "execution_count": 63,
   "metadata": {},
   "outputs": [
    {
     "data": {
      "text/plain": [
       "np.int64(73)"
      ]
     },
     "execution_count": 63,
     "metadata": {},
     "output_type": "execute_result"
    }
   ],
   "source": [
    "df_completa.duplicated().sum()     #Hay 73 duplicadas que habrá que eliminar"
   ]
  },
  {
   "cell_type": "code",
   "execution_count": 65,
   "metadata": {},
   "outputs": [
    {
     "data": {
      "text/plain": [
       "np.int64(0)"
      ]
     },
     "execution_count": 65,
     "metadata": {},
     "output_type": "execute_result"
    }
   ],
   "source": [
    "df_completa = df_completa.drop_duplicates()\n",
    "df_completa.duplicated().sum()"
   ]
  },
  {
   "cell_type": "code",
   "execution_count": 22,
   "metadata": {},
   "outputs": [
    {
     "data": {
      "text/html": [
       "<div>\n",
       "<style scoped>\n",
       "    .dataframe tbody tr th:only-of-type {\n",
       "        vertical-align: middle;\n",
       "    }\n",
       "\n",
       "    .dataframe tbody tr th {\n",
       "        vertical-align: top;\n",
       "    }\n",
       "\n",
       "    .dataframe thead th {\n",
       "        text-align: right;\n",
       "    }\n",
       "</style>\n",
       "<table border=\"1\" class=\"dataframe\">\n",
       "  <thead>\n",
       "    <tr style=\"text-align: right;\">\n",
       "      <th></th>\n",
       "      <th>código órgão superior</th>\n",
       "      <th>nome órgão superior</th>\n",
       "      <th>código órgão</th>\n",
       "      <th>nome órgão</th>\n",
       "      <th>código unidade gestora</th>\n",
       "      <th>nome unidade gestora</th>\n",
       "      <th>categoria econômica</th>\n",
       "      <th>origem receita</th>\n",
       "      <th>espécie receita</th>\n",
       "      <th>detalhamento</th>\n",
       "      <th>valor previsto atualizado</th>\n",
       "      <th>valor lançado</th>\n",
       "      <th>valor realizado</th>\n",
       "      <th>percentual realizado</th>\n",
       "      <th>data lançamento</th>\n",
       "      <th>ano exercício</th>\n",
       "    </tr>\n",
       "  </thead>\n",
       "  <tbody>\n",
       "    <tr>\n",
       "      <th>0</th>\n",
       "      <td>63000.0</td>\n",
       "      <td>NaN</td>\n",
       "      <td>63000.0</td>\n",
       "      <td>Advocacia-Geral da União - Unidades com víncul...</td>\n",
       "      <td>110060.0</td>\n",
       "      <td>COORD. GERAL DE ORC. FIN. E ANAL. CONT. - AGU</td>\n",
       "      <td>Receitas Correntes</td>\n",
       "      <td>Outras Receitas Correntes</td>\n",
       "      <td>Bens, Direitos e Valores Incorporados ao Patr</td>\n",
       "      <td>REC.DIVIDA ATIVA NAO TRIBUTARIA DE OUTRAS REC</td>\n",
       "      <td>0,00</td>\n",
       "      <td>0,00</td>\n",
       "      <td>1297,13</td>\n",
       "      <td>0,00</td>\n",
       "      <td>31/12/2013</td>\n",
       "      <td>2013.0</td>\n",
       "    </tr>\n",
       "    <tr>\n",
       "      <th>1</th>\n",
       "      <td>63000.0</td>\n",
       "      <td>Advocacia-Geral da União</td>\n",
       "      <td>63000.0</td>\n",
       "      <td>Advocacia-Geral da União - Unidades com víncul...</td>\n",
       "      <td>110060.0</td>\n",
       "      <td>COORD. GERAL DE ORC. FIN. E ANAL. CONT. - AGU</td>\n",
       "      <td>Receitas Correntes</td>\n",
       "      <td>Outras Receitas Correntes</td>\n",
       "      <td>Indenizações, restituições e ressarcimentos</td>\n",
       "      <td>RECUPERACAO DE DESPESAS DE EXERC. ANTERIORES</td>\n",
       "      <td>0,00</td>\n",
       "      <td>0,00</td>\n",
       "      <td>26666621,42</td>\n",
       "      <td>0,00</td>\n",
       "      <td>31/12/2013</td>\n",
       "      <td>2013.0</td>\n",
       "    </tr>\n",
       "    <tr>\n",
       "      <th>2</th>\n",
       "      <td>63000.0</td>\n",
       "      <td>Advocacia-Geral da União</td>\n",
       "      <td>63000.0</td>\n",
       "      <td>Advocacia-Geral da União - Unidades com víncul...</td>\n",
       "      <td>110060.0</td>\n",
       "      <td>COORD. GERAL DE ORC. FIN. E ANAL. CONT. - AGU</td>\n",
       "      <td>Receitas Correntes</td>\n",
       "      <td>Outras Receitas Correntes</td>\n",
       "      <td>Multas administrativas, contratuais e judicia</td>\n",
       "      <td>OUTRAS MULTAS E JUROS DE MORA</td>\n",
       "      <td>0,00</td>\n",
       "      <td>0,00</td>\n",
       "      <td>301251,13</td>\n",
       "      <td>0,00</td>\n",
       "      <td>31/12/2013</td>\n",
       "      <td>2013.0</td>\n",
       "    </tr>\n",
       "  </tbody>\n",
       "</table>\n",
       "</div>"
      ],
      "text/plain": [
       "   código órgão superior       nome órgão superior  código órgão  \\\n",
       "0                63000.0                       NaN       63000.0   \n",
       "1                63000.0  Advocacia-Geral da União       63000.0   \n",
       "2                63000.0  Advocacia-Geral da União       63000.0   \n",
       "\n",
       "                                          nome órgão  código unidade gestora  \\\n",
       "0  Advocacia-Geral da União - Unidades com víncul...                110060.0   \n",
       "1  Advocacia-Geral da União - Unidades com víncul...                110060.0   \n",
       "2  Advocacia-Geral da União - Unidades com víncul...                110060.0   \n",
       "\n",
       "                            nome unidade gestora categoria econômica  \\\n",
       "0  COORD. GERAL DE ORC. FIN. E ANAL. CONT. - AGU  Receitas Correntes   \n",
       "1  COORD. GERAL DE ORC. FIN. E ANAL. CONT. - AGU  Receitas Correntes   \n",
       "2  COORD. GERAL DE ORC. FIN. E ANAL. CONT. - AGU  Receitas Correntes   \n",
       "\n",
       "              origem receita                                espécie receita  \\\n",
       "0  Outras Receitas Correntes  Bens, Direitos e Valores Incorporados ao Patr   \n",
       "1  Outras Receitas Correntes    Indenizações, restituições e ressarcimentos   \n",
       "2  Outras Receitas Correntes  Multas administrativas, contratuais e judicia   \n",
       "\n",
       "                                    detalhamento valor previsto atualizado  \\\n",
       "0  REC.DIVIDA ATIVA NAO TRIBUTARIA DE OUTRAS REC                      0,00   \n",
       "1   RECUPERACAO DE DESPESAS DE EXERC. ANTERIORES                      0,00   \n",
       "2                  OUTRAS MULTAS E JUROS DE MORA                      0,00   \n",
       "\n",
       "  valor lançado valor realizado percentual realizado data lançamento  \\\n",
       "0          0,00         1297,13                 0,00      31/12/2013   \n",
       "1          0,00     26666621,42                 0,00      31/12/2013   \n",
       "2          0,00       301251,13                 0,00      31/12/2013   \n",
       "\n",
       "   ano exercício  \n",
       "0         2013.0  \n",
       "1         2013.0  \n",
       "2         2013.0  "
      ]
     },
     "execution_count": 22,
     "metadata": {},
     "output_type": "execute_result"
    }
   ],
   "source": [
    "df_13.head(3)"
   ]
  },
  {
   "cell_type": "code",
   "execution_count": 23,
   "metadata": {},
   "outputs": [
    {
     "data": {
      "text/html": [
       "<div>\n",
       "<style scoped>\n",
       "    .dataframe tbody tr th:only-of-type {\n",
       "        vertical-align: middle;\n",
       "    }\n",
       "\n",
       "    .dataframe tbody tr th {\n",
       "        vertical-align: top;\n",
       "    }\n",
       "\n",
       "    .dataframe thead th {\n",
       "        text-align: right;\n",
       "    }\n",
       "</style>\n",
       "<table border=\"1\" class=\"dataframe\">\n",
       "  <thead>\n",
       "    <tr style=\"text-align: right;\">\n",
       "      <th></th>\n",
       "      <th>código órgão superior</th>\n",
       "      <th>nome órgão superior</th>\n",
       "      <th>código órgão</th>\n",
       "      <th>nome órgão</th>\n",
       "      <th>código unidade gestora</th>\n",
       "      <th>nome unidade gestora</th>\n",
       "      <th>categoria econômica</th>\n",
       "      <th>origem receita</th>\n",
       "      <th>espécie receita</th>\n",
       "      <th>detalhamento</th>\n",
       "      <th>valor previsto atualizado</th>\n",
       "      <th>valor lançado</th>\n",
       "      <th>valor realizado</th>\n",
       "      <th>percentual realizado</th>\n",
       "      <th>data lançamento</th>\n",
       "      <th>ano exercício</th>\n",
       "    </tr>\n",
       "  </thead>\n",
       "  <tbody>\n",
       "    <tr>\n",
       "      <th>1385</th>\n",
       "      <td>25000.0</td>\n",
       "      <td>Ministério da Economia</td>\n",
       "      <td>25000.0</td>\n",
       "      <td>Ministério da Economia - Unidades com vínculo ...</td>\n",
       "      <td>170013.0</td>\n",
       "      <td>SETORIAL ORCAMENTARIA E FINANCEIRA / ME</td>\n",
       "      <td>Receitas Correntes</td>\n",
       "      <td>NaN</td>\n",
       "      <td>Bens, Direitos e Valores Incorporados ao Patr</td>\n",
       "      <td>REC.DIVIDA ATIVA DO ITR-MUNIC.NAO CONVENIADOS</td>\n",
       "      <td>4937218,00</td>\n",
       "      <td>0,00</td>\n",
       "      <td>11434427,22</td>\n",
       "      <td>232,00</td>\n",
       "      <td>31/12/2013</td>\n",
       "      <td>2013.0</td>\n",
       "    </tr>\n",
       "    <tr>\n",
       "      <th>1163</th>\n",
       "      <td>25000.0</td>\n",
       "      <td>Ministério da Economia</td>\n",
       "      <td>25000.0</td>\n",
       "      <td>Ministério da Economia - Unidades com vínculo ...</td>\n",
       "      <td>170013.0</td>\n",
       "      <td>SETORIAL ORCAMENTARIA E FINANCEIRA / ME</td>\n",
       "      <td>Receitas Correntes</td>\n",
       "      <td>Transferências Correntes</td>\n",
       "      <td>NaN</td>\n",
       "      <td>TRANSF.DOS ESTADOS DF E SUAS ENTIDADES</td>\n",
       "      <td>8874693,00</td>\n",
       "      <td>0,00</td>\n",
       "      <td>-127592,31</td>\n",
       "      <td>-1,00</td>\n",
       "      <td>31/12/2013</td>\n",
       "      <td>2013.0</td>\n",
       "    </tr>\n",
       "    <tr>\n",
       "      <th>2446</th>\n",
       "      <td>26000.0</td>\n",
       "      <td>Ministério da Educação</td>\n",
       "      <td>26258.0</td>\n",
       "      <td>Universidade Tecnológica Federal do Paraná</td>\n",
       "      <td>NaN</td>\n",
       "      <td>UNIVERSIDADE TECNOLOGICA FEDERAL DO PARANA</td>\n",
       "      <td>Receitas de Capital</td>\n",
       "      <td>Alienação de Bens</td>\n",
       "      <td>Alienação de bens móveis</td>\n",
       "      <td>ALIENACAO DE MOVEIS E UTENSILIOS</td>\n",
       "      <td>0,00</td>\n",
       "      <td>0,00</td>\n",
       "      <td>NaN</td>\n",
       "      <td>0,00</td>\n",
       "      <td>31/12/2013</td>\n",
       "      <td>2013.0</td>\n",
       "    </tr>\n",
       "  </tbody>\n",
       "</table>\n",
       "</div>"
      ],
      "text/plain": [
       "      código órgão superior     nome órgão superior  código órgão  \\\n",
       "1385                25000.0  Ministério da Economia       25000.0   \n",
       "1163                25000.0  Ministério da Economia       25000.0   \n",
       "2446                26000.0  Ministério da Educação       26258.0   \n",
       "\n",
       "                                             nome órgão  \\\n",
       "1385  Ministério da Economia - Unidades com vínculo ...   \n",
       "1163  Ministério da Economia - Unidades com vínculo ...   \n",
       "2446         Universidade Tecnológica Federal do Paraná   \n",
       "\n",
       "      código unidade gestora                        nome unidade gestora  \\\n",
       "1385                170013.0     SETORIAL ORCAMENTARIA E FINANCEIRA / ME   \n",
       "1163                170013.0     SETORIAL ORCAMENTARIA E FINANCEIRA / ME   \n",
       "2446                     NaN  UNIVERSIDADE TECNOLOGICA FEDERAL DO PARANA   \n",
       "\n",
       "      categoria econômica            origem receita  \\\n",
       "1385   Receitas Correntes                       NaN   \n",
       "1163   Receitas Correntes  Transferências Correntes   \n",
       "2446  Receitas de Capital         Alienação de Bens   \n",
       "\n",
       "                                    espécie receita  \\\n",
       "1385  Bens, Direitos e Valores Incorporados ao Patr   \n",
       "1163                                            NaN   \n",
       "2446                       Alienação de bens móveis   \n",
       "\n",
       "                                       detalhamento valor previsto atualizado  \\\n",
       "1385  REC.DIVIDA ATIVA DO ITR-MUNIC.NAO CONVENIADOS                4937218,00   \n",
       "1163         TRANSF.DOS ESTADOS DF E SUAS ENTIDADES                8874693,00   \n",
       "2446               ALIENACAO DE MOVEIS E UTENSILIOS                      0,00   \n",
       "\n",
       "     valor lançado valor realizado percentual realizado data lançamento  \\\n",
       "1385          0,00     11434427,22               232,00      31/12/2013   \n",
       "1163          0,00      -127592,31                -1,00      31/12/2013   \n",
       "2446          0,00             NaN                 0,00      31/12/2013   \n",
       "\n",
       "      ano exercício  \n",
       "1385         2013.0  \n",
       "1163         2013.0  \n",
       "2446         2013.0  "
      ]
     },
     "execution_count": 23,
     "metadata": {},
     "output_type": "execute_result"
    }
   ],
   "source": [
    "df_13.sample(3)"
   ]
  },
  {
   "cell_type": "code",
   "execution_count": 24,
   "metadata": {},
   "outputs": [
    {
     "data": {
      "text/plain": [
       "0       31/12/2013\n",
       "1       31/12/2013\n",
       "2       31/12/2013\n",
       "3       31/12/2013\n",
       "4       31/12/2013\n",
       "           ...    \n",
       "4493    31/12/2013\n",
       "4494    31/12/2013\n",
       "4495    31/12/2013\n",
       "4496    31/12/2013\n",
       "4497    31/12/2013\n",
       "Name: data lançamento, Length: 4498, dtype: object"
      ]
     },
     "execution_count": 24,
     "metadata": {},
     "output_type": "execute_result"
    }
   ],
   "source": [
    "df_13[\"data lançamento\"]"
   ]
  },
  {
   "cell_type": "code",
   "execution_count": 25,
   "metadata": {},
   "outputs": [
    {
     "name": "stdout",
     "output_type": "stream",
     "text": [
      "<class 'pandas.core.frame.DataFrame'>\n",
      "RangeIndex: 4498 entries, 0 to 4497\n",
      "Data columns (total 16 columns):\n",
      " #   Column                     Non-Null Count  Dtype  \n",
      "---  ------                     --------------  -----  \n",
      " 0   código órgão superior      4282 non-null   float64\n",
      " 1   nome órgão superior        4263 non-null   object \n",
      " 2   código órgão               4362 non-null   float64\n",
      " 3   nome órgão                 4286 non-null   object \n",
      " 4   código unidade gestora     4324 non-null   float64\n",
      " 5   nome unidade gestora       4278 non-null   object \n",
      " 6   categoria econômica        4303 non-null   object \n",
      " 7   origem receita             4413 non-null   object \n",
      " 8   espécie receita            4355 non-null   object \n",
      " 9   detalhamento               4377 non-null   object \n",
      " 10  valor previsto atualizado  4273 non-null   object \n",
      " 11  valor lançado              4282 non-null   object \n",
      " 12  valor realizado            4309 non-null   object \n",
      " 13  percentual realizado       4360 non-null   object \n",
      " 14  data lançamento            4398 non-null   object \n",
      " 15  ano exercício              4498 non-null   float64\n",
      "dtypes: float64(4), object(12)\n",
      "memory usage: 562.4+ KB\n"
     ]
    }
   ],
   "source": [
    "df_13.info()"
   ]
  },
  {
   "cell_type": "code",
   "execution_count": 26,
   "metadata": {},
   "outputs": [
    {
     "data": {
      "text/html": [
       "<div>\n",
       "<style scoped>\n",
       "    .dataframe tbody tr th:only-of-type {\n",
       "        vertical-align: middle;\n",
       "    }\n",
       "\n",
       "    .dataframe tbody tr th {\n",
       "        vertical-align: top;\n",
       "    }\n",
       "\n",
       "    .dataframe thead th {\n",
       "        text-align: right;\n",
       "    }\n",
       "</style>\n",
       "<table border=\"1\" class=\"dataframe\">\n",
       "  <thead>\n",
       "    <tr style=\"text-align: right;\">\n",
       "      <th></th>\n",
       "      <th>count</th>\n",
       "      <th>unique</th>\n",
       "      <th>top</th>\n",
       "      <th>freq</th>\n",
       "    </tr>\n",
       "  </thead>\n",
       "  <tbody>\n",
       "    <tr>\n",
       "      <th>nome órgão superior</th>\n",
       "      <td>4263</td>\n",
       "      <td>24</td>\n",
       "      <td>Ministério da Educação</td>\n",
       "      <td>1752</td>\n",
       "    </tr>\n",
       "    <tr>\n",
       "      <th>nome órgão</th>\n",
       "      <td>4286</td>\n",
       "      <td>264</td>\n",
       "      <td>Ministério da Economia - Unidades com vínculo ...</td>\n",
       "      <td>476</td>\n",
       "    </tr>\n",
       "    <tr>\n",
       "      <th>nome unidade gestora</th>\n",
       "      <td>4278</td>\n",
       "      <td>279</td>\n",
       "      <td>SETORIAL ORCAMENTARIA E FINANCEIRA / ME</td>\n",
       "      <td>392</td>\n",
       "    </tr>\n",
       "    <tr>\n",
       "      <th>categoria econômica</th>\n",
       "      <td>4303</td>\n",
       "      <td>4</td>\n",
       "      <td>Receitas Correntes</td>\n",
       "      <td>3829</td>\n",
       "    </tr>\n",
       "    <tr>\n",
       "      <th>origem receita</th>\n",
       "      <td>4413</td>\n",
       "      <td>15</td>\n",
       "      <td>Outras Receitas Correntes</td>\n",
       "      <td>1945</td>\n",
       "    </tr>\n",
       "    <tr>\n",
       "      <th>espécie receita</th>\n",
       "      <td>4355</td>\n",
       "      <td>44</td>\n",
       "      <td>Receita de Serviços</td>\n",
       "      <td>955</td>\n",
       "    </tr>\n",
       "    <tr>\n",
       "      <th>detalhamento</th>\n",
       "      <td>4377</td>\n",
       "      <td>694</td>\n",
       "      <td>RECUPERACAO DE DESPESAS DE EXERC. ANTERIORES</td>\n",
       "      <td>210</td>\n",
       "    </tr>\n",
       "    <tr>\n",
       "      <th>valor previsto atualizado</th>\n",
       "      <td>4273</td>\n",
       "      <td>2646</td>\n",
       "      <td>0,00</td>\n",
       "      <td>1546</td>\n",
       "    </tr>\n",
       "    <tr>\n",
       "      <th>valor lançado</th>\n",
       "      <td>4282</td>\n",
       "      <td>51</td>\n",
       "      <td>0,00</td>\n",
       "      <td>4232</td>\n",
       "    </tr>\n",
       "    <tr>\n",
       "      <th>valor realizado</th>\n",
       "      <td>4309</td>\n",
       "      <td>3583</td>\n",
       "      <td>0,00</td>\n",
       "      <td>678</td>\n",
       "    </tr>\n",
       "    <tr>\n",
       "      <th>percentual realizado</th>\n",
       "      <td>4360</td>\n",
       "      <td>570</td>\n",
       "      <td>0,00</td>\n",
       "      <td>2244</td>\n",
       "    </tr>\n",
       "    <tr>\n",
       "      <th>data lançamento</th>\n",
       "      <td>4398</td>\n",
       "      <td>1</td>\n",
       "      <td>31/12/2013</td>\n",
       "      <td>4398</td>\n",
       "    </tr>\n",
       "  </tbody>\n",
       "</table>\n",
       "</div>"
      ],
      "text/plain": [
       "                          count unique  \\\n",
       "nome órgão superior        4263     24   \n",
       "nome órgão                 4286    264   \n",
       "nome unidade gestora       4278    279   \n",
       "categoria econômica        4303      4   \n",
       "origem receita             4413     15   \n",
       "espécie receita            4355     44   \n",
       "detalhamento               4377    694   \n",
       "valor previsto atualizado  4273   2646   \n",
       "valor lançado              4282     51   \n",
       "valor realizado            4309   3583   \n",
       "percentual realizado       4360    570   \n",
       "data lançamento            4398      1   \n",
       "\n",
       "                                                                         top  \\\n",
       "nome órgão superior                                   Ministério da Educação   \n",
       "nome órgão                 Ministério da Economia - Unidades com vínculo ...   \n",
       "nome unidade gestora                 SETORIAL ORCAMENTARIA E FINANCEIRA / ME   \n",
       "categoria econômica                                       Receitas Correntes   \n",
       "origem receita                                     Outras Receitas Correntes   \n",
       "espécie receita                                          Receita de Serviços   \n",
       "detalhamento                    RECUPERACAO DE DESPESAS DE EXERC. ANTERIORES   \n",
       "valor previsto atualizado                                               0,00   \n",
       "valor lançado                                                           0,00   \n",
       "valor realizado                                                         0,00   \n",
       "percentual realizado                                                    0,00   \n",
       "data lançamento                                                   31/12/2013   \n",
       "\n",
       "                           freq  \n",
       "nome órgão superior        1752  \n",
       "nome órgão                  476  \n",
       "nome unidade gestora        392  \n",
       "categoria econômica        3829  \n",
       "origem receita             1945  \n",
       "espécie receita             955  \n",
       "detalhamento                210  \n",
       "valor previsto atualizado  1546  \n",
       "valor lançado              4232  \n",
       "valor realizado             678  \n",
       "percentual realizado       2244  \n",
       "data lançamento            4398  "
      ]
     },
     "execution_count": 26,
     "metadata": {},
     "output_type": "execute_result"
    }
   ],
   "source": [
    "df_13.describe(include =\"O\").T"
   ]
  },
  {
   "cell_type": "code",
   "execution_count": 27,
   "metadata": {},
   "outputs": [
    {
     "data": {
      "text/html": [
       "<div>\n",
       "<style scoped>\n",
       "    .dataframe tbody tr th:only-of-type {\n",
       "        vertical-align: middle;\n",
       "    }\n",
       "\n",
       "    .dataframe tbody tr th {\n",
       "        vertical-align: top;\n",
       "    }\n",
       "\n",
       "    .dataframe thead th {\n",
       "        text-align: right;\n",
       "    }\n",
       "</style>\n",
       "<table border=\"1\" class=\"dataframe\">\n",
       "  <thead>\n",
       "    <tr style=\"text-align: right;\">\n",
       "      <th></th>\n",
       "      <th>count</th>\n",
       "      <th>mean</th>\n",
       "      <th>std</th>\n",
       "      <th>min</th>\n",
       "      <th>25%</th>\n",
       "      <th>50%</th>\n",
       "      <th>75%</th>\n",
       "      <th>max</th>\n",
       "    </tr>\n",
       "  </thead>\n",
       "  <tbody>\n",
       "    <tr>\n",
       "      <th>código órgão superior</th>\n",
       "      <td>4282.0</td>\n",
       "      <td>31739.607660</td>\n",
       "      <td>10692.607398</td>\n",
       "      <td>20000.0</td>\n",
       "      <td>25000.0</td>\n",
       "      <td>26000.0</td>\n",
       "      <td>36000.0</td>\n",
       "      <td>81000.0</td>\n",
       "    </tr>\n",
       "    <tr>\n",
       "      <th>código órgão</th>\n",
       "      <td>4362.0</td>\n",
       "      <td>31484.209995</td>\n",
       "      <td>10810.318732</td>\n",
       "      <td>20101.0</td>\n",
       "      <td>26000.0</td>\n",
       "      <td>26292.0</td>\n",
       "      <td>35000.0</td>\n",
       "      <td>91214.0</td>\n",
       "    </tr>\n",
       "    <tr>\n",
       "      <th>código unidade gestora</th>\n",
       "      <td>4324.0</td>\n",
       "      <td>232766.252775</td>\n",
       "      <td>141238.719759</td>\n",
       "      <td>110005.0</td>\n",
       "      <td>153978.0</td>\n",
       "      <td>160075.0</td>\n",
       "      <td>253003.0</td>\n",
       "      <td>913001.0</td>\n",
       "    </tr>\n",
       "    <tr>\n",
       "      <th>ano exercício</th>\n",
       "      <td>4498.0</td>\n",
       "      <td>2013.000000</td>\n",
       "      <td>0.000000</td>\n",
       "      <td>2013.0</td>\n",
       "      <td>2013.0</td>\n",
       "      <td>2013.0</td>\n",
       "      <td>2013.0</td>\n",
       "      <td>2013.0</td>\n",
       "    </tr>\n",
       "  </tbody>\n",
       "</table>\n",
       "</div>"
      ],
      "text/plain": [
       "                         count           mean            std       min  \\\n",
       "código órgão superior   4282.0   31739.607660   10692.607398   20000.0   \n",
       "código órgão            4362.0   31484.209995   10810.318732   20101.0   \n",
       "código unidade gestora  4324.0  232766.252775  141238.719759  110005.0   \n",
       "ano exercício           4498.0    2013.000000       0.000000    2013.0   \n",
       "\n",
       "                             25%       50%       75%       max  \n",
       "código órgão superior    25000.0   26000.0   36000.0   81000.0  \n",
       "código órgão             26000.0   26292.0   35000.0   91214.0  \n",
       "código unidade gestora  153978.0  160075.0  253003.0  913001.0  \n",
       "ano exercício             2013.0    2013.0    2013.0    2013.0  "
      ]
     },
     "execution_count": 27,
     "metadata": {},
     "output_type": "execute_result"
    }
   ],
   "source": [
    "df_13.describe().T"
   ]
  },
  {
   "cell_type": "markdown",
   "metadata": {},
   "source": [
    "Tengo que:  \n",
    "  \n",
    "  - Pasar data lazamiento a datetime  DONE\n",
    "  - ver si puedo acabar con nulos de alguna manera para eliminar float como tipo\n",
    "  - las 3 de valores a int o float y el porcentaje que está en texto por 125 quiero eliminar los puntos por si hay un (1.500,00) para tenerlo así(1500,0) y luego ya replace la , para (1500.00) y tenerlo en float DONE\n",
    "\n"
   ]
  },
  {
   "cell_type": "markdown",
   "metadata": {},
   "source": [
    "**Transformación de valores**"
   ]
  },
  {
   "cell_type": "code",
   "execution_count": 28,
   "metadata": {},
   "outputs": [
    {
     "name": "stderr",
     "output_type": "stream",
     "text": [
      "C:\\Users\\jaime\\AppData\\Local\\Temp\\ipykernel_22112\\2231175003.py:1: UserWarning: Parsing dates in %d/%m/%Y format when dayfirst=False (the default) was specified. Pass `dayfirst=True` or specify a format to silence this warning.\n",
      "  df_13[\"data lançamento\"] = pd.to_datetime(df_13[\"data lançamento\"])\n"
     ]
    },
    {
     "data": {
      "text/plain": [
       "0      2013-12-31\n",
       "1      2013-12-31\n",
       "2      2013-12-31\n",
       "3      2013-12-31\n",
       "4      2013-12-31\n",
       "          ...    \n",
       "4493   2013-12-31\n",
       "4494   2013-12-31\n",
       "4495   2013-12-31\n",
       "4496   2013-12-31\n",
       "4497   2013-12-31\n",
       "Name: data lançamento, Length: 4498, dtype: datetime64[ns]"
      ]
     },
     "execution_count": 28,
     "metadata": {},
     "output_type": "execute_result"
    }
   ],
   "source": [
    "df_13[\"data lançamento\"] = pd.to_datetime(df_13[\"data lançamento\"]) \n",
    "df_13[\"data lançamento\"]"
   ]
  },
  {
   "cell_type": "code",
   "execution_count": 29,
   "metadata": {},
   "outputs": [
    {
     "data": {
      "text/plain": [
       "0            1297.13\n",
       "1        26666621.42\n",
       "2          301251.13\n",
       "3            1855.58\n",
       "4           52140.68\n",
       "            ...     \n",
       "4493            8.34\n",
       "4494            0.28\n",
       "4495        61593.03\n",
       "4496    161286016.04\n",
       "4497      1100465.84\n",
       "Name: valor realizado, Length: 4498, dtype: object"
      ]
     },
     "execution_count": 29,
     "metadata": {},
     "output_type": "execute_result"
    }
   ],
   "source": [
    "df_13[\"valor realizado\"]= df_13[\"valor realizado\"].str.replace(\",\",\".\")\n",
    "df_13[\"valor realizado\"]"
   ]
  },
  {
   "cell_type": "code",
   "execution_count": 30,
   "metadata": {},
   "outputs": [
    {
     "data": {
      "text/plain": [
       "0       1.297130e+03\n",
       "1       2.666662e+07\n",
       "2       3.012511e+05\n",
       "3       1.855580e+03\n",
       "4       5.214068e+04\n",
       "            ...     \n",
       "4493    8.340000e+00\n",
       "4494    2.800000e-01\n",
       "4495    6.159303e+04\n",
       "4496    1.612860e+08\n",
       "4497    1.100466e+06\n",
       "Name: valor realizado, Length: 4498, dtype: float64"
      ]
     },
     "execution_count": 30,
     "metadata": {},
     "output_type": "execute_result"
    }
   ],
   "source": [
    "df_13[\"valor realizado\"] = list(map(float, df_13[\"valor realizado\"]))\n",
    "df_13[\"valor realizado\"]"
   ]
  },
  {
   "cell_type": "code",
   "execution_count": 31,
   "metadata": {},
   "outputs": [
    {
     "data": {
      "text/plain": [
       "0       0,00\n",
       "1       0,00\n",
       "2       0,00\n",
       "3       0,00\n",
       "4       0,00\n",
       "        ... \n",
       "4493    0,00\n",
       "4494    0,00\n",
       "4495    0,00\n",
       "4496    0,00\n",
       "4497    0,00\n",
       "Name: valor lançado, Length: 4498, dtype: object"
      ]
     },
     "execution_count": 31,
     "metadata": {},
     "output_type": "execute_result"
    }
   ],
   "source": [
    "df_13[\"valor lançado\"]"
   ]
  },
  {
   "cell_type": "code",
   "execution_count": 32,
   "metadata": {},
   "outputs": [
    {
     "data": {
      "text/plain": [
       "0               0,00\n",
       "1               0,00\n",
       "2               0,00\n",
       "3               0,00\n",
       "4               0,00\n",
       "            ...     \n",
       "4493            0,00\n",
       "4494            0,00\n",
       "4495            0,00\n",
       "4496    120839273,00\n",
       "4497       500004,00\n",
       "Name: valor previsto atualizado, Length: 4498, dtype: object"
      ]
     },
     "execution_count": 32,
     "metadata": {},
     "output_type": "execute_result"
    }
   ],
   "source": [
    "df_13[\"valor previsto atualizado\"]"
   ]
  },
  {
   "cell_type": "code",
   "execution_count": 33,
   "metadata": {},
   "outputs": [
    {
     "data": {
      "text/plain": [
       "0       0.0\n",
       "1       0.0\n",
       "2       0.0\n",
       "3       0.0\n",
       "4       0.0\n",
       "       ... \n",
       "4493    0.0\n",
       "4494    0.0\n",
       "4495    0.0\n",
       "4496    0.0\n",
       "4497    0.0\n",
       "Name: valor lançado, Length: 4498, dtype: float64"
      ]
     },
     "execution_count": 33,
     "metadata": {},
     "output_type": "execute_result"
    }
   ],
   "source": [
    "df_13[\"valor lançado\"]= df_13[\"valor lançado\"].str.replace(\",\",\".\")\n",
    "df_13[\"valor lançado\"] = list(map(float, df_13[\"valor lançado\"]))\n",
    "df_13[\"valor lançado\"]\n"
   ]
  },
  {
   "cell_type": "code",
   "execution_count": 34,
   "metadata": {},
   "outputs": [
    {
     "data": {
      "text/plain": [
       "0               0.0\n",
       "1               0.0\n",
       "2               0.0\n",
       "3               0.0\n",
       "4               0.0\n",
       "           ...     \n",
       "4493            0.0\n",
       "4494            0.0\n",
       "4495            0.0\n",
       "4496    120839273.0\n",
       "4497       500004.0\n",
       "Name: valor previsto atualizado, Length: 4498, dtype: float64"
      ]
     },
     "execution_count": 34,
     "metadata": {},
     "output_type": "execute_result"
    }
   ],
   "source": [
    "df_13[\"valor previsto atualizado\"]= df_13[\"valor previsto atualizado\"].str.replace(\",\",\".\")\n",
    "df_13[\"valor previsto atualizado\"] = list(map(float, df_13[\"valor previsto atualizado\"]))\n",
    "df_13[\"valor previsto atualizado\"]"
   ]
  },
  {
   "cell_type": "code",
   "execution_count": 35,
   "metadata": {},
   "outputs": [
    {
     "data": {
      "text/plain": [
       "0         0.0\n",
       "1         0.0\n",
       "2         0.0\n",
       "3         0.0\n",
       "4         0.0\n",
       "        ...  \n",
       "4493      0.0\n",
       "4494      0.0\n",
       "4495      0.0\n",
       "4496    133.0\n",
       "4497    220.0\n",
       "Name: percentual realizado, Length: 4498, dtype: float64"
      ]
     },
     "execution_count": 35,
     "metadata": {},
     "output_type": "execute_result"
    }
   ],
   "source": [
    "df_13[\"percentual realizado\"]= df_13[\"percentual realizado\"].str.replace(\",\",\".\")\n",
    "df_13[\"percentual realizado\"] = list(map(float, df_13[\"percentual realizado\"]))\n",
    "df_13[\"percentual realizado\"]"
   ]
  },
  {
   "cell_type": "code",
   "execution_count": 36,
   "metadata": {},
   "outputs": [
    {
     "name": "stdout",
     "output_type": "stream",
     "text": [
      "<class 'pandas.core.frame.DataFrame'>\n",
      "RangeIndex: 4498 entries, 0 to 4497\n",
      "Data columns (total 16 columns):\n",
      " #   Column                     Non-Null Count  Dtype         \n",
      "---  ------                     --------------  -----         \n",
      " 0   código órgão superior      4282 non-null   float64       \n",
      " 1   nome órgão superior        4263 non-null   object        \n",
      " 2   código órgão               4362 non-null   float64       \n",
      " 3   nome órgão                 4286 non-null   object        \n",
      " 4   código unidade gestora     4324 non-null   float64       \n",
      " 5   nome unidade gestora       4278 non-null   object        \n",
      " 6   categoria econômica        4303 non-null   object        \n",
      " 7   origem receita             4413 non-null   object        \n",
      " 8   espécie receita            4355 non-null   object        \n",
      " 9   detalhamento               4377 non-null   object        \n",
      " 10  valor previsto atualizado  4273 non-null   float64       \n",
      " 11  valor lançado              4282 non-null   float64       \n",
      " 12  valor realizado            4309 non-null   float64       \n",
      " 13  percentual realizado       4360 non-null   float64       \n",
      " 14  data lançamento            4398 non-null   datetime64[ns]\n",
      " 15  ano exercício              4498 non-null   float64       \n",
      "dtypes: datetime64[ns](1), float64(8), object(7)\n",
      "memory usage: 562.4+ KB\n"
     ]
    }
   ],
   "source": [
    "df_13.info()"
   ]
  },
  {
   "cell_type": "code",
   "execution_count": 37,
   "metadata": {},
   "outputs": [
    {
     "name": "stdout",
     "output_type": "stream",
     "text": [
      "<class 'pandas.core.frame.DataFrame'>\n",
      "RangeIndex: 4553 entries, 0 to 4552\n",
      "Data columns (total 16 columns):\n",
      " #   Column                     Non-Null Count  Dtype  \n",
      "---  ------                     --------------  -----  \n",
      " 0   código órgão superior      4331 non-null   float64\n",
      " 1   nome órgão superior        2959 non-null   object \n",
      " 2   código órgão               4493 non-null   float64\n",
      " 3   nome órgão                 4439 non-null   object \n",
      " 4   código unidade gestora     4332 non-null   float64\n",
      " 5   nome unidade gestora       4392 non-null   object \n",
      " 6   categoria econômica        4502 non-null   object \n",
      " 7   origem receita             4487 non-null   object \n",
      " 8   espécie receita            4455 non-null   object \n",
      " 9   detalhamento               4506 non-null   object \n",
      " 10  valor previsto atualizado  4325 non-null   object \n",
      " 11  valor lançado              4375 non-null   object \n",
      " 12  valor realizado            4328 non-null   object \n",
      " 13  percentual realizado       4437 non-null   object \n",
      " 14  data lançamento            4411 non-null   object \n",
      " 15  ano exercício              4553 non-null   float64\n",
      "dtypes: float64(4), object(12)\n",
      "memory usage: 569.3+ KB\n"
     ]
    }
   ],
   "source": [
    "df_14.info()"
   ]
  },
  {
   "cell_type": "code",
   "execution_count": 38,
   "metadata": {},
   "outputs": [
    {
     "data": {
      "text/html": [
       "<div>\n",
       "<style scoped>\n",
       "    .dataframe tbody tr th:only-of-type {\n",
       "        vertical-align: middle;\n",
       "    }\n",
       "\n",
       "    .dataframe tbody tr th {\n",
       "        vertical-align: top;\n",
       "    }\n",
       "\n",
       "    .dataframe thead th {\n",
       "        text-align: right;\n",
       "    }\n",
       "</style>\n",
       "<table border=\"1\" class=\"dataframe\">\n",
       "  <thead>\n",
       "    <tr style=\"text-align: right;\">\n",
       "      <th></th>\n",
       "      <th>count</th>\n",
       "      <th>mean</th>\n",
       "      <th>std</th>\n",
       "      <th>min</th>\n",
       "      <th>25%</th>\n",
       "      <th>50%</th>\n",
       "      <th>75%</th>\n",
       "      <th>max</th>\n",
       "    </tr>\n",
       "  </thead>\n",
       "  <tbody>\n",
       "    <tr>\n",
       "      <th>código órgão superior</th>\n",
       "      <td>4331.0</td>\n",
       "      <td>31847.841145</td>\n",
       "      <td>10813.244886</td>\n",
       "      <td>20000.0</td>\n",
       "      <td>25000.0</td>\n",
       "      <td>26000.0</td>\n",
       "      <td>36000.0</td>\n",
       "      <td>81000.0</td>\n",
       "    </tr>\n",
       "    <tr>\n",
       "      <th>código órgão</th>\n",
       "      <td>4493.0</td>\n",
       "      <td>31818.443356</td>\n",
       "      <td>11143.198081</td>\n",
       "      <td>20101.0</td>\n",
       "      <td>26000.0</td>\n",
       "      <td>26298.0</td>\n",
       "      <td>36201.0</td>\n",
       "      <td>91214.0</td>\n",
       "    </tr>\n",
       "    <tr>\n",
       "      <th>código unidade gestora</th>\n",
       "      <td>4332.0</td>\n",
       "      <td>236574.978532</td>\n",
       "      <td>145862.242362</td>\n",
       "      <td>110005.0</td>\n",
       "      <td>153167.0</td>\n",
       "      <td>160075.0</td>\n",
       "      <td>255000.0</td>\n",
       "      <td>913001.0</td>\n",
       "    </tr>\n",
       "    <tr>\n",
       "      <th>ano exercício</th>\n",
       "      <td>4553.0</td>\n",
       "      <td>2014.000000</td>\n",
       "      <td>0.000000</td>\n",
       "      <td>2014.0</td>\n",
       "      <td>2014.0</td>\n",
       "      <td>2014.0</td>\n",
       "      <td>2014.0</td>\n",
       "      <td>2014.0</td>\n",
       "    </tr>\n",
       "  </tbody>\n",
       "</table>\n",
       "</div>"
      ],
      "text/plain": [
       "                         count           mean            std       min  \\\n",
       "código órgão superior   4331.0   31847.841145   10813.244886   20000.0   \n",
       "código órgão            4493.0   31818.443356   11143.198081   20101.0   \n",
       "código unidade gestora  4332.0  236574.978532  145862.242362  110005.0   \n",
       "ano exercício           4553.0    2014.000000       0.000000    2014.0   \n",
       "\n",
       "                             25%       50%       75%       max  \n",
       "código órgão superior    25000.0   26000.0   36000.0   81000.0  \n",
       "código órgão             26000.0   26298.0   36201.0   91214.0  \n",
       "código unidade gestora  153167.0  160075.0  255000.0  913001.0  \n",
       "ano exercício             2014.0    2014.0    2014.0    2014.0  "
      ]
     },
     "execution_count": 38,
     "metadata": {},
     "output_type": "execute_result"
    }
   ],
   "source": [
    "df_14.describe().T"
   ]
  },
  {
   "cell_type": "code",
   "execution_count": 39,
   "metadata": {},
   "outputs": [
    {
     "name": "stdout",
     "output_type": "stream",
     "text": [
      "<class 'pandas.core.frame.DataFrame'>\n",
      "RangeIndex: 4523 entries, 0 to 4522\n",
      "Data columns (total 16 columns):\n",
      " #   Column                     Non-Null Count  Dtype  \n",
      "---  ------                     --------------  -----  \n",
      " 0   código órgão superior      4324 non-null   float64\n",
      " 1   nome órgão superior        2940 non-null   object \n",
      " 2   código órgão               4351 non-null   float64\n",
      " 3   nome órgão                 4361 non-null   object \n",
      " 4   código unidade gestora     4326 non-null   float64\n",
      " 5   nome unidade gestora       4449 non-null   object \n",
      " 6   categoria econômica        4463 non-null   object \n",
      " 7   origem receita             4346 non-null   object \n",
      " 8   espécie receita            4320 non-null   object \n",
      " 9   detalhamento               4393 non-null   object \n",
      " 10  valor previsto atualizado  4297 non-null   object \n",
      " 11  valor lançado              4381 non-null   object \n",
      " 12  valor realizado            4351 non-null   object \n",
      " 13  percentual realizado       4322 non-null   object \n",
      " 14  data lançamento            4398 non-null   object \n",
      " 15  ano exercício              4523 non-null   float64\n",
      "dtypes: float64(4), object(12)\n",
      "memory usage: 565.5+ KB\n"
     ]
    }
   ],
   "source": [
    "df_15.info()"
   ]
  },
  {
   "cell_type": "code",
   "execution_count": 40,
   "metadata": {},
   "outputs": [
    {
     "data": {
      "text/html": [
       "<div>\n",
       "<style scoped>\n",
       "    .dataframe tbody tr th:only-of-type {\n",
       "        vertical-align: middle;\n",
       "    }\n",
       "\n",
       "    .dataframe tbody tr th {\n",
       "        vertical-align: top;\n",
       "    }\n",
       "\n",
       "    .dataframe thead th {\n",
       "        text-align: right;\n",
       "    }\n",
       "</style>\n",
       "<table border=\"1\" class=\"dataframe\">\n",
       "  <thead>\n",
       "    <tr style=\"text-align: right;\">\n",
       "      <th></th>\n",
       "      <th>count</th>\n",
       "      <th>mean</th>\n",
       "      <th>std</th>\n",
       "      <th>min</th>\n",
       "      <th>25%</th>\n",
       "      <th>50%</th>\n",
       "      <th>75%</th>\n",
       "      <th>max</th>\n",
       "    </tr>\n",
       "  </thead>\n",
       "  <tbody>\n",
       "    <tr>\n",
       "      <th>código órgão superior</th>\n",
       "      <td>4324.0</td>\n",
       "      <td>31970.860315</td>\n",
       "      <td>10941.671616</td>\n",
       "      <td>20000.0</td>\n",
       "      <td>25000.0</td>\n",
       "      <td>26000.0</td>\n",
       "      <td>36000.0</td>\n",
       "      <td>81000.0</td>\n",
       "    </tr>\n",
       "    <tr>\n",
       "      <th>código órgão</th>\n",
       "      <td>4351.0</td>\n",
       "      <td>32019.609975</td>\n",
       "      <td>11465.439048</td>\n",
       "      <td>20101.0</td>\n",
       "      <td>26000.0</td>\n",
       "      <td>26298.0</td>\n",
       "      <td>36211.0</td>\n",
       "      <td>91214.0</td>\n",
       "    </tr>\n",
       "    <tr>\n",
       "      <th>código unidade gestora</th>\n",
       "      <td>4326.0</td>\n",
       "      <td>237160.818770</td>\n",
       "      <td>145720.161158</td>\n",
       "      <td>110005.0</td>\n",
       "      <td>153173.0</td>\n",
       "      <td>167086.0</td>\n",
       "      <td>264001.0</td>\n",
       "      <td>913001.0</td>\n",
       "    </tr>\n",
       "    <tr>\n",
       "      <th>ano exercício</th>\n",
       "      <td>4523.0</td>\n",
       "      <td>2015.000000</td>\n",
       "      <td>0.000000</td>\n",
       "      <td>2015.0</td>\n",
       "      <td>2015.0</td>\n",
       "      <td>2015.0</td>\n",
       "      <td>2015.0</td>\n",
       "      <td>2015.0</td>\n",
       "    </tr>\n",
       "  </tbody>\n",
       "</table>\n",
       "</div>"
      ],
      "text/plain": [
       "                         count           mean            std       min  \\\n",
       "código órgão superior   4324.0   31970.860315   10941.671616   20000.0   \n",
       "código órgão            4351.0   32019.609975   11465.439048   20101.0   \n",
       "código unidade gestora  4326.0  237160.818770  145720.161158  110005.0   \n",
       "ano exercício           4523.0    2015.000000       0.000000    2015.0   \n",
       "\n",
       "                             25%       50%       75%       max  \n",
       "código órgão superior    25000.0   26000.0   36000.0   81000.0  \n",
       "código órgão             26000.0   26298.0   36211.0   91214.0  \n",
       "código unidade gestora  153173.0  167086.0  264001.0  913001.0  \n",
       "ano exercício             2015.0    2015.0    2015.0    2015.0  "
      ]
     },
     "execution_count": 40,
     "metadata": {},
     "output_type": "execute_result"
    }
   ],
   "source": [
    "df_15.describe().T"
   ]
  },
  {
   "cell_type": "code",
   "execution_count": 41,
   "metadata": {},
   "outputs": [
    {
     "name": "stdout",
     "output_type": "stream",
     "text": [
      "<class 'pandas.core.frame.DataFrame'>\n",
      "RangeIndex: 194533 entries, 0 to 194532\n",
      "Data columns (total 16 columns):\n",
      " #   Column                     Non-Null Count   Dtype  \n",
      "---  ------                     --------------   -----  \n",
      " 0   código órgão superior      190214 non-null  float64\n",
      " 1   nome órgão superior        126446 non-null  object \n",
      " 2   código órgão               190506 non-null  float64\n",
      " 3   nome órgão                 191144 non-null  object \n",
      " 4   código unidade gestora     185211 non-null  float64\n",
      " 5   nome unidade gestora       191552 non-null  object \n",
      " 6   categoria econômica        192399 non-null  object \n",
      " 7   origem receita             186042 non-null  object \n",
      " 8   espécie receita            190129 non-null  object \n",
      " 9   detalhamento               186707 non-null  object \n",
      " 10  valor previsto atualizado  184806 non-null  object \n",
      " 11  valor lançado              188960 non-null  object \n",
      " 12  valor realizado            188766 non-null  object \n",
      " 13  percentual realizado       192008 non-null  object \n",
      " 14  data lançamento            192088 non-null  object \n",
      " 15  ano exercício              194533 non-null  float64\n",
      "dtypes: float64(4), object(12)\n",
      "memory usage: 23.7+ MB\n"
     ]
    }
   ],
   "source": [
    "df_16.info()"
   ]
  },
  {
   "cell_type": "code",
   "execution_count": 42,
   "metadata": {},
   "outputs": [
    {
     "data": {
      "text/html": [
       "<div>\n",
       "<style scoped>\n",
       "    .dataframe tbody tr th:only-of-type {\n",
       "        vertical-align: middle;\n",
       "    }\n",
       "\n",
       "    .dataframe tbody tr th {\n",
       "        vertical-align: top;\n",
       "    }\n",
       "\n",
       "    .dataframe thead th {\n",
       "        text-align: right;\n",
       "    }\n",
       "</style>\n",
       "<table border=\"1\" class=\"dataframe\">\n",
       "  <thead>\n",
       "    <tr style=\"text-align: right;\">\n",
       "      <th></th>\n",
       "      <th>count</th>\n",
       "      <th>mean</th>\n",
       "      <th>std</th>\n",
       "      <th>min</th>\n",
       "      <th>25%</th>\n",
       "      <th>50%</th>\n",
       "      <th>75%</th>\n",
       "      <th>max</th>\n",
       "    </tr>\n",
       "  </thead>\n",
       "  <tbody>\n",
       "    <tr>\n",
       "      <th>código órgão superior</th>\n",
       "      <td>190214.0</td>\n",
       "      <td>32735.986836</td>\n",
       "      <td>11072.787723</td>\n",
       "      <td>20000.0</td>\n",
       "      <td>26000.0</td>\n",
       "      <td>26000.0</td>\n",
       "      <td>39000.0</td>\n",
       "      <td>81000.0</td>\n",
       "    </tr>\n",
       "    <tr>\n",
       "      <th>código órgão</th>\n",
       "      <td>190506.0</td>\n",
       "      <td>32087.913158</td>\n",
       "      <td>10958.211896</td>\n",
       "      <td>20101.0</td>\n",
       "      <td>26232.0</td>\n",
       "      <td>26406.0</td>\n",
       "      <td>36212.0</td>\n",
       "      <td>91214.0</td>\n",
       "    </tr>\n",
       "    <tr>\n",
       "      <th>código unidade gestora</th>\n",
       "      <td>185211.0</td>\n",
       "      <td>231662.563579</td>\n",
       "      <td>143282.285279</td>\n",
       "      <td>110005.0</td>\n",
       "      <td>153165.0</td>\n",
       "      <td>167086.0</td>\n",
       "      <td>253003.0</td>\n",
       "      <td>913001.0</td>\n",
       "    </tr>\n",
       "    <tr>\n",
       "      <th>ano exercício</th>\n",
       "      <td>194533.0</td>\n",
       "      <td>2016.000000</td>\n",
       "      <td>0.000000</td>\n",
       "      <td>2016.0</td>\n",
       "      <td>2016.0</td>\n",
       "      <td>2016.0</td>\n",
       "      <td>2016.0</td>\n",
       "      <td>2016.0</td>\n",
       "    </tr>\n",
       "  </tbody>\n",
       "</table>\n",
       "</div>"
      ],
      "text/plain": [
       "                           count           mean            std       min  \\\n",
       "código órgão superior   190214.0   32735.986836   11072.787723   20000.0   \n",
       "código órgão            190506.0   32087.913158   10958.211896   20101.0   \n",
       "código unidade gestora  185211.0  231662.563579  143282.285279  110005.0   \n",
       "ano exercício           194533.0    2016.000000       0.000000    2016.0   \n",
       "\n",
       "                             25%       50%       75%       max  \n",
       "código órgão superior    26000.0   26000.0   39000.0   81000.0  \n",
       "código órgão             26232.0   26406.0   36212.0   91214.0  \n",
       "código unidade gestora  153165.0  167086.0  253003.0  913001.0  \n",
       "ano exercício             2016.0    2016.0    2016.0    2016.0  "
      ]
     },
     "execution_count": 42,
     "metadata": {},
     "output_type": "execute_result"
    }
   ],
   "source": [
    "df_16.describe().T"
   ]
  },
  {
   "cell_type": "code",
   "execution_count": 43,
   "metadata": {},
   "outputs": [
    {
     "name": "stdout",
     "output_type": "stream",
     "text": [
      "<class 'pandas.core.frame.DataFrame'>\n",
      "RangeIndex: 190479 entries, 0 to 190478\n",
      "Data columns (total 16 columns):\n",
      " #   Column                     Non-Null Count   Dtype  \n",
      "---  ------                     --------------   -----  \n",
      " 0   código órgão superior      185999 non-null  float64\n",
      " 1   nome órgão superior        123811 non-null  object \n",
      " 2   código órgão               188418 non-null  float64\n",
      " 3   nome órgão                 185457 non-null  object \n",
      " 4   código unidade gestora     186949 non-null  float64\n",
      " 5   nome unidade gestora       188076 non-null  object \n",
      " 6   categoria econômica        187950 non-null  object \n",
      " 7   origem receita             181808 non-null  object \n",
      " 8   espécie receita            181798 non-null  object \n",
      " 9   detalhamento               186726 non-null  object \n",
      " 10  valor previsto atualizado  180955 non-null  object \n",
      " 11  valor lançado              182124 non-null  object \n",
      " 12  valor realizado            182807 non-null  object \n",
      " 13  percentual realizado       186281 non-null  object \n",
      " 14  data lançamento            183488 non-null  object \n",
      " 15  ano exercício              190479 non-null  float64\n",
      "dtypes: float64(4), object(12)\n",
      "memory usage: 23.3+ MB\n"
     ]
    }
   ],
   "source": [
    "df_17.info()"
   ]
  },
  {
   "cell_type": "code",
   "execution_count": 44,
   "metadata": {},
   "outputs": [
    {
     "data": {
      "text/html": [
       "<div>\n",
       "<style scoped>\n",
       "    .dataframe tbody tr th:only-of-type {\n",
       "        vertical-align: middle;\n",
       "    }\n",
       "\n",
       "    .dataframe tbody tr th {\n",
       "        vertical-align: top;\n",
       "    }\n",
       "\n",
       "    .dataframe thead th {\n",
       "        text-align: right;\n",
       "    }\n",
       "</style>\n",
       "<table border=\"1\" class=\"dataframe\">\n",
       "  <thead>\n",
       "    <tr style=\"text-align: right;\">\n",
       "      <th></th>\n",
       "      <th>count</th>\n",
       "      <th>mean</th>\n",
       "      <th>std</th>\n",
       "      <th>min</th>\n",
       "      <th>25%</th>\n",
       "      <th>50%</th>\n",
       "      <th>75%</th>\n",
       "      <th>max</th>\n",
       "    </tr>\n",
       "  </thead>\n",
       "  <tbody>\n",
       "    <tr>\n",
       "      <th>código órgão superior</th>\n",
       "      <td>185999.0</td>\n",
       "      <td>32547.115845</td>\n",
       "      <td>10955.975665</td>\n",
       "      <td>20000.0</td>\n",
       "      <td>26000.0</td>\n",
       "      <td>26000.0</td>\n",
       "      <td>39000.0</td>\n",
       "      <td>81000.0</td>\n",
       "    </tr>\n",
       "    <tr>\n",
       "      <th>código órgão</th>\n",
       "      <td>188418.0</td>\n",
       "      <td>31814.245996</td>\n",
       "      <td>10681.942444</td>\n",
       "      <td>20101.0</td>\n",
       "      <td>26231.0</td>\n",
       "      <td>26405.0</td>\n",
       "      <td>36201.0</td>\n",
       "      <td>91214.0</td>\n",
       "    </tr>\n",
       "    <tr>\n",
       "      <th>código unidade gestora</th>\n",
       "      <td>186949.0</td>\n",
       "      <td>231583.874880</td>\n",
       "      <td>142775.277196</td>\n",
       "      <td>110005.0</td>\n",
       "      <td>153166.0</td>\n",
       "      <td>167086.0</td>\n",
       "      <td>253003.0</td>\n",
       "      <td>913001.0</td>\n",
       "    </tr>\n",
       "    <tr>\n",
       "      <th>ano exercício</th>\n",
       "      <td>190479.0</td>\n",
       "      <td>2016.749999</td>\n",
       "      <td>0.433015</td>\n",
       "      <td>2016.0</td>\n",
       "      <td>2016.5</td>\n",
       "      <td>2017.0</td>\n",
       "      <td>2017.0</td>\n",
       "      <td>2017.0</td>\n",
       "    </tr>\n",
       "  </tbody>\n",
       "</table>\n",
       "</div>"
      ],
      "text/plain": [
       "                           count           mean            std       min  \\\n",
       "código órgão superior   185999.0   32547.115845   10955.975665   20000.0   \n",
       "código órgão            188418.0   31814.245996   10681.942444   20101.0   \n",
       "código unidade gestora  186949.0  231583.874880  142775.277196  110005.0   \n",
       "ano exercício           190479.0    2016.749999       0.433015    2016.0   \n",
       "\n",
       "                             25%       50%       75%       max  \n",
       "código órgão superior    26000.0   26000.0   39000.0   81000.0  \n",
       "código órgão             26231.0   26405.0   36201.0   91214.0  \n",
       "código unidade gestora  153166.0  167086.0  253003.0  913001.0  \n",
       "ano exercício             2016.5    2017.0    2017.0    2017.0  "
      ]
     },
     "execution_count": 44,
     "metadata": {},
     "output_type": "execute_result"
    }
   ],
   "source": [
    "df_17.describe().T"
   ]
  },
  {
   "cell_type": "code",
   "execution_count": 45,
   "metadata": {},
   "outputs": [
    {
     "name": "stdout",
     "output_type": "stream",
     "text": [
      "<class 'pandas.core.frame.DataFrame'>\n",
      "RangeIndex: 173944 entries, 0 to 173943\n",
      "Data columns (total 16 columns):\n",
      " #   Column                     Non-Null Count   Dtype  \n",
      "---  ------                     --------------   -----  \n",
      " 0   código órgão superior      165690 non-null  float64\n",
      " 1   nome órgão superior        113064 non-null  object \n",
      " 2   código órgão               168716 non-null  float64\n",
      " 3   nome órgão                 166611 non-null  object \n",
      " 4   código unidade gestora     166913 non-null  float64\n",
      " 5   nome unidade gestora       171411 non-null  object \n",
      " 6   categoria econômica        170516 non-null  object \n",
      " 7   origem receita             168037 non-null  object \n",
      " 8   espécie receita            166386 non-null  object \n",
      " 9   detalhamento               167435 non-null  object \n",
      " 10  valor previsto atualizado  165247 non-null  object \n",
      " 11  valor lançado              170168 non-null  object \n",
      " 12  valor realizado            165640 non-null  object \n",
      " 13  percentual realizado       171264 non-null  object \n",
      " 14  data lançamento            169298 non-null  object \n",
      " 15  ano exercício              173944 non-null  float64\n",
      "dtypes: float64(4), object(12)\n",
      "memory usage: 21.2+ MB\n"
     ]
    }
   ],
   "source": [
    "df_18.info()"
   ]
  },
  {
   "cell_type": "code",
   "execution_count": 46,
   "metadata": {},
   "outputs": [
    {
     "data": {
      "text/html": [
       "<div>\n",
       "<style scoped>\n",
       "    .dataframe tbody tr th:only-of-type {\n",
       "        vertical-align: middle;\n",
       "    }\n",
       "\n",
       "    .dataframe tbody tr th {\n",
       "        vertical-align: top;\n",
       "    }\n",
       "\n",
       "    .dataframe thead th {\n",
       "        text-align: right;\n",
       "    }\n",
       "</style>\n",
       "<table border=\"1\" class=\"dataframe\">\n",
       "  <thead>\n",
       "    <tr style=\"text-align: right;\">\n",
       "      <th></th>\n",
       "      <th>count</th>\n",
       "      <th>mean</th>\n",
       "      <th>std</th>\n",
       "      <th>min</th>\n",
       "      <th>25%</th>\n",
       "      <th>50%</th>\n",
       "      <th>75%</th>\n",
       "      <th>max</th>\n",
       "    </tr>\n",
       "  </thead>\n",
       "  <tbody>\n",
       "    <tr>\n",
       "      <th>código órgão superior</th>\n",
       "      <td>165690.0</td>\n",
       "      <td>31425.408896</td>\n",
       "      <td>10166.459924</td>\n",
       "      <td>20000.0</td>\n",
       "      <td>25000.00</td>\n",
       "      <td>26000.0</td>\n",
       "      <td>36000.0</td>\n",
       "      <td>81000.0</td>\n",
       "    </tr>\n",
       "    <tr>\n",
       "      <th>código órgão</th>\n",
       "      <td>168716.0</td>\n",
       "      <td>30759.630468</td>\n",
       "      <td>9821.452882</td>\n",
       "      <td>20101.0</td>\n",
       "      <td>25000.00</td>\n",
       "      <td>26285.0</td>\n",
       "      <td>32396.0</td>\n",
       "      <td>91214.0</td>\n",
       "    </tr>\n",
       "    <tr>\n",
       "      <th>código unidade gestora</th>\n",
       "      <td>166913.0</td>\n",
       "      <td>224882.574233</td>\n",
       "      <td>138519.077341</td>\n",
       "      <td>110005.0</td>\n",
       "      <td>154034.00</td>\n",
       "      <td>167086.0</td>\n",
       "      <td>240901.0</td>\n",
       "      <td>913001.0</td>\n",
       "    </tr>\n",
       "    <tr>\n",
       "      <th>ano exercício</th>\n",
       "      <td>173944.0</td>\n",
       "      <td>2017.750000</td>\n",
       "      <td>0.433014</td>\n",
       "      <td>2017.0</td>\n",
       "      <td>2017.75</td>\n",
       "      <td>2018.0</td>\n",
       "      <td>2018.0</td>\n",
       "      <td>2018.0</td>\n",
       "    </tr>\n",
       "  </tbody>\n",
       "</table>\n",
       "</div>"
      ],
      "text/plain": [
       "                           count           mean            std       min  \\\n",
       "código órgão superior   165690.0   31425.408896   10166.459924   20000.0   \n",
       "código órgão            168716.0   30759.630468    9821.452882   20101.0   \n",
       "código unidade gestora  166913.0  224882.574233  138519.077341  110005.0   \n",
       "ano exercício           173944.0    2017.750000       0.433014    2017.0   \n",
       "\n",
       "                              25%       50%       75%       max  \n",
       "código órgão superior    25000.00   26000.0   36000.0   81000.0  \n",
       "código órgão             25000.00   26285.0   32396.0   91214.0  \n",
       "código unidade gestora  154034.00  167086.0  240901.0  913001.0  \n",
       "ano exercício             2017.75    2018.0    2018.0    2018.0  "
      ]
     },
     "execution_count": 46,
     "metadata": {},
     "output_type": "execute_result"
    }
   ],
   "source": [
    "df_18.describe().T"
   ]
  },
  {
   "cell_type": "code",
   "execution_count": 47,
   "metadata": {},
   "outputs": [
    {
     "name": "stdout",
     "output_type": "stream",
     "text": [
      "<class 'pandas.core.frame.DataFrame'>\n",
      "RangeIndex: 176828 entries, 0 to 176827\n",
      "Data columns (total 16 columns):\n",
      " #   Column                     Non-Null Count   Dtype  \n",
      "---  ------                     --------------   -----  \n",
      " 0   código órgão superior      170865 non-null  float64\n",
      " 1   nome órgão superior        114938 non-null  object \n",
      " 2   código órgão               173643 non-null  float64\n",
      " 3   nome órgão                 169862 non-null  object \n",
      " 4   código unidade gestora     171547 non-null  float64\n",
      " 5   nome unidade gestora       174840 non-null  object \n",
      " 6   categoria econômica        174890 non-null  object \n",
      " 7   origem receita             168623 non-null  object \n",
      " 8   espécie receita            172708 non-null  object \n",
      " 9   detalhamento               172006 non-null  object \n",
      " 10  valor previsto atualizado  167987 non-null  object \n",
      " 11  valor lançado              172190 non-null  object \n",
      " 12  valor realizado            169191 non-null  object \n",
      " 13  percentual realizado       170075 non-null  object \n",
      " 14  data lançamento            173914 non-null  object \n",
      " 15  ano exercício              176828 non-null  float64\n",
      "dtypes: float64(4), object(12)\n",
      "memory usage: 21.6+ MB\n"
     ]
    }
   ],
   "source": [
    "df_19.info()"
   ]
  },
  {
   "cell_type": "code",
   "execution_count": 48,
   "metadata": {},
   "outputs": [
    {
     "data": {
      "text/html": [
       "<div>\n",
       "<style scoped>\n",
       "    .dataframe tbody tr th:only-of-type {\n",
       "        vertical-align: middle;\n",
       "    }\n",
       "\n",
       "    .dataframe tbody tr th {\n",
       "        vertical-align: top;\n",
       "    }\n",
       "\n",
       "    .dataframe thead th {\n",
       "        text-align: right;\n",
       "    }\n",
       "</style>\n",
       "<table border=\"1\" class=\"dataframe\">\n",
       "  <thead>\n",
       "    <tr style=\"text-align: right;\">\n",
       "      <th></th>\n",
       "      <th>count</th>\n",
       "      <th>mean</th>\n",
       "      <th>std</th>\n",
       "      <th>min</th>\n",
       "      <th>25%</th>\n",
       "      <th>50%</th>\n",
       "      <th>75%</th>\n",
       "      <th>max</th>\n",
       "    </tr>\n",
       "  </thead>\n",
       "  <tbody>\n",
       "    <tr>\n",
       "      <th>código órgão superior</th>\n",
       "      <td>170865.0</td>\n",
       "      <td>31409.703567</td>\n",
       "      <td>10161.744743</td>\n",
       "      <td>20000.0</td>\n",
       "      <td>25000.00</td>\n",
       "      <td>26000.0</td>\n",
       "      <td>36000.0</td>\n",
       "      <td>81000.0</td>\n",
       "    </tr>\n",
       "    <tr>\n",
       "      <th>código órgão</th>\n",
       "      <td>173643.0</td>\n",
       "      <td>30825.272945</td>\n",
       "      <td>9834.693796</td>\n",
       "      <td>20101.0</td>\n",
       "      <td>25000.00</td>\n",
       "      <td>26290.0</td>\n",
       "      <td>32396.0</td>\n",
       "      <td>91214.0</td>\n",
       "    </tr>\n",
       "    <tr>\n",
       "      <th>código unidade gestora</th>\n",
       "      <td>171547.0</td>\n",
       "      <td>225092.502475</td>\n",
       "      <td>139752.985581</td>\n",
       "      <td>110005.0</td>\n",
       "      <td>154039.00</td>\n",
       "      <td>167086.0</td>\n",
       "      <td>240102.0</td>\n",
       "      <td>913001.0</td>\n",
       "    </tr>\n",
       "    <tr>\n",
       "      <th>ano exercício</th>\n",
       "      <td>176828.0</td>\n",
       "      <td>2018.750000</td>\n",
       "      <td>0.433014</td>\n",
       "      <td>2018.0</td>\n",
       "      <td>2018.75</td>\n",
       "      <td>2019.0</td>\n",
       "      <td>2019.0</td>\n",
       "      <td>2019.0</td>\n",
       "    </tr>\n",
       "  </tbody>\n",
       "</table>\n",
       "</div>"
      ],
      "text/plain": [
       "                           count           mean            std       min  \\\n",
       "código órgão superior   170865.0   31409.703567   10161.744743   20000.0   \n",
       "código órgão            173643.0   30825.272945    9834.693796   20101.0   \n",
       "código unidade gestora  171547.0  225092.502475  139752.985581  110005.0   \n",
       "ano exercício           176828.0    2018.750000       0.433014    2018.0   \n",
       "\n",
       "                              25%       50%       75%       max  \n",
       "código órgão superior    25000.00   26000.0   36000.0   81000.0  \n",
       "código órgão             25000.00   26290.0   32396.0   91214.0  \n",
       "código unidade gestora  154039.00  167086.0  240102.0  913001.0  \n",
       "ano exercício             2018.75    2019.0    2019.0    2019.0  "
      ]
     },
     "execution_count": 48,
     "metadata": {},
     "output_type": "execute_result"
    }
   ],
   "source": [
    "df_19.describe().T"
   ]
  },
  {
   "cell_type": "code",
   "execution_count": 49,
   "metadata": {},
   "outputs": [
    {
     "name": "stdout",
     "output_type": "stream",
     "text": [
      "<class 'pandas.core.frame.DataFrame'>\n",
      "RangeIndex: 142348 entries, 0 to 142347\n",
      "Data columns (total 16 columns):\n",
      " #   Column                     Non-Null Count   Dtype  \n",
      "---  ------                     --------------   -----  \n",
      " 0   código órgão superior      137044 non-null  float64\n",
      " 1   nome órgão superior        92526 non-null   object \n",
      " 2   código órgão               135491 non-null  float64\n",
      " 3   nome órgão                 135255 non-null  object \n",
      " 4   código unidade gestora     138764 non-null  float64\n",
      " 5   nome unidade gestora       139702 non-null  object \n",
      " 6   categoria econômica        136452 non-null  object \n",
      " 7   origem receita             138019 non-null  object \n",
      " 8   espécie receita            137467 non-null  object \n",
      " 9   detalhamento               138373 non-null  object \n",
      " 10  valor previsto atualizado  135231 non-null  object \n",
      " 11  valor lançado              140252 non-null  object \n",
      " 12  valor realizado            138063 non-null  object \n",
      " 13  percentual realizado       140314 non-null  object \n",
      " 14  data lançamento            139954 non-null  object \n",
      " 15  ano exercício              142348 non-null  float64\n",
      "dtypes: float64(4), object(12)\n",
      "memory usage: 17.4+ MB\n"
     ]
    }
   ],
   "source": [
    "df_20.info()"
   ]
  },
  {
   "cell_type": "code",
   "execution_count": 50,
   "metadata": {},
   "outputs": [
    {
     "data": {
      "text/html": [
       "<div>\n",
       "<style scoped>\n",
       "    .dataframe tbody tr th:only-of-type {\n",
       "        vertical-align: middle;\n",
       "    }\n",
       "\n",
       "    .dataframe tbody tr th {\n",
       "        vertical-align: top;\n",
       "    }\n",
       "\n",
       "    .dataframe thead th {\n",
       "        text-align: right;\n",
       "    }\n",
       "</style>\n",
       "<table border=\"1\" class=\"dataframe\">\n",
       "  <thead>\n",
       "    <tr style=\"text-align: right;\">\n",
       "      <th></th>\n",
       "      <th>count</th>\n",
       "      <th>mean</th>\n",
       "      <th>std</th>\n",
       "      <th>min</th>\n",
       "      <th>25%</th>\n",
       "      <th>50%</th>\n",
       "      <th>75%</th>\n",
       "      <th>max</th>\n",
       "    </tr>\n",
       "  </thead>\n",
       "  <tbody>\n",
       "    <tr>\n",
       "      <th>código órgão superior</th>\n",
       "      <td>137044.0</td>\n",
       "      <td>32086.125624</td>\n",
       "      <td>10598.321210</td>\n",
       "      <td>20000.0</td>\n",
       "      <td>25000.00</td>\n",
       "      <td>26000.0</td>\n",
       "      <td>39000.0</td>\n",
       "      <td>81000.0</td>\n",
       "    </tr>\n",
       "    <tr>\n",
       "      <th>código órgão</th>\n",
       "      <td>135491.0</td>\n",
       "      <td>31579.852618</td>\n",
       "      <td>10454.175702</td>\n",
       "      <td>20101.0</td>\n",
       "      <td>25000.00</td>\n",
       "      <td>26290.0</td>\n",
       "      <td>36201.0</td>\n",
       "      <td>90000.0</td>\n",
       "    </tr>\n",
       "    <tr>\n",
       "      <th>código unidade gestora</th>\n",
       "      <td>138764.0</td>\n",
       "      <td>238443.493471</td>\n",
       "      <td>151544.696762</td>\n",
       "      <td>110005.0</td>\n",
       "      <td>154044.00</td>\n",
       "      <td>170013.0</td>\n",
       "      <td>253003.0</td>\n",
       "      <td>873001.0</td>\n",
       "    </tr>\n",
       "    <tr>\n",
       "      <th>ano exercício</th>\n",
       "      <td>142348.0</td>\n",
       "      <td>2019.750000</td>\n",
       "      <td>0.433014</td>\n",
       "      <td>2019.0</td>\n",
       "      <td>2019.75</td>\n",
       "      <td>2020.0</td>\n",
       "      <td>2020.0</td>\n",
       "      <td>2020.0</td>\n",
       "    </tr>\n",
       "  </tbody>\n",
       "</table>\n",
       "</div>"
      ],
      "text/plain": [
       "                           count           mean            std       min  \\\n",
       "código órgão superior   137044.0   32086.125624   10598.321210   20000.0   \n",
       "código órgão            135491.0   31579.852618   10454.175702   20101.0   \n",
       "código unidade gestora  138764.0  238443.493471  151544.696762  110005.0   \n",
       "ano exercício           142348.0    2019.750000       0.433014    2019.0   \n",
       "\n",
       "                              25%       50%       75%       max  \n",
       "código órgão superior    25000.00   26000.0   39000.0   81000.0  \n",
       "código órgão             25000.00   26290.0   36201.0   90000.0  \n",
       "código unidade gestora  154044.00  170013.0  253003.0  873001.0  \n",
       "ano exercício             2019.75    2020.0    2020.0    2020.0  "
      ]
     },
     "execution_count": 50,
     "metadata": {},
     "output_type": "execute_result"
    }
   ],
   "source": [
    "df_20.describe().T"
   ]
  },
  {
   "cell_type": "code",
   "execution_count": 51,
   "metadata": {},
   "outputs": [
    {
     "name": "stdout",
     "output_type": "stream",
     "text": [
      "<class 'pandas.core.frame.DataFrame'>\n",
      "RangeIndex: 134593 entries, 0 to 134592\n",
      "Data columns (total 16 columns):\n",
      " #   Column                     Non-Null Count   Dtype  \n",
      "---  ------                     --------------   -----  \n",
      " 0   código órgão superior      133191 non-null  float64\n",
      " 1   nome órgão superior        87485 non-null   object \n",
      " 2   código órgão               131202 non-null  float64\n",
      " 3   nome órgão                 129997 non-null  object \n",
      " 4   código unidade gestora     130352 non-null  float64\n",
      " 5   nome unidade gestora       128118 non-null  object \n",
      " 6   categoria econômica        131846 non-null  object \n",
      " 7   origem receita             132106 non-null  object \n",
      " 8   espécie receita            132754 non-null  object \n",
      " 9   detalhamento               132439 non-null  object \n",
      " 10  valor previsto atualizado  127863 non-null  object \n",
      " 11  valor lançado              133148 non-null  object \n",
      " 12  valor realizado            129379 non-null  object \n",
      " 13  percentual realizado       129104 non-null  object \n",
      " 14  data lançamento            130519 non-null  object \n",
      " 15  ano exercício              134593 non-null  float64\n",
      "dtypes: float64(4), object(12)\n",
      "memory usage: 16.4+ MB\n"
     ]
    }
   ],
   "source": [
    "df_21.info()"
   ]
  },
  {
   "cell_type": "code",
   "execution_count": 52,
   "metadata": {},
   "outputs": [
    {
     "data": {
      "text/html": [
       "<div>\n",
       "<style scoped>\n",
       "    .dataframe tbody tr th:only-of-type {\n",
       "        vertical-align: middle;\n",
       "    }\n",
       "\n",
       "    .dataframe tbody tr th {\n",
       "        vertical-align: top;\n",
       "    }\n",
       "\n",
       "    .dataframe thead th {\n",
       "        text-align: right;\n",
       "    }\n",
       "</style>\n",
       "<table border=\"1\" class=\"dataframe\">\n",
       "  <thead>\n",
       "    <tr style=\"text-align: right;\">\n",
       "      <th></th>\n",
       "      <th>count</th>\n",
       "      <th>mean</th>\n",
       "      <th>std</th>\n",
       "      <th>min</th>\n",
       "      <th>25%</th>\n",
       "      <th>50%</th>\n",
       "      <th>75%</th>\n",
       "      <th>max</th>\n",
       "    </tr>\n",
       "  </thead>\n",
       "  <tbody>\n",
       "    <tr>\n",
       "      <th>código órgão superior</th>\n",
       "      <td>133191.0</td>\n",
       "      <td>31980.689386</td>\n",
       "      <td>10477.360150</td>\n",
       "      <td>20000.0</td>\n",
       "      <td>25000.0</td>\n",
       "      <td>26000.0</td>\n",
       "      <td>39000.0</td>\n",
       "      <td>81000.0</td>\n",
       "    </tr>\n",
       "    <tr>\n",
       "      <th>código órgão</th>\n",
       "      <td>131202.0</td>\n",
       "      <td>31457.175340</td>\n",
       "      <td>10274.244983</td>\n",
       "      <td>20101.0</td>\n",
       "      <td>25000.0</td>\n",
       "      <td>26285.0</td>\n",
       "      <td>36000.0</td>\n",
       "      <td>90000.0</td>\n",
       "    </tr>\n",
       "    <tr>\n",
       "      <th>código unidade gestora</th>\n",
       "      <td>130352.0</td>\n",
       "      <td>238690.054506</td>\n",
       "      <td>151288.080629</td>\n",
       "      <td>110005.0</td>\n",
       "      <td>154044.0</td>\n",
       "      <td>170013.0</td>\n",
       "      <td>253002.0</td>\n",
       "      <td>873001.0</td>\n",
       "    </tr>\n",
       "    <tr>\n",
       "      <th>ano exercício</th>\n",
       "      <td>134593.0</td>\n",
       "      <td>2020.750002</td>\n",
       "      <td>0.433013</td>\n",
       "      <td>2020.0</td>\n",
       "      <td>2021.0</td>\n",
       "      <td>2021.0</td>\n",
       "      <td>2021.0</td>\n",
       "      <td>2021.0</td>\n",
       "    </tr>\n",
       "  </tbody>\n",
       "</table>\n",
       "</div>"
      ],
      "text/plain": [
       "                           count           mean            std       min  \\\n",
       "código órgão superior   133191.0   31980.689386   10477.360150   20000.0   \n",
       "código órgão            131202.0   31457.175340   10274.244983   20101.0   \n",
       "código unidade gestora  130352.0  238690.054506  151288.080629  110005.0   \n",
       "ano exercício           134593.0    2020.750002       0.433013    2020.0   \n",
       "\n",
       "                             25%       50%       75%       max  \n",
       "código órgão superior    25000.0   26000.0   39000.0   81000.0  \n",
       "código órgão             25000.0   26285.0   36000.0   90000.0  \n",
       "código unidade gestora  154044.0  170013.0  253002.0  873001.0  \n",
       "ano exercício             2021.0    2021.0    2021.0    2021.0  "
      ]
     },
     "execution_count": 52,
     "metadata": {},
     "output_type": "execute_result"
    }
   ],
   "source": [
    "df_21.describe().T"
   ]
  }
 ],
 "metadata": {
  "kernelspec": {
   "display_name": "Python 3",
   "language": "python",
   "name": "python3"
  },
  "language_info": {
   "codemirror_mode": {
    "name": "ipython",
    "version": 3
   },
   "file_extension": ".py",
   "mimetype": "text/x-python",
   "name": "python",
   "nbconvert_exporter": "python",
   "pygments_lexer": "ipython3",
   "version": "3.11.9"
  }
 },
 "nbformat": 4,
 "nbformat_minor": 2
}
